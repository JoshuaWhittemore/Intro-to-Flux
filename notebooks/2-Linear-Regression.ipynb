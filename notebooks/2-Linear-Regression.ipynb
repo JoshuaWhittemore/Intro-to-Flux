{
 "cells": [
  {
   "cell_type": "markdown",
   "metadata": {},
   "source": [
    "# Simple Linear Regression\n",
    "\n",
    "* We can use gradient descent to train a model to find known parameters."
   ]
  },
  {
   "cell_type": "code",
   "execution_count": 1,
   "metadata": {},
   "outputs": [],
   "source": [
    "using Plots\n",
    "\n",
    "using Flux\n",
    "using Flux: data\n",
    "\n",
    "# \"Backpropagation, or reverse-mode automatic differentiation, is handled by the Flux.Tracker module.\"\n",
    "# https://github.com/FluxML/Flux.jl/blob/master/docs/src/internals/tracker.md\n",
    "\n",
    "using Flux.Tracker\n",
    "using Flux.Tracker: gradient, update!"
   ]
  },
  {
   "cell_type": "code",
   "execution_count": 33,
   "metadata": {},
   "outputs": [
    {
     "data": {
      "text/plain": [
       "2"
      ]
     },
     "execution_count": 33,
     "metadata": {},
     "output_type": "execute_result"
    }
   ],
   "source": [
    "1+1"
   ]
  },
  {
   "cell_type": "code",
   "execution_count": 2,
   "metadata": {},
   "outputs": [
    {
     "ename": "UndefVarError",
     "evalue": "UndefVarError: x not defined",
     "output_type": "error",
     "traceback": [
      "UndefVarError: x not defined",
      "",
      "Stacktrace:",
      " [1] top-level scope at In[2]:4"
     ]
    }
   ],
   "source": [
    "losses = []\n",
    "\n",
    "xs = collect(-5.:5.)\n",
    "\n",
    "# Create some data.  We already know the parameters we're going to \n",
    "# try to find; the slope m is 0.5 and the y-intercept is 1.\n",
    "# y = mx + b\n",
    "y = .5x .+ 1\n",
    "\n",
    "scatter(xs, y, xlabel=\"x\", ylabel=\"y = 0.5x + 1\", leg=false)"
   ]
  },
  {
   "cell_type": "code",
   "execution_count": 3,
   "metadata": {},
   "outputs": [
    {
     "data": {
      "text/plain": [
       "Tracked 1-element Array{Float64,1}:\n",
       " 2.0"
      ]
     },
     "execution_count": 3,
     "metadata": {},
     "output_type": "execute_result"
    }
   ],
   "source": [
    "# Goal, to predict sepal width from sepal length, \n",
    "# i.e. a simple linear regression.\n",
    "\n",
    "# Want slope 'w' and y-intercept 'b', such that:\n",
    "# sepal_width ≈ w*sepal_length + b\n",
    "\n",
    "\n",
    "# Start with some deliberately bad guesses for W and b:\n",
    "# does not converge, not sure why.\n",
    "# W = param(Float64[-2.])\n",
    "# b = param(Float64[14.])\n",
    "\n",
    "\n",
    "# THIS FUCKING WORKS; IT GETS THE Y-INTERCEPT CORRECT!\n",
    "# m = param(Float64[.5])\n",
    "# b = param(Float64[-3])\n",
    "\n",
    "\n",
    "# THIS FUCKING WORKS; IT GETS THE SLOPE CORRECT, WHEN LR IS 0.001\n",
    "# m = param(Float64[.4])\n",
    "# b = param(Float64[1])\n",
    "\n",
    "# \"We can tell Flux to treat something as a parameter via param.\"\n",
    "m = param(Float64[.4])\n",
    "b = param(Float64[2])\n"
   ]
  },
  {
   "cell_type": "code",
   "execution_count": 4,
   "metadata": {},
   "outputs": [
    {
     "ename": "UndefVarError",
     "evalue": "UndefVarError: y not defined",
     "output_type": "error",
     "traceback": [
      "UndefVarError: y not defined",
      "",
      "Stacktrace:",
      " [1] top-level scope at In[4]:1"
     ]
    }
   ],
   "source": [
    "y"
   ]
  },
  {
   "cell_type": "code",
   "execution_count": 5,
   "metadata": {},
   "outputs": [
    {
     "data": {
      "text/plain": [
       "model (generic function with 1 method)"
      ]
     },
     "execution_count": 5,
     "metadata": {},
     "output_type": "execute_result"
    }
   ],
   "source": [
    "# Define a model.\n",
    "model(x, m, b) = m .* x .+ b\n"
   ]
  },
  {
   "cell_type": "code",
   "execution_count": 6,
   "metadata": {},
   "outputs": [
    {
     "ename": "UndefVarError",
     "evalue": "UndefVarError: x not defined",
     "output_type": "error",
     "traceback": [
      "UndefVarError: x not defined",
      "",
      "Stacktrace:",
      " [1] top-level scope at In[6]:1"
     ]
    }
   ],
   "source": [
    "\n",
    "model(x)"
   ]
  },
  {
   "cell_type": "code",
   "execution_count": null,
   "metadata": {},
   "outputs": [],
   "source": []
  },
  {
   "cell_type": "code",
   "execution_count": 7,
   "metadata": {},
   "outputs": [
    {
     "ename": "UndefVarError",
     "evalue": "UndefVarError: x not defined",
     "output_type": "error",
     "traceback": [
      "UndefVarError: x not defined",
      "",
      "Stacktrace:",
      " [1] top-level scope at In[7]:1"
     ]
    }
   ],
   "source": [
    "scatter(x, y, xlabel=\"Sepal Length, Setosa (cm)\", ylabel=\"Sepal Width, Setosa (cm)\", leg=false)\n",
    "plot!(x, data(model(x)), leg=false)"
   ]
  },
  {
   "cell_type": "code",
   "execution_count": null,
   "metadata": {},
   "outputs": [],
   "source": []
  },
  {
   "cell_type": "code",
   "execution_count": 8,
   "metadata": {},
   "outputs": [],
   "source": [
    "#loss(x, y) = Flux.mse(model(x), y)"
   ]
  },
  {
   "cell_type": "code",
   "execution_count": 9,
   "metadata": {},
   "outputs": [
    {
     "data": {
      "text/plain": [
       "loss (generic function with 1 method)"
      ]
     },
     "execution_count": 9,
     "metadata": {},
     "output_type": "execute_result"
    }
   ],
   "source": [
    "function loss(x_, y_)\n",
    "  ŷ = model(x_)\n",
    "  sum((y_ .- ŷ).^2)\n",
    "end\n"
   ]
  },
  {
   "cell_type": "markdown",
   "metadata": {},
   "source": [
    "# Start the training loop\n"
   ]
  },
  {
   "cell_type": "code",
   "execution_count": 10,
   "metadata": {},
   "outputs": [
    {
     "ename": "UndefVarError",
     "evalue": "UndefVarError: sepal_length not defined",
     "output_type": "error",
     "traceback": [
      "UndefVarError: sepal_length not defined",
      "",
      "Stacktrace:",
      " [1] top-level scope at In[10]:1"
     ]
    }
   ],
   "source": [
    "push!(losses, data(loss(sepal_length, sepal_width)))"
   ]
  },
  {
   "cell_type": "code",
   "execution_count": 11,
   "metadata": {},
   "outputs": [
    {
     "ename": "UndefVarError",
     "evalue": "UndefVarError: W not defined",
     "output_type": "error",
     "traceback": [
      "UndefVarError: W not defined",
      "",
      "Stacktrace:",
      " [1] top-level scope at In[11]:1"
     ]
    }
   ],
   "source": [
    "# for current values of W and b, find the gradients with respect to the loss function.\n",
    "\n",
    "grads = gradient(\n",
    "    () -> loss(sepal_length, sepal_width), # anonymous function that takes no arguments.\n",
    "    Params([W, b])\n",
    ")"
   ]
  },
  {
   "cell_type": "code",
   "execution_count": 12,
   "metadata": {},
   "outputs": [
    {
     "ename": "UndefVarError",
     "evalue": "UndefVarError: grads not defined",
     "output_type": "error",
     "traceback": [
      "UndefVarError: grads not defined",
      "",
      "Stacktrace:",
      " [1] top-level scope at show.jl:555",
      " [2] top-level scope at In[12]:1"
     ]
    }
   ],
   "source": [
    "@show grads[W]\n",
    "@show grads[b]"
   ]
  },
  {
   "cell_type": "code",
   "execution_count": 13,
   "metadata": {},
   "outputs": [
    {
     "ename": "UndefVarError",
     "evalue": "UndefVarError: grads not defined",
     "output_type": "error",
     "traceback": [
      "UndefVarError: grads not defined",
      "",
      "Stacktrace:",
      " [1] top-level scope at In[13]:1"
     ]
    }
   ],
   "source": [
    "update!(W, -0.0001.*grads[W])"
   ]
  },
  {
   "cell_type": "code",
   "execution_count": 14,
   "metadata": {},
   "outputs": [
    {
     "ename": "UndefVarError",
     "evalue": "UndefVarError: grads not defined",
     "output_type": "error",
     "traceback": [
      "UndefVarError: grads not defined",
      "",
      "Stacktrace:",
      " [1] top-level scope at In[14]:1"
     ]
    }
   ],
   "source": [
    "update!(b, -0.0001.*grads[b])"
   ]
  },
  {
   "cell_type": "code",
   "execution_count": null,
   "metadata": {},
   "outputs": [],
   "source": []
  },
  {
   "cell_type": "code",
   "execution_count": 15,
   "metadata": {},
   "outputs": [
    {
     "ename": "UndefVarError",
     "evalue": "UndefVarError: x not defined",
     "output_type": "error",
     "traceback": [
      "UndefVarError: x not defined",
      "",
      "Stacktrace:",
      " [1] top-level scope at In[15]:2"
     ]
    }
   ],
   "source": [
    "for i in 1:100\n",
    "    push!(losses, data(loss(x, y)))\n",
    "\n",
    "    grads = gradient(\n",
    "        () -> loss(x, y), # anonymous function that takes no arguments.\n",
    "        Params([m, b])\n",
    "    )\n",
    "\n",
    "    # This LR works if you are just tuning the y-intercept.\n",
    "#    update!(m, -0.001.*grads[m])\n",
    "#    update!(b, -0.001.*grads[b])\n",
    "\n",
    "    # THIS LR WORKS FOR JUST TUNING THE SLOPE.\n",
    "    update!(m, -0.001.*grads[m])\n",
    "    update!(b, -0.001.*grads[b])\n",
    "end\n",
    "\n",
    "scatter(x, y, xlabel=\"Sepal Length, Setosa (cm)\", ylabel=\"Sepal Width, Setosa (cm)\", leg=false)\n",
    "plot!(x, data(model(x)), leg=false)"
   ]
  },
  {
   "cell_type": "code",
   "execution_count": 16,
   "metadata": {},
   "outputs": [
    {
     "data": {
      "image/svg+xml": [
       "<?xml version=\"1.0\" encoding=\"utf-8\"?>\n",
       "<svg xmlns=\"http://www.w3.org/2000/svg\" xmlns:xlink=\"http://www.w3.org/1999/xlink\" width=\"600\" height=\"400\" viewBox=\"0 0 2400 1600\">\n",
       "<defs>\n",
       "  <clipPath id=\"clip8400\">\n",
       "    <rect x=\"0\" y=\"0\" width=\"2000\" height=\"2000\"/>\n",
       "  </clipPath>\n",
       "</defs>\n",
       "<defs>\n",
       "  <clipPath id=\"clip8401\">\n",
       "    <rect x=\"0\" y=\"0\" width=\"2400\" height=\"1600\"/>\n",
       "  </clipPath>\n",
       "</defs>\n",
       "<polygon clip-path=\"url(#clip8401)\" points=\"\n",
       "0,1600 2400,1600 2400,0 0,0 \n",
       "  \" fill=\"#ffffff\" fill-rule=\"evenodd\" fill-opacity=\"1\"/>\n",
       "<defs>\n",
       "  <clipPath id=\"clip8402\">\n",
       "    <rect x=\"480\" y=\"0\" width=\"1681\" height=\"1600\"/>\n",
       "  </clipPath>\n",
       "</defs>\n",
       "<polygon clip-path=\"url(#clip8401)\" points=\"\n",
       "188.156,1503.47 2321.26,1503.47 2321.26,47.2441 188.156,47.2441 \n",
       "  \" fill=\"#ffffff\" fill-rule=\"evenodd\" fill-opacity=\"1\"/>\n",
       "<defs>\n",
       "  <clipPath id=\"clip8403\">\n",
       "    <rect x=\"188\" y=\"47\" width=\"2134\" height=\"1457\"/>\n",
       "  </clipPath>\n",
       "</defs>\n",
       "<polyline clip-path=\"url(#clip8403)\" style=\"stroke:#000000; stroke-width:2; stroke-opacity:0.1; fill:none\" points=\"\n",
       "  248.527,1503.47 248.527,47.2441 \n",
       "  \"/>\n",
       "<polyline clip-path=\"url(#clip8403)\" style=\"stroke:#000000; stroke-width:2; stroke-opacity:0.1; fill:none\" points=\"\n",
       "  751.618,1503.47 751.618,47.2441 \n",
       "  \"/>\n",
       "<polyline clip-path=\"url(#clip8403)\" style=\"stroke:#000000; stroke-width:2; stroke-opacity:0.1; fill:none\" points=\"\n",
       "  1254.71,1503.47 1254.71,47.2441 \n",
       "  \"/>\n",
       "<polyline clip-path=\"url(#clip8403)\" style=\"stroke:#000000; stroke-width:2; stroke-opacity:0.1; fill:none\" points=\"\n",
       "  1757.8,1503.47 1757.8,47.2441 \n",
       "  \"/>\n",
       "<polyline clip-path=\"url(#clip8403)\" style=\"stroke:#000000; stroke-width:2; stroke-opacity:0.1; fill:none\" points=\"\n",
       "  2260.89,1503.47 2260.89,47.2441 \n",
       "  \"/>\n",
       "<polyline clip-path=\"url(#clip8403)\" style=\"stroke:#000000; stroke-width:2; stroke-opacity:0.1; fill:none\" points=\"\n",
       "  188.156,1462.26 2321.26,1462.26 \n",
       "  \"/>\n",
       "<polyline clip-path=\"url(#clip8403)\" style=\"stroke:#000000; stroke-width:2; stroke-opacity:0.1; fill:none\" points=\"\n",
       "  188.156,1118.81 2321.26,1118.81 \n",
       "  \"/>\n",
       "<polyline clip-path=\"url(#clip8403)\" style=\"stroke:#000000; stroke-width:2; stroke-opacity:0.1; fill:none\" points=\"\n",
       "  188.156,775.359 2321.26,775.359 \n",
       "  \"/>\n",
       "<polyline clip-path=\"url(#clip8403)\" style=\"stroke:#000000; stroke-width:2; stroke-opacity:0.1; fill:none\" points=\"\n",
       "  188.156,431.909 2321.26,431.909 \n",
       "  \"/>\n",
       "<polyline clip-path=\"url(#clip8403)\" style=\"stroke:#000000; stroke-width:2; stroke-opacity:0.1; fill:none\" points=\"\n",
       "  188.156,88.4582 2321.26,88.4582 \n",
       "  \"/>\n",
       "<polyline clip-path=\"url(#clip8401)\" style=\"stroke:#000000; stroke-width:4; stroke-opacity:1; fill:none\" points=\"\n",
       "  188.156,1503.47 2321.26,1503.47 \n",
       "  \"/>\n",
       "<polyline clip-path=\"url(#clip8401)\" style=\"stroke:#000000; stroke-width:4; stroke-opacity:1; fill:none\" points=\"\n",
       "  188.156,1503.47 188.156,47.2441 \n",
       "  \"/>\n",
       "<polyline clip-path=\"url(#clip8401)\" style=\"stroke:#000000; stroke-width:4; stroke-opacity:1; fill:none\" points=\"\n",
       "  248.527,1503.47 248.527,1481.63 \n",
       "  \"/>\n",
       "<polyline clip-path=\"url(#clip8401)\" style=\"stroke:#000000; stroke-width:4; stroke-opacity:1; fill:none\" points=\"\n",
       "  751.618,1503.47 751.618,1481.63 \n",
       "  \"/>\n",
       "<polyline clip-path=\"url(#clip8401)\" style=\"stroke:#000000; stroke-width:4; stroke-opacity:1; fill:none\" points=\"\n",
       "  1254.71,1503.47 1254.71,1481.63 \n",
       "  \"/>\n",
       "<polyline clip-path=\"url(#clip8401)\" style=\"stroke:#000000; stroke-width:4; stroke-opacity:1; fill:none\" points=\"\n",
       "  1757.8,1503.47 1757.8,1481.63 \n",
       "  \"/>\n",
       "<polyline clip-path=\"url(#clip8401)\" style=\"stroke:#000000; stroke-width:4; stroke-opacity:1; fill:none\" points=\"\n",
       "  2260.89,1503.47 2260.89,1481.63 \n",
       "  \"/>\n",
       "<polyline clip-path=\"url(#clip8401)\" style=\"stroke:#000000; stroke-width:4; stroke-opacity:1; fill:none\" points=\"\n",
       "  188.156,1462.26 220.153,1462.26 \n",
       "  \"/>\n",
       "<polyline clip-path=\"url(#clip8401)\" style=\"stroke:#000000; stroke-width:4; stroke-opacity:1; fill:none\" points=\"\n",
       "  188.156,1118.81 220.153,1118.81 \n",
       "  \"/>\n",
       "<polyline clip-path=\"url(#clip8401)\" style=\"stroke:#000000; stroke-width:4; stroke-opacity:1; fill:none\" points=\"\n",
       "  188.156,775.359 220.153,775.359 \n",
       "  \"/>\n",
       "<polyline clip-path=\"url(#clip8401)\" style=\"stroke:#000000; stroke-width:4; stroke-opacity:1; fill:none\" points=\"\n",
       "  188.156,431.909 220.153,431.909 \n",
       "  \"/>\n",
       "<polyline clip-path=\"url(#clip8401)\" style=\"stroke:#000000; stroke-width:4; stroke-opacity:1; fill:none\" points=\"\n",
       "  188.156,88.4582 220.153,88.4582 \n",
       "  \"/>\n",
       "<g clip-path=\"url(#clip8401)\">\n",
       "<text style=\"fill:#000000; fill-opacity:1; font-family:Arial,Helvetica Neue,Helvetica,sans-serif; font-size:48px; text-anchor:middle;\" transform=\"rotate(0, 248.527, 1557.47)\" x=\"248.527\" y=\"1557.47\">0.00</text>\n",
       "</g>\n",
       "<g clip-path=\"url(#clip8401)\">\n",
       "<text style=\"fill:#000000; fill-opacity:1; font-family:Arial,Helvetica Neue,Helvetica,sans-serif; font-size:48px; text-anchor:middle;\" transform=\"rotate(0, 751.618, 1557.47)\" x=\"751.618\" y=\"1557.47\">0.25</text>\n",
       "</g>\n",
       "<g clip-path=\"url(#clip8401)\">\n",
       "<text style=\"fill:#000000; fill-opacity:1; font-family:Arial,Helvetica Neue,Helvetica,sans-serif; font-size:48px; text-anchor:middle;\" transform=\"rotate(0, 1254.71, 1557.47)\" x=\"1254.71\" y=\"1557.47\">0.50</text>\n",
       "</g>\n",
       "<g clip-path=\"url(#clip8401)\">\n",
       "<text style=\"fill:#000000; fill-opacity:1; font-family:Arial,Helvetica Neue,Helvetica,sans-serif; font-size:48px; text-anchor:middle;\" transform=\"rotate(0, 1757.8, 1557.47)\" x=\"1757.8\" y=\"1557.47\">0.75</text>\n",
       "</g>\n",
       "<g clip-path=\"url(#clip8401)\">\n",
       "<text style=\"fill:#000000; fill-opacity:1; font-family:Arial,Helvetica Neue,Helvetica,sans-serif; font-size:48px; text-anchor:middle;\" transform=\"rotate(0, 2260.89, 1557.47)\" x=\"2260.89\" y=\"1557.47\">1.00</text>\n",
       "</g>\n",
       "<g clip-path=\"url(#clip8401)\">\n",
       "<text style=\"fill:#000000; fill-opacity:1; font-family:Arial,Helvetica Neue,Helvetica,sans-serif; font-size:48px; text-anchor:end;\" transform=\"rotate(0, 164.156, 1479.76)\" x=\"164.156\" y=\"1479.76\">0.00</text>\n",
       "</g>\n",
       "<g clip-path=\"url(#clip8401)\">\n",
       "<text style=\"fill:#000000; fill-opacity:1; font-family:Arial,Helvetica Neue,Helvetica,sans-serif; font-size:48px; text-anchor:end;\" transform=\"rotate(0, 164.156, 1136.31)\" x=\"164.156\" y=\"1136.31\">0.25</text>\n",
       "</g>\n",
       "<g clip-path=\"url(#clip8401)\">\n",
       "<text style=\"fill:#000000; fill-opacity:1; font-family:Arial,Helvetica Neue,Helvetica,sans-serif; font-size:48px; text-anchor:end;\" transform=\"rotate(0, 164.156, 792.859)\" x=\"164.156\" y=\"792.859\">0.50</text>\n",
       "</g>\n",
       "<g clip-path=\"url(#clip8401)\">\n",
       "<text style=\"fill:#000000; fill-opacity:1; font-family:Arial,Helvetica Neue,Helvetica,sans-serif; font-size:48px; text-anchor:end;\" transform=\"rotate(0, 164.156, 449.409)\" x=\"164.156\" y=\"449.409\">0.75</text>\n",
       "</g>\n",
       "<g clip-path=\"url(#clip8401)\">\n",
       "<text style=\"fill:#000000; fill-opacity:1; font-family:Arial,Helvetica Neue,Helvetica,sans-serif; font-size:48px; text-anchor:end;\" transform=\"rotate(0, 164.156, 105.958)\" x=\"164.156\" y=\"105.958\">1.00</text>\n",
       "</g>\n",
       "<polygon clip-path=\"url(#clip8401)\" points=\"\n",
       "1958.43,251.724 2249.26,251.724 2249.26,130.764 1958.43,130.764 \n",
       "  \" fill=\"#ffffff\" fill-rule=\"evenodd\" fill-opacity=\"1\"/>\n",
       "<polyline clip-path=\"url(#clip8401)\" style=\"stroke:#000000; stroke-width:4; stroke-opacity:1; fill:none\" points=\"\n",
       "  1958.43,251.724 2249.26,251.724 2249.26,130.764 1958.43,130.764 1958.43,251.724 \n",
       "  \"/>\n",
       "<polyline clip-path=\"url(#clip8401)\" style=\"stroke:#009af9; stroke-width:4; stroke-opacity:1; fill:none\" points=\"\n",
       "  1982.43,191.244 2126.43,191.244 \n",
       "  \"/>\n",
       "<g clip-path=\"url(#clip8401)\">\n",
       "<text style=\"fill:#000000; fill-opacity:1; font-family:Arial,Helvetica Neue,Helvetica,sans-serif; font-size:48px; text-anchor:start;\" transform=\"rotate(0, 2150.43, 208.744)\" x=\"2150.43\" y=\"208.744\">y1</text>\n",
       "</g>\n",
       "</svg>\n"
      ]
     },
     "execution_count": 16,
     "metadata": {},
     "output_type": "execute_result"
    }
   ],
   "source": [
    "plot(losses)"
   ]
  },
  {
   "cell_type": "code",
   "execution_count": 17,
   "metadata": {},
   "outputs": [
    {
     "data": {
      "text/plain": [
       "0-element Array{Any,1}"
      ]
     },
     "execution_count": 17,
     "metadata": {},
     "output_type": "execute_result"
    }
   ],
   "source": [
    "losses"
   ]
  },
  {
   "cell_type": "code",
   "execution_count": 18,
   "metadata": {},
   "outputs": [
    {
     "data": {
      "text/plain": [
       "Tracked 1-element Array{Float64,1}:\n",
       " 2.0"
      ]
     },
     "execution_count": 18,
     "metadata": {},
     "output_type": "execute_result"
    }
   ],
   "source": [
    "b"
   ]
  },
  {
   "cell_type": "code",
   "execution_count": 19,
   "metadata": {},
   "outputs": [
    {
     "data": {
      "text/plain": [
       "2.1500000000000004"
      ]
     },
     "execution_count": 19,
     "metadata": {},
     "output_type": "execute_result"
    }
   ],
   "source": [
    "3*1.3 - 1.75"
   ]
  },
  {
   "cell_type": "code",
   "execution_count": 20,
   "metadata": {},
   "outputs": [
    {
     "ename": "UndefVarError",
     "evalue": "UndefVarError: W not defined",
     "output_type": "error",
     "traceback": [
      "UndefVarError: W not defined",
      "",
      "Stacktrace:",
      " [1] top-level scope at In[20]:1"
     ]
    }
   ],
   "source": [
    "W.data"
   ]
  },
  {
   "cell_type": "code",
   "execution_count": 21,
   "metadata": {},
   "outputs": [
    {
     "ename": "UndefVarError",
     "evalue": "UndefVarError: sepal_length not defined",
     "output_type": "error",
     "traceback": [
      "UndefVarError: sepal_length not defined",
      "",
      "Stacktrace:",
      " [1] top-level scope at In[21]:1"
     ]
    }
   ],
   "source": [
    "sepal_length[1:5]"
   ]
  },
  {
   "cell_type": "code",
   "execution_count": 22,
   "metadata": {},
   "outputs": [
    {
     "ename": "UndefVarError",
     "evalue": "UndefVarError: W not defined",
     "output_type": "error",
     "traceback": [
      "UndefVarError: W not defined",
      "",
      "Stacktrace:",
      " [1] top-level scope at In[22]:1"
     ]
    }
   ],
   "source": [
    "W.data .* sepal_length[1:5]"
   ]
  },
  {
   "cell_type": "code",
   "execution_count": 23,
   "metadata": {},
   "outputs": [
    {
     "ename": "UndefVarError",
     "evalue": "UndefVarError: W not defined",
     "output_type": "error",
     "traceback": [
      "UndefVarError: W not defined",
      "",
      "Stacktrace:",
      " [1] top-level scope at In[23]:1"
     ]
    }
   ],
   "source": [
    "W.data .* sepal_length"
   ]
  },
  {
   "cell_type": "code",
   "execution_count": 24,
   "metadata": {},
   "outputs": [
    {
     "ename": "UndefVarError",
     "evalue": "UndefVarError: sepal_length not defined",
     "output_type": "error",
     "traceback": [
      "UndefVarError: sepal_length not defined",
      "",
      "Stacktrace:",
      " [1] top-level scope at In[24]:1"
     ]
    }
   ],
   "source": [
    "data(model(sepal_length))\n"
   ]
  },
  {
   "cell_type": "code",
   "execution_count": null,
   "metadata": {},
   "outputs": [],
   "source": []
  },
  {
   "cell_type": "code",
   "execution_count": null,
   "metadata": {},
   "outputs": [],
   "source": []
  },
  {
   "cell_type": "code",
   "execution_count": null,
   "metadata": {},
   "outputs": [],
   "source": []
  },
  {
   "cell_type": "code",
   "execution_count": null,
   "metadata": {},
   "outputs": [],
   "source": []
  },
  {
   "cell_type": "code",
   "execution_count": null,
   "metadata": {},
   "outputs": [],
   "source": []
  },
  {
   "cell_type": "code",
   "execution_count": 25,
   "metadata": {},
   "outputs": [
    {
     "ename": "UndefVarError",
     "evalue": "UndefVarError: W not defined",
     "output_type": "error",
     "traceback": [
      "UndefVarError: W not defined",
      "",
      "Stacktrace:",
      " [1] top-level scope at show.jl:555",
      " [2] top-level scope at In[25]:1"
     ]
    }
   ],
   "source": [
    "@show W.data\n",
    "@show grads[W]\n",
    "\n",
    "\n",
    "\n",
    "@show Δ\n",
    "@show Δ.data\n",
    "@show -0.001.*grads[W]"
   ]
  },
  {
   "cell_type": "code",
   "execution_count": 26,
   "metadata": {},
   "outputs": [
    {
     "ename": "UndefVarError",
     "evalue": "UndefVarError: W not defined",
     "output_type": "error",
     "traceback": [
      "UndefVarError: W not defined",
      "",
      "Stacktrace:",
      " [1] top-level scope at In[26]:1"
     ]
    }
   ],
   "source": [
    "W.data .+= data(-0.001.*grads[W])"
   ]
  },
  {
   "cell_type": "code",
   "execution_count": 27,
   "metadata": {},
   "outputs": [
    {
     "ename": "UndefVarError",
     "evalue": "UndefVarError: W not defined",
     "output_type": "error",
     "traceback": [
      "UndefVarError: W not defined",
      "",
      "Stacktrace:",
      " [1] top-level scope at In[27]:1"
     ]
    }
   ],
   "source": [
    "W"
   ]
  },
  {
   "cell_type": "code",
   "execution_count": 28,
   "metadata": {},
   "outputs": [
    {
     "ename": "UndefVarError",
     "evalue": "UndefVarError: W not defined",
     "output_type": "error",
     "traceback": [
      "UndefVarError: W not defined",
      "",
      "Stacktrace:",
      " [1] top-level scope at In[28]:2"
     ]
    }
   ],
   "source": [
    "using Flux.Tracker: tracker\n",
    "\n",
    "tracker(W).grad .= 0"
   ]
  },
  {
   "cell_type": "code",
   "execution_count": 29,
   "metadata": {},
   "outputs": [
    {
     "ename": "UndefVarError",
     "evalue": "UndefVarError: grads not defined",
     "output_type": "error",
     "traceback": [
      "UndefVarError: grads not defined",
      "",
      "Stacktrace:",
      " [1] top-level scope at In[29]:1"
     ]
    }
   ],
   "source": [
    "grads[W]"
   ]
  },
  {
   "cell_type": "code",
   "execution_count": 30,
   "metadata": {},
   "outputs": [
    {
     "ename": "UndefVarError",
     "evalue": "UndefVarError: grads not defined",
     "output_type": "error",
     "traceback": [
      "UndefVarError: grads not defined",
      "",
      "Stacktrace:",
      " [1] top-level scope at In[30]:1"
     ]
    }
   ],
   "source": [
    "# Update the parameter and reset the gradient\n",
    "@which update!(W, -0.001.*grads[W])\n",
    "#update!(b, -0.001.*grads[b])\n",
    "\n",
    "\n"
   ]
  },
  {
   "cell_type": "code",
   "execution_count": 31,
   "metadata": {},
   "outputs": [
    {
     "ename": "UndefVarError",
     "evalue": "UndefVarError: sepal_length not defined",
     "output_type": "error",
     "traceback": [
      "UndefVarError: sepal_length not defined",
      "",
      "Stacktrace:",
      " [1] top-level scope at In[31]:1"
     ]
    }
   ],
   "source": [
    "loss(sepal_length, sepal_width)"
   ]
  },
  {
   "cell_type": "code",
   "execution_count": null,
   "metadata": {},
   "outputs": [],
   "source": []
  },
  {
   "cell_type": "code",
   "execution_count": 32,
   "metadata": {},
   "outputs": [
    {
     "ename": "UndefVarError",
     "evalue": "UndefVarError: f not defined",
     "output_type": "error",
     "traceback": [
      "UndefVarError: f not defined",
      "",
      "Stacktrace:",
      " [1] top-level scope at In[32]:7"
     ]
    }
   ],
   "source": [
    "# ok, the model is w and b.\n",
    "\n",
    "# want to adjust those.\n",
    "\n",
    "# need a loss function, to then calculate the mse\n",
    "model(W, b, x) = W * x + b\n",
    "\n",
    "Tracker.gradient(f, 2, 3, 4)\n",
    "\n",
    "loss(x, y) = Flux.mse(model(x), y)"
   ]
  },
  {
   "cell_type": "code",
   "execution_count": null,
   "metadata": {},
   "outputs": [],
   "source": []
  }
 ],
 "metadata": {
  "kernelspec": {
   "display_name": "Julia 1.0.3",
   "language": "julia",
   "name": "julia-1.0"
  },
  "language_info": {
   "file_extension": ".jl",
   "mimetype": "application/julia",
   "name": "julia",
   "version": "1.0.3"
  }
 },
 "nbformat": 4,
 "nbformat_minor": 2
}
