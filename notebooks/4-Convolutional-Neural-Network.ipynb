{
 "cells": [
  {
   "cell_type": "markdown",
   "metadata": {},
   "source": [
    "# Convolutional Neural Network\n",
    "* The task is to classify images of Chinese characters.\n",
    "* Very similar to MNIST, and I used the Model Zoo's MNIST model as a starting point for this: https://github.com/FluxML/model-zoo/tree/master/vision/mnist.\n",
    "* The  dataset was collected by Ryan Harper (https://github.com/kimrharper) from the web site http://char.iis.sinica.edu.tw for a series of meetups of the Portland Data Science Group."
   ]
  },
  {
   "cell_type": "code",
   "execution_count": 1,
   "metadata": {},
   "outputs": [
    {
     "name": "stdout",
     "output_type": "stream",
     "text": [
      "loaded\n"
     ]
    }
   ],
   "source": [
    "using Pkg, Images, Plots, Flux\n",
    "\n",
    "using MLDataUtils: shuffleobs, splitobs\n",
    "using Glob: glob\n",
    "using Statistics: mean, std\n",
    "\n",
    "using Flux: onehotbatch, crossentropy, data, onecold, train!\n"
   ]
  },
  {
   "cell_type": "code",
   "execution_count": 2,
   "metadata": {},
   "outputs": [],
   "source": [
    "# ch_train_set contains 15 directories.  Each directory name is the class\n",
    "# of the image files in the directory.\n",
    "#\n",
    "# a440 a447 a448 a453 a46a a46c a4a3 a4a7 a4bd a4eb a548 a5ce aaf7 b0a8 b6c0\n",
    "\n",
    "INPUT_DIR = \"../input/ch_train_set\"\n",
    "\n",
    "cd(INPUT_DIR)"
   ]
  },
  {
   "cell_type": "code",
   "execution_count": 3,
   "metadata": {},
   "outputs": [
    {
     "data": {
      "text/plain": [
       "\"a440 a447 a448 a453 a46a a46c a4a3 a4a7 a4bd a4eb a548 a5ce aaf7 b0a8 b6c0\""
      ]
     },
     "execution_count": 3,
     "metadata": {},
     "output_type": "execute_result"
    }
   ],
   "source": [
    "labels = glob(\"*\")\n",
    "\n",
    "join(labels, \" \")"
   ]
  },
  {
   "cell_type": "code",
   "execution_count": 4,
   "metadata": {},
   "outputs": [
    {
     "data": {
      "text/plain": [
       "\"a440 a447 a448 a453 a46a a46c a4a3 a4a7 a4bd a4eb a548 a5ce aaf7 b0a8 b6c0\""
      ]
     },
     "execution_count": 4,
     "metadata": {},
     "output_type": "execute_result"
    }
   ],
   "source": [
    "# Only bother with classes that have at least 150 images.\n",
    "# (Actually don't need to do this anymore)\n",
    "labels = [\n",
    "    label\n",
    "    for label in glob(\"*\")\n",
    "    if length(glob(label * \"/*\")) >= 150\n",
    "]\n",
    "\n",
    "join(labels, \" \")"
   ]
  },
  {
   "cell_type": "code",
   "execution_count": 5,
   "metadata": {},
   "outputs": [
    {
     "data": {
      "text/plain": [
       "to_example (generic function with 1 method)"
      ]
     },
     "execution_count": 5,
     "metadata": {},
     "output_type": "execute_result"
    }
   ],
   "source": [
    "# Read the png file and convert to a 2-D Array of floats.\n",
    "function to_example(fname::String)\n",
    "    float.(Gray.(load(fname)))\n",
    "end\n"
   ]
  },
  {
   "cell_type": "code",
   "execution_count": 6,
   "metadata": {},
   "outputs": [
    {
     "data": {
      "text/plain": [
       "(\"2250-element Array{Any,1}\", \"2250-element Array{Symbol,1}\")"
      ]
     },
     "execution_count": 6,
     "metadata": {},
     "output_type": "execute_result"
    }
   ],
   "source": [
    "y_raw = Symbol[]\n",
    "pngs = []\n",
    "\n",
    "for label in labels\n",
    "    \n",
    "    # Just take the first 150 images\n",
    "    fnames = glob(label * \"/*png\")[1:150]\n",
    "        \n",
    "    for fname in fnames\n",
    "        push!(pngs, to_example(fname))\n",
    "        push!(y_raw, Symbol(label))\n",
    "    end\n",
    "end\n",
    "\n",
    "\n",
    "summary(pngs), summary(y_raw)"
   ]
  },
  {
   "cell_type": "code",
   "execution_count": 7,
   "metadata": {},
   "outputs": [
    {
     "data": {
      "text/plain": [
       "((65, 79), 5135)"
      ]
     },
     "execution_count": 7,
     "metadata": {},
     "output_type": "execute_result"
    }
   ],
   "source": [
    "# Each image has 5135 pixels, so 5135 features.\n",
    "size(pngs[1]), 65*79"
   ]
  },
  {
   "cell_type": "code",
   "execution_count": 8,
   "metadata": {},
   "outputs": [
    {
     "name": "stdout",
     "output_type": "stream",
     "text": [
      "search: \u001b[0m\u001b[1mc\u001b[22m\u001b[0m\u001b[1ma\u001b[22m\u001b[0m\u001b[1mt\u001b[22m \u001b[0m\u001b[1mc\u001b[22m\u001b[0m\u001b[1ma\u001b[22m\u001b[0m\u001b[1mt\u001b[22mch \u001b[0m\u001b[1mc\u001b[22m\u001b[0m\u001b[1ma\u001b[22m\u001b[0m\u001b[1mt\u001b[22mch_backtrace v\u001b[0m\u001b[1mc\u001b[22m\u001b[0m\u001b[1ma\u001b[22m\u001b[0m\u001b[1mt\u001b[22m h\u001b[0m\u001b[1mc\u001b[22m\u001b[0m\u001b[1ma\u001b[22m\u001b[0m\u001b[1mt\u001b[22m s\u001b[0m\u001b[1mc\u001b[22m\u001b[0m\u001b[1ma\u001b[22m\u001b[0m\u001b[1mt\u001b[22mter s\u001b[0m\u001b[1mc\u001b[22m\u001b[0m\u001b[1ma\u001b[22m\u001b[0m\u001b[1mt\u001b[22mter! s\u001b[0m\u001b[1mc\u001b[22m\u001b[0m\u001b[1ma\u001b[22m\u001b[0m\u001b[1mt\u001b[22mter3d\n",
      "\n"
     ]
    },
    {
     "data": {
      "text/latex": [
       "\\begin{verbatim}\n",
       "cat(A...; dims=dims)\n",
       "\\end{verbatim}\n",
       "Concatenate the input arrays along the specified dimensions in the iterable \\texttt{dims}. For dimensions not in \\texttt{dims}, all input arrays should have the same size, which will also be the size of the output array along that dimension. For dimensions in \\texttt{dims}, the size of the output array is the sum of the sizes of the input arrays along that dimension. If \\texttt{dims} is a single number, the different arrays are tightly stacked along that dimension. If \\texttt{dims} is an iterable containing several dimensions, this allows one to construct block diagonal matrices and their higher-dimensional analogues by simultaneously increasing several dimensions for every new input array and putting zero blocks elsewhere. For example, \\texttt{cat(matrices...; dims=(1,2))} builds a block diagonal matrix, i.e. a block matrix with \\texttt{matrices[1]}, \\texttt{matrices[2]}, ... as diagonal blocks and matching zero blocks away from the diagonal.\n",
       "\n"
      ],
      "text/markdown": [
       "```\n",
       "cat(A...; dims=dims)\n",
       "```\n",
       "\n",
       "Concatenate the input arrays along the specified dimensions in the iterable `dims`. For dimensions not in `dims`, all input arrays should have the same size, which will also be the size of the output array along that dimension. For dimensions in `dims`, the size of the output array is the sum of the sizes of the input arrays along that dimension. If `dims` is a single number, the different arrays are tightly stacked along that dimension. If `dims` is an iterable containing several dimensions, this allows one to construct block diagonal matrices and their higher-dimensional analogues by simultaneously increasing several dimensions for every new input array and putting zero blocks elsewhere. For example, `cat(matrices...; dims=(1,2))` builds a block diagonal matrix, i.e. a block matrix with `matrices[1]`, `matrices[2]`, ... as diagonal blocks and matching zero blocks away from the diagonal.\n"
      ],
      "text/plain": [
       "\u001b[36m  cat(A...; dims=dims)\u001b[39m\n",
       "\n",
       "  Concatenate the input arrays along the specified dimensions in the iterable\n",
       "  \u001b[36mdims\u001b[39m. For dimensions not in \u001b[36mdims\u001b[39m, all input arrays should have the same\n",
       "  size, which will also be the size of the output array along that dimension.\n",
       "  For dimensions in \u001b[36mdims\u001b[39m, the size of the output array is the sum of the sizes\n",
       "  of the input arrays along that dimension. If \u001b[36mdims\u001b[39m is a single number, the\n",
       "  different arrays are tightly stacked along that dimension. If \u001b[36mdims\u001b[39m is an\n",
       "  iterable containing several dimensions, this allows one to construct block\n",
       "  diagonal matrices and their higher-dimensional analogues by simultaneously\n",
       "  increasing several dimensions for every new input array and putting zero\n",
       "  blocks elsewhere. For example, \u001b[36mcat(matrices...; dims=(1,2))\u001b[39m builds a block\n",
       "  diagonal matrix, i.e. a block matrix with \u001b[36mmatrices[1]\u001b[39m, \u001b[36mmatrices[2]\u001b[39m, ... as\n",
       "  diagonal blocks and matching zero blocks away from the diagonal."
      ]
     },
     "execution_count": 8,
     "metadata": {},
     "output_type": "execute_result"
    }
   ],
   "source": [
    "?cat"
   ]
  },
  {
   "cell_type": "code",
   "execution_count": 9,
   "metadata": {},
   "outputs": [
    {
     "data": {
      "text/plain": [
       "\"65×79×1×2250 Array{Float64,4}\""
      ]
     },
     "execution_count": 9,
     "metadata": {},
     "output_type": "execute_result"
    }
   ],
   "source": [
    "# Want X_train to be a 4-dimensional array (tensor) with dimensions:\n",
    "# H - height of image\n",
    "# W - width of image\n",
    "# C - number of channels (only 1 for black and white)\n",
    "# I - the ith image, out of a total of B in the batch.\n",
    "\n",
    "# (H x W x C x I)\n",
    "\n",
    "# \"...\" is Julia's 'splat operator'\n",
    "X_raw = cat(pngs..., dims=4)\n",
    "\n",
    "summary(X_raw)"
   ]
  },
  {
   "cell_type": "markdown",
   "metadata": {},
   "source": [
    "# Normalize the Data\n",
    "* The optimizer will apply the same learning rate to all gradients. \n",
    "* If inputs are of the same scale (same mean, same stdv) they'll train at more similar rates.\n"
   ]
  },
  {
   "cell_type": "code",
   "execution_count": 10,
   "metadata": {},
   "outputs": [
    {
     "data": {
      "text/plain": [
       "21"
      ]
     },
     "execution_count": 10,
     "metadata": {},
     "output_type": "execute_result"
    }
   ],
   "source": [
    "X_means = mean(X_raw, dims=(3,4))\n",
    "\n",
    "# 21 out of 5135 features have a mean greater than 0.5.\n",
    "length(X_means[X_means .>  0.5])"
   ]
  },
  {
   "cell_type": "code",
   "execution_count": 11,
   "metadata": {},
   "outputs": [
    {
     "data": {
      "text/plain": [
       "24"
      ]
     },
     "execution_count": 11,
     "metadata": {},
     "output_type": "execute_result"
    }
   ],
   "source": [
    "X_stdevs = std(X_raw, dims=(3,4))\n",
    "\n",
    "# 24 have a stdev greater than 0.5.\n",
    "length(X_stdevs[X_stdevs .>  0.5])"
   ]
  },
  {
   "cell_type": "code",
   "execution_count": 12,
   "metadata": {},
   "outputs": [
    {
     "data": {
      "text/plain": [
       "\"65×79×1×2250 Array{Float64,4}\""
      ]
     },
     "execution_count": 12,
     "metadata": {},
     "output_type": "execute_result"
    }
   ],
   "source": [
    "# Normalization\n",
    "\n",
    "# Problem: more than 1000 of the features are 0 for all examples.\n",
    "# Therefore, their standard deviation is 0.  But can't divide by 0,\n",
    "# so add an ϵ to prevent this.\n",
    "ϵ = 1e-15 \n",
    "\n",
    "X_raw_normed = (X_raw .- mean(X_raw, dims=(3,4))) ./ (std(X_raw, dims=(3,4)) .+ ϵ)\n",
    "\n",
    "summary(X_raw_normed)"
   ]
  },
  {
   "cell_type": "code",
   "execution_count": 13,
   "metadata": {},
   "outputs": [
    {
     "data": {
      "text/plain": [
       "5135"
      ]
     },
     "execution_count": 13,
     "metadata": {},
     "output_type": "execute_result"
    }
   ],
   "source": [
    "X_means = mean(X_raw_normed, dims=(3,4))\n",
    "\n",
    "# All features now have a mean of about 0.\n",
    "length(X_means[-0.001 .< X_means .<  0.001])"
   ]
  },
  {
   "cell_type": "code",
   "execution_count": 14,
   "metadata": {},
   "outputs": [
    {
     "name": "stdout",
     "output_type": "stream",
     "text": [
      "length(X_stdevs[0.99 .< X_stdevs .< 1.1]) = 3948\n",
      "length(X_stdevs[-0.1 .< X_stdevs .< 0.1]) = 1187\n"
     ]
    },
    {
     "data": {
      "text/plain": [
       "5135"
      ]
     },
     "execution_count": 14,
     "metadata": {},
     "output_type": "execute_result"
    }
   ],
   "source": [
    "# And a standard deviation of either 0 or 1.\n",
    "\n",
    "X_stdevs = std(X_raw_normed, dims=(3,4))\n",
    "\n",
    "@show length(X_stdevs[.99 .< X_stdevs .< 1.1])\n",
    "@show length(X_stdevs[-0.1 .< X_stdevs .< 0.1])\n",
    "\n",
    "3948 + 1187"
   ]
  },
  {
   "cell_type": "code",
   "execution_count": 15,
   "metadata": {},
   "outputs": [
    {
     "data": {
      "text/plain": [
       "15×2250 Flux.OneHotMatrix{Array{Flux.OneHotVector,1}}:\n",
       "  true   true   true   true   true  …  false  false  false  false  false\n",
       " false  false  false  false  false     false  false  false  false  false\n",
       " false  false  false  false  false     false  false  false  false  false\n",
       " false  false  false  false  false     false  false  false  false  false\n",
       " false  false  false  false  false     false  false  false  false  false\n",
       " false  false  false  false  false  …  false  false  false  false  false\n",
       " false  false  false  false  false     false  false  false  false  false\n",
       " false  false  false  false  false     false  false  false  false  false\n",
       " false  false  false  false  false     false  false  false  false  false\n",
       " false  false  false  false  false     false  false  false  false  false\n",
       " false  false  false  false  false  …  false  false  false  false  false\n",
       " false  false  false  false  false     false  false  false  false  false\n",
       " false  false  false  false  false     false  false  false  false  false\n",
       " false  false  false  false  false     false  false  false  false  false\n",
       " false  false  false  false  false      true   true   true   true   true"
      ]
     },
     "execution_count": 15,
     "metadata": {},
     "output_type": "execute_result"
    }
   ],
   "source": [
    "# onehotbatch will onehot encode an array of values.\n",
    "y_raw_onehot = onehotbatch(y_raw, sort(unique(y_raw)))\n",
    "\n",
    "# There are 15 different character types.\n",
    "# This is before shuffling, so images 1-5 are all class 1, et.\n"
   ]
  },
  {
   "cell_type": "code",
   "execution_count": 16,
   "metadata": {},
   "outputs": [
    {
     "name": "stdout",
     "output_type": "stream",
     "text": [
      "size(X_train) = (65, 79, 1, 1500)\n",
      "size(y_train) = (15, 1500)\n",
      "size(X_test) = (65, 79, 1, 750)\n",
      "size(y_test) = (15, 750)\n"
     ]
    }
   ],
   "source": [
    "# Shuffle the examples (observations)\n",
    "Xs, ys = shuffleobs((X_raw_normed, y_raw_onehot))\n",
    "\n",
    "# Split them into training and test sets.\n",
    "(X_train, y_train), (X_test, y_test) = splitobs((Xs, ys); at=2/3)\n",
    "    \n",
    "@show size(X_train)\n",
    "@show size(y_train)\n",
    "@show size(X_test)\n",
    "@show size(y_test);"
   ]
  },
  {
   "cell_type": "code",
   "execution_count": 17,
   "metadata": {},
   "outputs": [
    {
     "name": "stdout",
     "output_type": "stream",
     "text": [
      "No GPU available.\n"
     ]
    }
   ],
   "source": [
    "# if CuArrays (Cuda Arrays) package is installed, then \n",
    "# Flux will write arrays to GPU ram when those arrays are \n",
    "# fed to the gpu function.\n",
    "\n",
    "if \"CuArrays\" in keys(Pkg.installed())\n",
    "    using CuArrays\n",
    "    println(\"using GPU.\")\n",
    "else\n",
    "    println(\"No GPU available.\")\n",
    "end\n"
   ]
  },
  {
   "cell_type": "code",
   "execution_count": 18,
   "metadata": {},
   "outputs": [
    {
     "data": {
      "text/plain": [
       "\"15×750 Array{Bool,2}\""
      ]
     },
     "execution_count": 18,
     "metadata": {},
     "output_type": "execute_result"
    }
   ],
   "source": [
    "# shuffleobs and splitobs create view objects on the original arrays.\n",
    "# Flux needs a real array object (I think).\n",
    "\n",
    "# Feed the output to the gpu() function, to be written to the \n",
    "# GPU.  If no GPU available, then gpu() does nothing.\n",
    "X_train_copy = copy(X_train) |> gpu\n",
    "y_train_onehot = y_train |> gpu\n",
    "\n",
    "X_test_copy = copy(X_test) |> gpu\n",
    "y_test_onehot = copy(y_test) |> gpu\n",
    "\n",
    "summary(y_test_onehot)"
   ]
  },
  {
   "cell_type": "code",
   "execution_count": 19,
   "metadata": {},
   "outputs": [
    {
     "data": {
      "text/plain": [
       "(\"60-element Array{Tuple{Array{Float64,4},Array{Bool,2}},1}\", \"Tuple{Array{Float64,4},Array{Bool,2}}\", \"65×79×1×25 Array{Float64,4}\")"
      ]
     },
     "execution_count": 19,
     "metadata": {},
     "output_type": "execute_result"
    }
   ],
   "source": [
    "# Last minute change.  Break up the one big batch into minibatches, may train \n",
    "# faster because all data doesn't need to be in RAM at once.\n",
    "using Base.Iterators\n",
    "\n",
    "train = [\n",
    "    (X_train_copy[:, :, :, indices], y_train_onehot[:, indices]) for indices in partition(1:1500, 25)\n",
    "]\n",
    "\n",
    "\n",
    "summary(train), summary(train[1]), summary(train[1][1])"
   ]
  },
  {
   "cell_type": "code",
   "execution_count": 20,
   "metadata": {},
   "outputs": [
    {
     "data": {
      "text/plain": [
       "Chain(Conv((2, 2), 1=>16, NNlib.relu), getfield(Main, Symbol(\"##9#12\"))(), Conv((2, 2), 16=>8, NNlib.relu), getfield(Main, Symbol(\"##10#13\"))(), getfield(Main, Symbol(\"##11#14\"))(), Dense(2280, 15), NNlib.softmax)"
      ]
     },
     "execution_count": 20,
     "metadata": {},
     "output_type": "execute_result"
    }
   ],
   "source": [
    "# Create a CNN model using layers: Conv, maxpool, Dense, etc.\n",
    "# Fairly Keras like, except must specify dimensions.\n",
    "\n",
    "model = Chain(\n",
    "   Conv((2,2), 1=>16, relu),\n",
    "   x -> maxpool(x, (2,2)),\n",
    "    \n",
    "   Conv((2,2), 16=>8, relu),\n",
    "   x -> maxpool(x, (2,2)),\n",
    "    \n",
    "   x -> reshape(x, :, size(x, 4)),\n",
    "    \n",
    "   Dense(2280, 15), \n",
    "  \n",
    "   softmax\n",
    ") |> gpu"
   ]
  },
  {
   "cell_type": "code",
   "execution_count": 21,
   "metadata": {},
   "outputs": [
    {
     "data": {
      "text/plain": [
       "loss (generic function with 1 method)"
      ]
     },
     "execution_count": 21,
     "metadata": {},
     "output_type": "execute_result"
    }
   ],
   "source": [
    "loss(x, y) = crossentropy(model(x), y)"
   ]
  },
  {
   "cell_type": "code",
   "execution_count": 22,
   "metadata": {},
   "outputs": [
    {
     "data": {
      "text/plain": [
       "accuracy (generic function with 1 method)"
      ]
     },
     "execution_count": 22,
     "metadata": {},
     "output_type": "execute_result"
    }
   ],
   "source": [
    "# Using cpu() function to write output of onecold(y) back to CPU ram, \n",
    "# to match output of onecold(model(x)).  Will throw error otherwise - \n",
    "# trying to compare an array on the CPU ram with Array on GPU ram.\n",
    "\n",
    "accuracy(x, y) = mean(onecold(model(x)) .== cpu(onecold(y)))\n",
    "\n"
   ]
  },
  {
   "cell_type": "code",
   "execution_count": 23,
   "metadata": {},
   "outputs": [
    {
     "data": {
      "text/plain": [
       "#43 (generic function with 1 method)"
      ]
     },
     "execution_count": 23,
     "metadata": {},
     "output_type": "execute_result"
    }
   ],
   "source": [
    "# Create an ADAM optimizer to update parameters.\n",
    "\n",
    "optimizer = ADAM(params(model)) |> gpu"
   ]
  },
  {
   "cell_type": "code",
   "execution_count": 24,
   "metadata": {},
   "outputs": [
    {
     "data": {
      "text/plain": [
       "0-element Array{Any,1}"
      ]
     },
     "execution_count": 24,
     "metadata": {},
     "output_type": "execute_result"
    }
   ],
   "source": [
    "losses = []\n",
    "accuracies = []\n",
    "test_accuracies = []"
   ]
  },
  {
   "cell_type": "code",
   "execution_count": 25,
   "metadata": {},
   "outputs": [
    {
     "name": "stdout",
     "output_type": "stream",
     "text": [
      "0.8506666666666667\n",
      "0.9186666666666666\n",
      "0.9226666666666666\n"
     ]
    },
    {
     "data": {
      "image/svg+xml": [
       "<?xml version=\"1.0\" encoding=\"utf-8\"?>\n",
       "<svg xmlns=\"http://www.w3.org/2000/svg\" xmlns:xlink=\"http://www.w3.org/1999/xlink\" width=\"600\" height=\"400\" viewBox=\"0 0 2400 1600\">\n",
       "<defs>\n",
       "  <clipPath id=\"clip8900\">\n",
       "    <rect x=\"0\" y=\"0\" width=\"2000\" height=\"2000\"/>\n",
       "  </clipPath>\n",
       "</defs>\n",
       "<defs>\n",
       "  <clipPath id=\"clip8901\">\n",
       "    <rect x=\"0\" y=\"0\" width=\"2400\" height=\"1600\"/>\n",
       "  </clipPath>\n",
       "</defs>\n",
       "<polygon clip-path=\"url(#clip8901)\" points=\"\n",
       "0,1600 2400,1600 2400,0 0,0 \n",
       "  \" fill=\"#ffffff\" fill-rule=\"evenodd\" fill-opacity=\"1\"/>\n",
       "<defs>\n",
       "  <clipPath id=\"clip8902\">\n",
       "    <rect x=\"480\" y=\"0\" width=\"1681\" height=\"1600\"/>\n",
       "  </clipPath>\n",
       "</defs>\n",
       "<polygon clip-path=\"url(#clip8901)\" points=\"\n",
       "251.149,1440.48 2321.26,1440.48 2321.26,47.2441 251.149,47.2441 \n",
       "  \" fill=\"#ffffff\" fill-rule=\"evenodd\" fill-opacity=\"1\"/>\n",
       "<defs>\n",
       "  <clipPath id=\"clip8903\">\n",
       "    <rect x=\"251\" y=\"47\" width=\"2071\" height=\"1394\"/>\n",
       "  </clipPath>\n",
       "</defs>\n",
       "<polyline clip-path=\"url(#clip8903)\" style=\"stroke:#000000; stroke-width:2; stroke-opacity:0.1; fill:none\" points=\"\n",
       "  309.737,1440.48 309.737,47.2441 \n",
       "  \"/>\n",
       "<polyline clip-path=\"url(#clip8903)\" style=\"stroke:#000000; stroke-width:2; stroke-opacity:0.1; fill:none\" points=\"\n",
       "  797.97,1440.48 797.97,47.2441 \n",
       "  \"/>\n",
       "<polyline clip-path=\"url(#clip8903)\" style=\"stroke:#000000; stroke-width:2; stroke-opacity:0.1; fill:none\" points=\"\n",
       "  1286.2,1440.48 1286.2,47.2441 \n",
       "  \"/>\n",
       "<polyline clip-path=\"url(#clip8903)\" style=\"stroke:#000000; stroke-width:2; stroke-opacity:0.1; fill:none\" points=\"\n",
       "  1774.44,1440.48 1774.44,47.2441 \n",
       "  \"/>\n",
       "<polyline clip-path=\"url(#clip8903)\" style=\"stroke:#000000; stroke-width:2; stroke-opacity:0.1; fill:none\" points=\"\n",
       "  2262.67,1440.48 2262.67,47.2441 \n",
       "  \"/>\n",
       "<polyline clip-path=\"url(#clip8903)\" style=\"stroke:#000000; stroke-width:2; stroke-opacity:0.1; fill:none\" points=\"\n",
       "  251.149,1230.67 2321.26,1230.67 \n",
       "  \"/>\n",
       "<polyline clip-path=\"url(#clip8903)\" style=\"stroke:#000000; stroke-width:2; stroke-opacity:0.1; fill:none\" points=\"\n",
       "  251.149,865.565 2321.26,865.565 \n",
       "  \"/>\n",
       "<polyline clip-path=\"url(#clip8903)\" style=\"stroke:#000000; stroke-width:2; stroke-opacity:0.1; fill:none\" points=\"\n",
       "  251.149,500.46 2321.26,500.46 \n",
       "  \"/>\n",
       "<polyline clip-path=\"url(#clip8903)\" style=\"stroke:#000000; stroke-width:2; stroke-opacity:0.1; fill:none\" points=\"\n",
       "  251.149,135.356 2321.26,135.356 \n",
       "  \"/>\n",
       "<polyline clip-path=\"url(#clip8901)\" style=\"stroke:#000000; stroke-width:4; stroke-opacity:1; fill:none\" points=\"\n",
       "  251.149,1440.48 2321.26,1440.48 \n",
       "  \"/>\n",
       "<polyline clip-path=\"url(#clip8901)\" style=\"stroke:#000000; stroke-width:4; stroke-opacity:1; fill:none\" points=\"\n",
       "  251.149,1440.48 251.149,47.2441 \n",
       "  \"/>\n",
       "<polyline clip-path=\"url(#clip8901)\" style=\"stroke:#000000; stroke-width:4; stroke-opacity:1; fill:none\" points=\"\n",
       "  309.737,1440.48 309.737,1419.58 \n",
       "  \"/>\n",
       "<polyline clip-path=\"url(#clip8901)\" style=\"stroke:#000000; stroke-width:4; stroke-opacity:1; fill:none\" points=\"\n",
       "  797.97,1440.48 797.97,1419.58 \n",
       "  \"/>\n",
       "<polyline clip-path=\"url(#clip8901)\" style=\"stroke:#000000; stroke-width:4; stroke-opacity:1; fill:none\" points=\"\n",
       "  1286.2,1440.48 1286.2,1419.58 \n",
       "  \"/>\n",
       "<polyline clip-path=\"url(#clip8901)\" style=\"stroke:#000000; stroke-width:4; stroke-opacity:1; fill:none\" points=\"\n",
       "  1774.44,1440.48 1774.44,1419.58 \n",
       "  \"/>\n",
       "<polyline clip-path=\"url(#clip8901)\" style=\"stroke:#000000; stroke-width:4; stroke-opacity:1; fill:none\" points=\"\n",
       "  2262.67,1440.48 2262.67,1419.58 \n",
       "  \"/>\n",
       "<polyline clip-path=\"url(#clip8901)\" style=\"stroke:#000000; stroke-width:4; stroke-opacity:1; fill:none\" points=\"\n",
       "  251.149,1230.67 282.2,1230.67 \n",
       "  \"/>\n",
       "<polyline clip-path=\"url(#clip8901)\" style=\"stroke:#000000; stroke-width:4; stroke-opacity:1; fill:none\" points=\"\n",
       "  251.149,865.565 282.2,865.565 \n",
       "  \"/>\n",
       "<polyline clip-path=\"url(#clip8901)\" style=\"stroke:#000000; stroke-width:4; stroke-opacity:1; fill:none\" points=\"\n",
       "  251.149,500.46 282.2,500.46 \n",
       "  \"/>\n",
       "<polyline clip-path=\"url(#clip8901)\" style=\"stroke:#000000; stroke-width:4; stroke-opacity:1; fill:none\" points=\"\n",
       "  251.149,135.356 282.2,135.356 \n",
       "  \"/>\n",
       "<g clip-path=\"url(#clip8901)\">\n",
       "<text style=\"fill:#000000; fill-opacity:1; font-family:Arial,Helvetica Neue,Helvetica,sans-serif; font-size:48px; text-anchor:middle;\" transform=\"rotate(0, 309.737, 1494.48)\" x=\"309.737\" y=\"1494.48\">1.0</text>\n",
       "</g>\n",
       "<g clip-path=\"url(#clip8901)\">\n",
       "<text style=\"fill:#000000; fill-opacity:1; font-family:Arial,Helvetica Neue,Helvetica,sans-serif; font-size:48px; text-anchor:middle;\" transform=\"rotate(0, 797.97, 1494.48)\" x=\"797.97\" y=\"1494.48\">1.5</text>\n",
       "</g>\n",
       "<g clip-path=\"url(#clip8901)\">\n",
       "<text style=\"fill:#000000; fill-opacity:1; font-family:Arial,Helvetica Neue,Helvetica,sans-serif; font-size:48px; text-anchor:middle;\" transform=\"rotate(0, 1286.2, 1494.48)\" x=\"1286.2\" y=\"1494.48\">2.0</text>\n",
       "</g>\n",
       "<g clip-path=\"url(#clip8901)\">\n",
       "<text style=\"fill:#000000; fill-opacity:1; font-family:Arial,Helvetica Neue,Helvetica,sans-serif; font-size:48px; text-anchor:middle;\" transform=\"rotate(0, 1774.44, 1494.48)\" x=\"1774.44\" y=\"1494.48\">2.5</text>\n",
       "</g>\n",
       "<g clip-path=\"url(#clip8901)\">\n",
       "<text style=\"fill:#000000; fill-opacity:1; font-family:Arial,Helvetica Neue,Helvetica,sans-serif; font-size:48px; text-anchor:middle;\" transform=\"rotate(0, 2262.67, 1494.48)\" x=\"2262.67\" y=\"1494.48\">3.0</text>\n",
       "</g>\n",
       "<g clip-path=\"url(#clip8901)\">\n",
       "<text style=\"fill:#000000; fill-opacity:1; font-family:Arial,Helvetica Neue,Helvetica,sans-serif; font-size:48px; text-anchor:end;\" transform=\"rotate(0, 227.149, 1248.17)\" x=\"227.149\" y=\"1248.17\">0.86</text>\n",
       "</g>\n",
       "<g clip-path=\"url(#clip8901)\">\n",
       "<text style=\"fill:#000000; fill-opacity:1; font-family:Arial,Helvetica Neue,Helvetica,sans-serif; font-size:48px; text-anchor:end;\" transform=\"rotate(0, 227.149, 883.065)\" x=\"227.149\" y=\"883.065\">0.88</text>\n",
       "</g>\n",
       "<g clip-path=\"url(#clip8901)\">\n",
       "<text style=\"fill:#000000; fill-opacity:1; font-family:Arial,Helvetica Neue,Helvetica,sans-serif; font-size:48px; text-anchor:end;\" transform=\"rotate(0, 227.149, 517.96)\" x=\"227.149\" y=\"517.96\">0.90</text>\n",
       "</g>\n",
       "<g clip-path=\"url(#clip8901)\">\n",
       "<text style=\"fill:#000000; fill-opacity:1; font-family:Arial,Helvetica Neue,Helvetica,sans-serif; font-size:48px; text-anchor:end;\" transform=\"rotate(0, 227.149, 152.856)\" x=\"227.149\" y=\"152.856\">0.92</text>\n",
       "</g>\n",
       "<g clip-path=\"url(#clip8901)\">\n",
       "<text style=\"fill:#000000; fill-opacity:1; font-family:Arial,Helvetica Neue,Helvetica,sans-serif; font-size:66px; text-anchor:middle;\" transform=\"rotate(0, 1286.2, 1590.4)\" x=\"1286.2\" y=\"1590.4\">Epoch</text>\n",
       "</g>\n",
       "<g clip-path=\"url(#clip8901)\">\n",
       "<text style=\"fill:#000000; fill-opacity:1; font-family:Arial,Helvetica Neue,Helvetica,sans-serif; font-size:66px; text-anchor:middle;\" transform=\"rotate(-90, 57.6, 743.863)\" x=\"57.6\" y=\"743.863\">Accuracy</text>\n",
       "</g>\n",
       "<polyline clip-path=\"url(#clip8903)\" style=\"stroke:#e26f46; stroke-width:4; stroke-opacity:1; fill:none\" points=\"\n",
       "  309.737,1401.05 1286.2,159.696 2262.67,86.6754 \n",
       "  \"/>\n",
       "<polygon clip-path=\"url(#clip8901)\" points=\"\n",
       "1645.47,1296.48 2249.26,1296.48 2249.26,1115.04 1645.47,1115.04 \n",
       "  \" fill=\"#ffffff\" fill-rule=\"evenodd\" fill-opacity=\"1\"/>\n",
       "<polyline clip-path=\"url(#clip8901)\" style=\"stroke:#000000; stroke-width:4; stroke-opacity:1; fill:none\" points=\"\n",
       "  1645.47,1296.48 2249.26,1296.48 2249.26,1115.04 1645.47,1115.04 1645.47,1296.48 \n",
       "  \"/>\n",
       "<polyline clip-path=\"url(#clip8901)\" style=\"stroke:#009af9; stroke-width:4; stroke-opacity:1; fill:none\" points=\"\n",
       "  1669.47,1175.52 1813.47,1175.52 \n",
       "  \"/>\n",
       "<g clip-path=\"url(#clip8901)\">\n",
       "<text style=\"fill:#000000; fill-opacity:1; font-family:Arial,Helvetica Neue,Helvetica,sans-serif; font-size:48px; text-anchor:start;\" transform=\"rotate(0, 1837.47, 1193.02)\" x=\"1837.47\" y=\"1193.02\">training accuracy</text>\n",
       "</g>\n",
       "<polyline clip-path=\"url(#clip8901)\" style=\"stroke:#e26f46; stroke-width:4; stroke-opacity:1; fill:none\" points=\"\n",
       "  1669.47,1236 1813.47,1236 \n",
       "  \"/>\n",
       "<g clip-path=\"url(#clip8901)\">\n",
       "<text style=\"fill:#000000; fill-opacity:1; font-family:Arial,Helvetica Neue,Helvetica,sans-serif; font-size:48px; text-anchor:start;\" transform=\"rotate(0, 1837.47, 1253.5)\" x=\"1837.47\" y=\"1253.5\">test accuracy</text>\n",
       "</g>\n",
       "</svg>\n"
      ]
     },
     "execution_count": 25,
     "metadata": {},
     "output_type": "execute_result"
    }
   ],
   "source": [
    "\n",
    "for epoch in 1:3\n",
    "    train!(loss, train, optimizer)\n",
    "\n",
    "    push!(test_accuracies, accuracy(X_test_copy, y_test_onehot))\n",
    "    println(last(test_accuracies))\n",
    "end    \n",
    "\n",
    "\n",
    "plot!(test_accuracies, label=\"test accuracy\", legend=:bottomright)"
   ]
  },
  {
   "cell_type": "code",
   "execution_count": 26,
   "metadata": {},
   "outputs": [
    {
     "data": {
      "image/svg+xml": [
       "<?xml version=\"1.0\" encoding=\"utf-8\"?>\n",
       "<svg xmlns=\"http://www.w3.org/2000/svg\" xmlns:xlink=\"http://www.w3.org/1999/xlink\" width=\"600\" height=\"400\" viewBox=\"0 0 2400 1600\">\n",
       "<defs>\n",
       "  <clipPath id=\"clip9100\">\n",
       "    <rect x=\"0\" y=\"0\" width=\"2000\" height=\"2000\"/>\n",
       "  </clipPath>\n",
       "</defs>\n",
       "<defs>\n",
       "  <clipPath id=\"clip9101\">\n",
       "    <rect x=\"0\" y=\"0\" width=\"2400\" height=\"1600\"/>\n",
       "  </clipPath>\n",
       "</defs>\n",
       "<polygon clip-path=\"url(#clip9101)\" points=\"\n",
       "0,1600 2400,1600 2400,0 0,0 \n",
       "  \" fill=\"#ffffff\" fill-rule=\"evenodd\" fill-opacity=\"1\"/>\n",
       "<defs>\n",
       "  <clipPath id=\"clip9102\">\n",
       "    <rect x=\"480\" y=\"0\" width=\"1681\" height=\"1600\"/>\n",
       "  </clipPath>\n",
       "</defs>\n",
       "<polygon clip-path=\"url(#clip9101)\" points=\"\n",
       "188.156,1503.47 2321.26,1503.47 2321.26,47.2441 188.156,47.2441 \n",
       "  \" fill=\"#ffffff\" fill-rule=\"evenodd\" fill-opacity=\"1\"/>\n",
       "<defs>\n",
       "  <clipPath id=\"clip9103\">\n",
       "    <rect x=\"188\" y=\"47\" width=\"2134\" height=\"1457\"/>\n",
       "  </clipPath>\n",
       "</defs>\n",
       "<polyline clip-path=\"url(#clip9103)\" style=\"stroke:#000000; stroke-width:2; stroke-opacity:0.1; fill:none\" points=\"\n",
       "  248.527,1503.47 248.527,47.2441 \n",
       "  \"/>\n",
       "<polyline clip-path=\"url(#clip9103)\" style=\"stroke:#000000; stroke-width:2; stroke-opacity:0.1; fill:none\" points=\"\n",
       "  751.618,1503.47 751.618,47.2441 \n",
       "  \"/>\n",
       "<polyline clip-path=\"url(#clip9103)\" style=\"stroke:#000000; stroke-width:2; stroke-opacity:0.1; fill:none\" points=\"\n",
       "  1254.71,1503.47 1254.71,47.2441 \n",
       "  \"/>\n",
       "<polyline clip-path=\"url(#clip9103)\" style=\"stroke:#000000; stroke-width:2; stroke-opacity:0.1; fill:none\" points=\"\n",
       "  1757.8,1503.47 1757.8,47.2441 \n",
       "  \"/>\n",
       "<polyline clip-path=\"url(#clip9103)\" style=\"stroke:#000000; stroke-width:2; stroke-opacity:0.1; fill:none\" points=\"\n",
       "  2260.89,1503.47 2260.89,47.2441 \n",
       "  \"/>\n",
       "<polyline clip-path=\"url(#clip9103)\" style=\"stroke:#000000; stroke-width:2; stroke-opacity:0.1; fill:none\" points=\"\n",
       "  188.156,1462.26 2321.26,1462.26 \n",
       "  \"/>\n",
       "<polyline clip-path=\"url(#clip9103)\" style=\"stroke:#000000; stroke-width:2; stroke-opacity:0.1; fill:none\" points=\"\n",
       "  188.156,1118.81 2321.26,1118.81 \n",
       "  \"/>\n",
       "<polyline clip-path=\"url(#clip9103)\" style=\"stroke:#000000; stroke-width:2; stroke-opacity:0.1; fill:none\" points=\"\n",
       "  188.156,775.359 2321.26,775.359 \n",
       "  \"/>\n",
       "<polyline clip-path=\"url(#clip9103)\" style=\"stroke:#000000; stroke-width:2; stroke-opacity:0.1; fill:none\" points=\"\n",
       "  188.156,431.909 2321.26,431.909 \n",
       "  \"/>\n",
       "<polyline clip-path=\"url(#clip9103)\" style=\"stroke:#000000; stroke-width:2; stroke-opacity:0.1; fill:none\" points=\"\n",
       "  188.156,88.4582 2321.26,88.4582 \n",
       "  \"/>\n",
       "<polyline clip-path=\"url(#clip9101)\" style=\"stroke:#000000; stroke-width:4; stroke-opacity:1; fill:none\" points=\"\n",
       "  188.156,1503.47 2321.26,1503.47 \n",
       "  \"/>\n",
       "<polyline clip-path=\"url(#clip9101)\" style=\"stroke:#000000; stroke-width:4; stroke-opacity:1; fill:none\" points=\"\n",
       "  188.156,1503.47 188.156,47.2441 \n",
       "  \"/>\n",
       "<polyline clip-path=\"url(#clip9101)\" style=\"stroke:#000000; stroke-width:4; stroke-opacity:1; fill:none\" points=\"\n",
       "  248.527,1503.47 248.527,1481.63 \n",
       "  \"/>\n",
       "<polyline clip-path=\"url(#clip9101)\" style=\"stroke:#000000; stroke-width:4; stroke-opacity:1; fill:none\" points=\"\n",
       "  751.618,1503.47 751.618,1481.63 \n",
       "  \"/>\n",
       "<polyline clip-path=\"url(#clip9101)\" style=\"stroke:#000000; stroke-width:4; stroke-opacity:1; fill:none\" points=\"\n",
       "  1254.71,1503.47 1254.71,1481.63 \n",
       "  \"/>\n",
       "<polyline clip-path=\"url(#clip9101)\" style=\"stroke:#000000; stroke-width:4; stroke-opacity:1; fill:none\" points=\"\n",
       "  1757.8,1503.47 1757.8,1481.63 \n",
       "  \"/>\n",
       "<polyline clip-path=\"url(#clip9101)\" style=\"stroke:#000000; stroke-width:4; stroke-opacity:1; fill:none\" points=\"\n",
       "  2260.89,1503.47 2260.89,1481.63 \n",
       "  \"/>\n",
       "<polyline clip-path=\"url(#clip9101)\" style=\"stroke:#000000; stroke-width:4; stroke-opacity:1; fill:none\" points=\"\n",
       "  188.156,1462.26 220.153,1462.26 \n",
       "  \"/>\n",
       "<polyline clip-path=\"url(#clip9101)\" style=\"stroke:#000000; stroke-width:4; stroke-opacity:1; fill:none\" points=\"\n",
       "  188.156,1118.81 220.153,1118.81 \n",
       "  \"/>\n",
       "<polyline clip-path=\"url(#clip9101)\" style=\"stroke:#000000; stroke-width:4; stroke-opacity:1; fill:none\" points=\"\n",
       "  188.156,775.359 220.153,775.359 \n",
       "  \"/>\n",
       "<polyline clip-path=\"url(#clip9101)\" style=\"stroke:#000000; stroke-width:4; stroke-opacity:1; fill:none\" points=\"\n",
       "  188.156,431.909 220.153,431.909 \n",
       "  \"/>\n",
       "<polyline clip-path=\"url(#clip9101)\" style=\"stroke:#000000; stroke-width:4; stroke-opacity:1; fill:none\" points=\"\n",
       "  188.156,88.4582 220.153,88.4582 \n",
       "  \"/>\n",
       "<g clip-path=\"url(#clip9101)\">\n",
       "<text style=\"fill:#000000; fill-opacity:1; font-family:Arial,Helvetica Neue,Helvetica,sans-serif; font-size:48px; text-anchor:middle;\" transform=\"rotate(0, 248.527, 1557.47)\" x=\"248.527\" y=\"1557.47\">0.00</text>\n",
       "</g>\n",
       "<g clip-path=\"url(#clip9101)\">\n",
       "<text style=\"fill:#000000; fill-opacity:1; font-family:Arial,Helvetica Neue,Helvetica,sans-serif; font-size:48px; text-anchor:middle;\" transform=\"rotate(0, 751.618, 1557.47)\" x=\"751.618\" y=\"1557.47\">0.25</text>\n",
       "</g>\n",
       "<g clip-path=\"url(#clip9101)\">\n",
       "<text style=\"fill:#000000; fill-opacity:1; font-family:Arial,Helvetica Neue,Helvetica,sans-serif; font-size:48px; text-anchor:middle;\" transform=\"rotate(0, 1254.71, 1557.47)\" x=\"1254.71\" y=\"1557.47\">0.50</text>\n",
       "</g>\n",
       "<g clip-path=\"url(#clip9101)\">\n",
       "<text style=\"fill:#000000; fill-opacity:1; font-family:Arial,Helvetica Neue,Helvetica,sans-serif; font-size:48px; text-anchor:middle;\" transform=\"rotate(0, 1757.8, 1557.47)\" x=\"1757.8\" y=\"1557.47\">0.75</text>\n",
       "</g>\n",
       "<g clip-path=\"url(#clip9101)\">\n",
       "<text style=\"fill:#000000; fill-opacity:1; font-family:Arial,Helvetica Neue,Helvetica,sans-serif; font-size:48px; text-anchor:middle;\" transform=\"rotate(0, 2260.89, 1557.47)\" x=\"2260.89\" y=\"1557.47\">1.00</text>\n",
       "</g>\n",
       "<g clip-path=\"url(#clip9101)\">\n",
       "<text style=\"fill:#000000; fill-opacity:1; font-family:Arial,Helvetica Neue,Helvetica,sans-serif; font-size:48px; text-anchor:end;\" transform=\"rotate(0, 164.156, 1479.76)\" x=\"164.156\" y=\"1479.76\">0.00</text>\n",
       "</g>\n",
       "<g clip-path=\"url(#clip9101)\">\n",
       "<text style=\"fill:#000000; fill-opacity:1; font-family:Arial,Helvetica Neue,Helvetica,sans-serif; font-size:48px; text-anchor:end;\" transform=\"rotate(0, 164.156, 1136.31)\" x=\"164.156\" y=\"1136.31\">0.25</text>\n",
       "</g>\n",
       "<g clip-path=\"url(#clip9101)\">\n",
       "<text style=\"fill:#000000; fill-opacity:1; font-family:Arial,Helvetica Neue,Helvetica,sans-serif; font-size:48px; text-anchor:end;\" transform=\"rotate(0, 164.156, 792.859)\" x=\"164.156\" y=\"792.859\">0.50</text>\n",
       "</g>\n",
       "<g clip-path=\"url(#clip9101)\">\n",
       "<text style=\"fill:#000000; fill-opacity:1; font-family:Arial,Helvetica Neue,Helvetica,sans-serif; font-size:48px; text-anchor:end;\" transform=\"rotate(0, 164.156, 449.409)\" x=\"164.156\" y=\"449.409\">0.75</text>\n",
       "</g>\n",
       "<g clip-path=\"url(#clip9101)\">\n",
       "<text style=\"fill:#000000; fill-opacity:1; font-family:Arial,Helvetica Neue,Helvetica,sans-serif; font-size:48px; text-anchor:end;\" transform=\"rotate(0, 164.156, 105.958)\" x=\"164.156\" y=\"105.958\">1.00</text>\n",
       "</g>\n",
       "<polygon clip-path=\"url(#clip9101)\" points=\"\n",
       "1958.43,251.724 2249.26,251.724 2249.26,130.764 1958.43,130.764 \n",
       "  \" fill=\"#ffffff\" fill-rule=\"evenodd\" fill-opacity=\"1\"/>\n",
       "<polyline clip-path=\"url(#clip9101)\" style=\"stroke:#000000; stroke-width:4; stroke-opacity:1; fill:none\" points=\"\n",
       "  1958.43,251.724 2249.26,251.724 2249.26,130.764 1958.43,130.764 1958.43,251.724 \n",
       "  \"/>\n",
       "<polyline clip-path=\"url(#clip9101)\" style=\"stroke:#009af9; stroke-width:4; stroke-opacity:1; fill:none\" points=\"\n",
       "  1982.43,191.244 2126.43,191.244 \n",
       "  \"/>\n",
       "<g clip-path=\"url(#clip9101)\">\n",
       "<text style=\"fill:#000000; fill-opacity:1; font-family:Arial,Helvetica Neue,Helvetica,sans-serif; font-size:48px; text-anchor:start;\" transform=\"rotate(0, 2150.43, 208.744)\" x=\"2150.43\" y=\"208.744\">y1</text>\n",
       "</g>\n",
       "</svg>\n"
      ]
     },
     "execution_count": 26,
     "metadata": {},
     "output_type": "execute_result"
    }
   ],
   "source": [
    "plot(losses)"
   ]
  },
  {
   "cell_type": "code",
   "execution_count": null,
   "metadata": {},
   "outputs": [],
   "source": []
  }
 ],
 "metadata": {
  "kernelspec": {
   "display_name": "Julia 1.0.3",
   "language": "julia",
   "name": "julia-1.0"
  },
  "language_info": {
   "file_extension": ".jl",
   "mimetype": "application/julia",
   "name": "julia",
   "version": "1.0.3"
  }
 },
 "nbformat": 4,
 "nbformat_minor": 2
}
