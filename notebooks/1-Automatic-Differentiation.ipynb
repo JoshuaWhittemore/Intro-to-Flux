{
 "cells": [
  {
   "cell_type": "markdown",
   "metadata": {},
   "source": [
    "# Automatic Differentiation\n",
    "\n",
    "* Modified from this PR by @dhairyagandhi96: https://github.com/FluxML/model-zoo/pull/77\n"
   ]
  },
  {
   "cell_type": "code",
   "execution_count": 1,
   "metadata": {},
   "outputs": [
    {
     "name": "stderr",
     "output_type": "stream",
     "text": [
      "/bin/bash: tree: command not found\n"
     ]
    }
   ],
   "source": [
    ";tree -L 3 .."
   ]
  },
  {
   "cell_type": "code",
   "execution_count": 2,
   "metadata": {},
   "outputs": [],
   "source": [
    "using Plots\n",
    "\n",
    "using Flux.Tracker: gradient"
   ]
  },
  {
   "cell_type": "code",
   "execution_count": 3,
   "metadata": {},
   "outputs": [
    {
     "data": {
      "image/svg+xml": [
       "<?xml version=\"1.0\" encoding=\"utf-8\"?>\n",
       "<svg xmlns=\"http://www.w3.org/2000/svg\" xmlns:xlink=\"http://www.w3.org/1999/xlink\" width=\"600\" height=\"400\" viewBox=\"0 0 2400 1600\">\n",
       "<defs>\n",
       "  <clipPath id=\"clip5000\">\n",
       "    <rect x=\"0\" y=\"0\" width=\"2000\" height=\"2000\"/>\n",
       "  </clipPath>\n",
       "</defs>\n",
       "<defs>\n",
       "  <clipPath id=\"clip5001\">\n",
       "    <rect x=\"0\" y=\"0\" width=\"2400\" height=\"1600\"/>\n",
       "  </clipPath>\n",
       "</defs>\n",
       "<polygon clip-path=\"url(#clip5001)\" points=\"\n",
       "0,1600 2400,1600 2400,0 0,0 \n",
       "  \" fill=\"#ffffff\" fill-rule=\"evenodd\" fill-opacity=\"1\"/>\n",
       "<defs>\n",
       "  <clipPath id=\"clip5002\">\n",
       "    <rect x=\"480\" y=\"0\" width=\"1681\" height=\"1600\"/>\n",
       "  </clipPath>\n",
       "</defs>\n",
       "<polygon clip-path=\"url(#clip5001)\" points=\"\n",
       "121.251,1503.47 2321.26,1503.47 2321.26,125.984 121.251,125.984 \n",
       "  \" fill=\"#ffffff\" fill-rule=\"evenodd\" fill-opacity=\"1\"/>\n",
       "<defs>\n",
       "  <clipPath id=\"clip5003\">\n",
       "    <rect x=\"121\" y=\"125\" width=\"2201\" height=\"1378\"/>\n",
       "  </clipPath>\n",
       "</defs>\n",
       "<polyline clip-path=\"url(#clip5003)\" style=\"stroke:#000000; stroke-width:2; stroke-opacity:0.1; fill:none\" points=\"\n",
       "  183.515,1503.47 183.515,125.984 \n",
       "  \"/>\n",
       "<polyline clip-path=\"url(#clip5003)\" style=\"stroke:#000000; stroke-width:2; stroke-opacity:0.1; fill:none\" points=\"\n",
       "  875.342,1503.47 875.342,125.984 \n",
       "  \"/>\n",
       "<polyline clip-path=\"url(#clip5003)\" style=\"stroke:#000000; stroke-width:2; stroke-opacity:0.1; fill:none\" points=\"\n",
       "  1567.17,1503.47 1567.17,125.984 \n",
       "  \"/>\n",
       "<polyline clip-path=\"url(#clip5003)\" style=\"stroke:#000000; stroke-width:2; stroke-opacity:0.1; fill:none\" points=\"\n",
       "  2259,1503.47 2259,125.984 \n",
       "  \"/>\n",
       "<polyline clip-path=\"url(#clip5003)\" style=\"stroke:#000000; stroke-width:2; stroke-opacity:0.1; fill:none\" points=\"\n",
       "  121.251,1464.49 2321.26,1464.49 \n",
       "  \"/>\n",
       "<polyline clip-path=\"url(#clip5003)\" style=\"stroke:#000000; stroke-width:2; stroke-opacity:0.1; fill:none\" points=\"\n",
       "  121.251,1175.71 2321.26,1175.71 \n",
       "  \"/>\n",
       "<polyline clip-path=\"url(#clip5003)\" style=\"stroke:#000000; stroke-width:2; stroke-opacity:0.1; fill:none\" points=\"\n",
       "  121.251,886.925 2321.26,886.925 \n",
       "  \"/>\n",
       "<polyline clip-path=\"url(#clip5003)\" style=\"stroke:#000000; stroke-width:2; stroke-opacity:0.1; fill:none\" points=\"\n",
       "  121.251,598.143 2321.26,598.143 \n",
       "  \"/>\n",
       "<polyline clip-path=\"url(#clip5003)\" style=\"stroke:#000000; stroke-width:2; stroke-opacity:0.1; fill:none\" points=\"\n",
       "  121.251,309.361 2321.26,309.361 \n",
       "  \"/>\n",
       "<polyline clip-path=\"url(#clip5001)\" style=\"stroke:#000000; stroke-width:4; stroke-opacity:1; fill:none\" points=\"\n",
       "  121.251,1503.47 2321.26,1503.47 \n",
       "  \"/>\n",
       "<polyline clip-path=\"url(#clip5001)\" style=\"stroke:#000000; stroke-width:4; stroke-opacity:1; fill:none\" points=\"\n",
       "  121.251,1503.47 121.251,125.984 \n",
       "  \"/>\n",
       "<polyline clip-path=\"url(#clip5001)\" style=\"stroke:#000000; stroke-width:4; stroke-opacity:1; fill:none\" points=\"\n",
       "  183.515,1503.47 183.515,1482.81 \n",
       "  \"/>\n",
       "<polyline clip-path=\"url(#clip5001)\" style=\"stroke:#000000; stroke-width:4; stroke-opacity:1; fill:none\" points=\"\n",
       "  875.342,1503.47 875.342,1482.81 \n",
       "  \"/>\n",
       "<polyline clip-path=\"url(#clip5001)\" style=\"stroke:#000000; stroke-width:4; stroke-opacity:1; fill:none\" points=\"\n",
       "  1567.17,1503.47 1567.17,1482.81 \n",
       "  \"/>\n",
       "<polyline clip-path=\"url(#clip5001)\" style=\"stroke:#000000; stroke-width:4; stroke-opacity:1; fill:none\" points=\"\n",
       "  2259,1503.47 2259,1482.81 \n",
       "  \"/>\n",
       "<polyline clip-path=\"url(#clip5001)\" style=\"stroke:#000000; stroke-width:4; stroke-opacity:1; fill:none\" points=\"\n",
       "  121.251,1464.49 154.251,1464.49 \n",
       "  \"/>\n",
       "<polyline clip-path=\"url(#clip5001)\" style=\"stroke:#000000; stroke-width:4; stroke-opacity:1; fill:none\" points=\"\n",
       "  121.251,1175.71 154.251,1175.71 \n",
       "  \"/>\n",
       "<polyline clip-path=\"url(#clip5001)\" style=\"stroke:#000000; stroke-width:4; stroke-opacity:1; fill:none\" points=\"\n",
       "  121.251,886.925 154.251,886.925 \n",
       "  \"/>\n",
       "<polyline clip-path=\"url(#clip5001)\" style=\"stroke:#000000; stroke-width:4; stroke-opacity:1; fill:none\" points=\"\n",
       "  121.251,598.143 154.251,598.143 \n",
       "  \"/>\n",
       "<polyline clip-path=\"url(#clip5001)\" style=\"stroke:#000000; stroke-width:4; stroke-opacity:1; fill:none\" points=\"\n",
       "  121.251,309.361 154.251,309.361 \n",
       "  \"/>\n",
       "<g clip-path=\"url(#clip5001)\">\n",
       "<text style=\"fill:#000000; fill-opacity:1; font-family:Arial,Helvetica Neue,Helvetica,sans-serif; font-size:48px; text-anchor:middle;\" transform=\"rotate(0, 183.515, 1557.47)\" x=\"183.515\" y=\"1557.47\">0</text>\n",
       "</g>\n",
       "<g clip-path=\"url(#clip5001)\">\n",
       "<text style=\"fill:#000000; fill-opacity:1; font-family:Arial,Helvetica Neue,Helvetica,sans-serif; font-size:48px; text-anchor:middle;\" transform=\"rotate(0, 875.342, 1557.47)\" x=\"875.342\" y=\"1557.47\">1</text>\n",
       "</g>\n",
       "<g clip-path=\"url(#clip5001)\">\n",
       "<text style=\"fill:#000000; fill-opacity:1; font-family:Arial,Helvetica Neue,Helvetica,sans-serif; font-size:48px; text-anchor:middle;\" transform=\"rotate(0, 1567.17, 1557.47)\" x=\"1567.17\" y=\"1557.47\">2</text>\n",
       "</g>\n",
       "<g clip-path=\"url(#clip5001)\">\n",
       "<text style=\"fill:#000000; fill-opacity:1; font-family:Arial,Helvetica Neue,Helvetica,sans-serif; font-size:48px; text-anchor:middle;\" transform=\"rotate(0, 2259, 1557.47)\" x=\"2259\" y=\"1557.47\">3</text>\n",
       "</g>\n",
       "<g clip-path=\"url(#clip5001)\">\n",
       "<text style=\"fill:#000000; fill-opacity:1; font-family:Arial,Helvetica Neue,Helvetica,sans-serif; font-size:48px; text-anchor:end;\" transform=\"rotate(0, 97.2505, 1481.99)\" x=\"97.2505\" y=\"1481.99\">1</text>\n",
       "</g>\n",
       "<g clip-path=\"url(#clip5001)\">\n",
       "<text style=\"fill:#000000; fill-opacity:1; font-family:Arial,Helvetica Neue,Helvetica,sans-serif; font-size:48px; text-anchor:end;\" transform=\"rotate(0, 97.2505, 1193.21)\" x=\"97.2505\" y=\"1193.21\">3</text>\n",
       "</g>\n",
       "<g clip-path=\"url(#clip5001)\">\n",
       "<text style=\"fill:#000000; fill-opacity:1; font-family:Arial,Helvetica Neue,Helvetica,sans-serif; font-size:48px; text-anchor:end;\" transform=\"rotate(0, 97.2505, 904.425)\" x=\"97.2505\" y=\"904.425\">5</text>\n",
       "</g>\n",
       "<g clip-path=\"url(#clip5001)\">\n",
       "<text style=\"fill:#000000; fill-opacity:1; font-family:Arial,Helvetica Neue,Helvetica,sans-serif; font-size:48px; text-anchor:end;\" transform=\"rotate(0, 97.2505, 615.643)\" x=\"97.2505\" y=\"615.643\">7</text>\n",
       "</g>\n",
       "<g clip-path=\"url(#clip5001)\">\n",
       "<text style=\"fill:#000000; fill-opacity:1; font-family:Arial,Helvetica Neue,Helvetica,sans-serif; font-size:48px; text-anchor:end;\" transform=\"rotate(0, 97.2505, 326.861)\" x=\"97.2505\" y=\"326.861\">9</text>\n",
       "</g>\n",
       "<g clip-path=\"url(#clip5001)\">\n",
       "<text style=\"fill:#000000; fill-opacity:1; font-family:Arial,Helvetica Neue,Helvetica,sans-serif; font-size:84px; text-anchor:middle;\" transform=\"rotate(0, 1221.26, 73.2)\" x=\"1221.26\" y=\"73.2\">f(x) = x^2 + 1</text>\n",
       "</g>\n",
       "<polyline clip-path=\"url(#clip5003)\" style=\"stroke:#009af9; stroke-width:4; stroke-opacity:1; fill:none\" points=\"\n",
       "  183.515,1464.49 252.698,1463.05 321.88,1458.71 391.063,1451.49 460.246,1441.39 529.428,1428.39 598.611,1412.51 667.794,1393.74 736.976,1372.08 806.159,1347.53 \n",
       "  875.342,1320.1 944.524,1289.78 1013.71,1256.57 1082.89,1220.47 1152.07,1181.48 1221.26,1139.61 1290.44,1094.85 1359.62,1047.2 1428.8,996.662 1497.99,943.238 \n",
       "  1567.17,886.925 1636.35,827.725 1705.53,765.637 1774.72,700.661 1843.9,632.797 1913.08,562.045 1982.26,488.406 2051.45,411.879 2120.63,332.463 2189.81,250.161 \n",
       "  2259,164.97 \n",
       "  \"/>\n",
       "<polygon clip-path=\"url(#clip5001)\" points=\"\n",
       "1958.43,330.464 2249.26,330.464 2249.26,209.504 1958.43,209.504 \n",
       "  \" fill=\"#ffffff\" fill-rule=\"evenodd\" fill-opacity=\"1\"/>\n",
       "<polyline clip-path=\"url(#clip5001)\" style=\"stroke:#000000; stroke-width:4; stroke-opacity:1; fill:none\" points=\"\n",
       "  1958.43,330.464 2249.26,330.464 2249.26,209.504 1958.43,209.504 1958.43,330.464 \n",
       "  \"/>\n",
       "<polyline clip-path=\"url(#clip5001)\" style=\"stroke:#009af9; stroke-width:4; stroke-opacity:1; fill:none\" points=\"\n",
       "  1982.43,269.984 2126.43,269.984 \n",
       "  \"/>\n",
       "<g clip-path=\"url(#clip5001)\">\n",
       "<text style=\"fill:#000000; fill-opacity:1; font-family:Arial,Helvetica Neue,Helvetica,sans-serif; font-size:48px; text-anchor:start;\" transform=\"rotate(0, 2150.43, 287.484)\" x=\"2150.43\" y=\"287.484\">y1</text>\n",
       "</g>\n",
       "</svg>\n"
      ]
     },
     "execution_count": 3,
     "metadata": {},
     "output_type": "execute_result"
    }
   ],
   "source": [
    "# Automatic Differentiation\n",
    "# -------------------------\n",
    "\n",
    "# You probably learned to take derivatives in school. We start with a simple\n",
    "# mathematical function like:\n",
    "\n",
    "f(x) = x^2 + 1\n",
    "\n",
    "xs = collect(0:.1:3)\n",
    "\n",
    "plot(xs, f.(xs), title=\"f(x) = x^2 + 1\", yticks=1:2:9)"
   ]
  },
  {
   "cell_type": "code",
   "execution_count": 4,
   "metadata": {},
   "outputs": [
    {
     "data": {
      "image/svg+xml": [
       "<?xml version=\"1.0\" encoding=\"utf-8\"?>\n",
       "<svg xmlns=\"http://www.w3.org/2000/svg\" xmlns:xlink=\"http://www.w3.org/1999/xlink\" width=\"600\" height=\"400\" viewBox=\"0 0 2400 1600\">\n",
       "<defs>\n",
       "  <clipPath id=\"clip5200\">\n",
       "    <rect x=\"0\" y=\"0\" width=\"2000\" height=\"2000\"/>\n",
       "  </clipPath>\n",
       "</defs>\n",
       "<defs>\n",
       "  <clipPath id=\"clip5201\">\n",
       "    <rect x=\"0\" y=\"0\" width=\"2400\" height=\"1600\"/>\n",
       "  </clipPath>\n",
       "</defs>\n",
       "<polygon clip-path=\"url(#clip5201)\" points=\"\n",
       "0,1600 2400,1600 2400,0 0,0 \n",
       "  \" fill=\"#ffffff\" fill-rule=\"evenodd\" fill-opacity=\"1\"/>\n",
       "<defs>\n",
       "  <clipPath id=\"clip5202\">\n",
       "    <rect x=\"480\" y=\"0\" width=\"1681\" height=\"1600\"/>\n",
       "  </clipPath>\n",
       "</defs>\n",
       "<polygon clip-path=\"url(#clip5201)\" points=\"\n",
       "121.251,1503.47 2321.26,1503.47 2321.26,125.984 121.251,125.984 \n",
       "  \" fill=\"#ffffff\" fill-rule=\"evenodd\" fill-opacity=\"1\"/>\n",
       "<defs>\n",
       "  <clipPath id=\"clip5203\">\n",
       "    <rect x=\"121\" y=\"125\" width=\"2201\" height=\"1378\"/>\n",
       "  </clipPath>\n",
       "</defs>\n",
       "<polyline clip-path=\"url(#clip5203)\" style=\"stroke:#000000; stroke-width:2; stroke-opacity:0.1; fill:none\" points=\"\n",
       "  183.515,1503.47 183.515,125.984 \n",
       "  \"/>\n",
       "<polyline clip-path=\"url(#clip5203)\" style=\"stroke:#000000; stroke-width:2; stroke-opacity:0.1; fill:none\" points=\"\n",
       "  875.342,1503.47 875.342,125.984 \n",
       "  \"/>\n",
       "<polyline clip-path=\"url(#clip5203)\" style=\"stroke:#000000; stroke-width:2; stroke-opacity:0.1; fill:none\" points=\"\n",
       "  1567.17,1503.47 1567.17,125.984 \n",
       "  \"/>\n",
       "<polyline clip-path=\"url(#clip5203)\" style=\"stroke:#000000; stroke-width:2; stroke-opacity:0.1; fill:none\" points=\"\n",
       "  2259,1503.47 2259,125.984 \n",
       "  \"/>\n",
       "<polyline clip-path=\"url(#clip5203)\" style=\"stroke:#000000; stroke-width:2; stroke-opacity:0.1; fill:none\" points=\"\n",
       "  121.251,1464.49 2321.26,1464.49 \n",
       "  \"/>\n",
       "<polyline clip-path=\"url(#clip5203)\" style=\"stroke:#000000; stroke-width:2; stroke-opacity:0.1; fill:none\" points=\"\n",
       "  121.251,1175.71 2321.26,1175.71 \n",
       "  \"/>\n",
       "<polyline clip-path=\"url(#clip5203)\" style=\"stroke:#000000; stroke-width:2; stroke-opacity:0.1; fill:none\" points=\"\n",
       "  121.251,886.925 2321.26,886.925 \n",
       "  \"/>\n",
       "<polyline clip-path=\"url(#clip5203)\" style=\"stroke:#000000; stroke-width:2; stroke-opacity:0.1; fill:none\" points=\"\n",
       "  121.251,598.143 2321.26,598.143 \n",
       "  \"/>\n",
       "<polyline clip-path=\"url(#clip5203)\" style=\"stroke:#000000; stroke-width:2; stroke-opacity:0.1; fill:none\" points=\"\n",
       "  121.251,309.361 2321.26,309.361 \n",
       "  \"/>\n",
       "<polyline clip-path=\"url(#clip5201)\" style=\"stroke:#000000; stroke-width:4; stroke-opacity:1; fill:none\" points=\"\n",
       "  121.251,1503.47 2321.26,1503.47 \n",
       "  \"/>\n",
       "<polyline clip-path=\"url(#clip5201)\" style=\"stroke:#000000; stroke-width:4; stroke-opacity:1; fill:none\" points=\"\n",
       "  121.251,1503.47 121.251,125.984 \n",
       "  \"/>\n",
       "<polyline clip-path=\"url(#clip5201)\" style=\"stroke:#000000; stroke-width:4; stroke-opacity:1; fill:none\" points=\"\n",
       "  183.515,1503.47 183.515,1482.81 \n",
       "  \"/>\n",
       "<polyline clip-path=\"url(#clip5201)\" style=\"stroke:#000000; stroke-width:4; stroke-opacity:1; fill:none\" points=\"\n",
       "  875.342,1503.47 875.342,1482.81 \n",
       "  \"/>\n",
       "<polyline clip-path=\"url(#clip5201)\" style=\"stroke:#000000; stroke-width:4; stroke-opacity:1; fill:none\" points=\"\n",
       "  1567.17,1503.47 1567.17,1482.81 \n",
       "  \"/>\n",
       "<polyline clip-path=\"url(#clip5201)\" style=\"stroke:#000000; stroke-width:4; stroke-opacity:1; fill:none\" points=\"\n",
       "  2259,1503.47 2259,1482.81 \n",
       "  \"/>\n",
       "<polyline clip-path=\"url(#clip5201)\" style=\"stroke:#000000; stroke-width:4; stroke-opacity:1; fill:none\" points=\"\n",
       "  121.251,1464.49 154.251,1464.49 \n",
       "  \"/>\n",
       "<polyline clip-path=\"url(#clip5201)\" style=\"stroke:#000000; stroke-width:4; stroke-opacity:1; fill:none\" points=\"\n",
       "  121.251,1175.71 154.251,1175.71 \n",
       "  \"/>\n",
       "<polyline clip-path=\"url(#clip5201)\" style=\"stroke:#000000; stroke-width:4; stroke-opacity:1; fill:none\" points=\"\n",
       "  121.251,886.925 154.251,886.925 \n",
       "  \"/>\n",
       "<polyline clip-path=\"url(#clip5201)\" style=\"stroke:#000000; stroke-width:4; stroke-opacity:1; fill:none\" points=\"\n",
       "  121.251,598.143 154.251,598.143 \n",
       "  \"/>\n",
       "<polyline clip-path=\"url(#clip5201)\" style=\"stroke:#000000; stroke-width:4; stroke-opacity:1; fill:none\" points=\"\n",
       "  121.251,309.361 154.251,309.361 \n",
       "  \"/>\n",
       "<g clip-path=\"url(#clip5201)\">\n",
       "<text style=\"fill:#000000; fill-opacity:1; font-family:Arial,Helvetica Neue,Helvetica,sans-serif; font-size:48px; text-anchor:middle;\" transform=\"rotate(0, 183.515, 1557.47)\" x=\"183.515\" y=\"1557.47\">0</text>\n",
       "</g>\n",
       "<g clip-path=\"url(#clip5201)\">\n",
       "<text style=\"fill:#000000; fill-opacity:1; font-family:Arial,Helvetica Neue,Helvetica,sans-serif; font-size:48px; text-anchor:middle;\" transform=\"rotate(0, 875.342, 1557.47)\" x=\"875.342\" y=\"1557.47\">1</text>\n",
       "</g>\n",
       "<g clip-path=\"url(#clip5201)\">\n",
       "<text style=\"fill:#000000; fill-opacity:1; font-family:Arial,Helvetica Neue,Helvetica,sans-serif; font-size:48px; text-anchor:middle;\" transform=\"rotate(0, 1567.17, 1557.47)\" x=\"1567.17\" y=\"1557.47\">2</text>\n",
       "</g>\n",
       "<g clip-path=\"url(#clip5201)\">\n",
       "<text style=\"fill:#000000; fill-opacity:1; font-family:Arial,Helvetica Neue,Helvetica,sans-serif; font-size:48px; text-anchor:middle;\" transform=\"rotate(0, 2259, 1557.47)\" x=\"2259\" y=\"1557.47\">3</text>\n",
       "</g>\n",
       "<g clip-path=\"url(#clip5201)\">\n",
       "<text style=\"fill:#000000; fill-opacity:1; font-family:Arial,Helvetica Neue,Helvetica,sans-serif; font-size:48px; text-anchor:end;\" transform=\"rotate(0, 97.2505, 1481.99)\" x=\"97.2505\" y=\"1481.99\">1</text>\n",
       "</g>\n",
       "<g clip-path=\"url(#clip5201)\">\n",
       "<text style=\"fill:#000000; fill-opacity:1; font-family:Arial,Helvetica Neue,Helvetica,sans-serif; font-size:48px; text-anchor:end;\" transform=\"rotate(0, 97.2505, 1193.21)\" x=\"97.2505\" y=\"1193.21\">3</text>\n",
       "</g>\n",
       "<g clip-path=\"url(#clip5201)\">\n",
       "<text style=\"fill:#000000; fill-opacity:1; font-family:Arial,Helvetica Neue,Helvetica,sans-serif; font-size:48px; text-anchor:end;\" transform=\"rotate(0, 97.2505, 904.425)\" x=\"97.2505\" y=\"904.425\">5</text>\n",
       "</g>\n",
       "<g clip-path=\"url(#clip5201)\">\n",
       "<text style=\"fill:#000000; fill-opacity:1; font-family:Arial,Helvetica Neue,Helvetica,sans-serif; font-size:48px; text-anchor:end;\" transform=\"rotate(0, 97.2505, 615.643)\" x=\"97.2505\" y=\"615.643\">7</text>\n",
       "</g>\n",
       "<g clip-path=\"url(#clip5201)\">\n",
       "<text style=\"fill:#000000; fill-opacity:1; font-family:Arial,Helvetica Neue,Helvetica,sans-serif; font-size:48px; text-anchor:end;\" transform=\"rotate(0, 97.2505, 326.861)\" x=\"97.2505\" y=\"326.861\">9</text>\n",
       "</g>\n",
       "<g clip-path=\"url(#clip5201)\">\n",
       "<text style=\"fill:#000000; fill-opacity:1; font-family:Arial,Helvetica Neue,Helvetica,sans-serif; font-size:84px; text-anchor:middle;\" transform=\"rotate(0, 1221.26, 73.2)\" x=\"1221.26\" y=\"73.2\">f(x) = x^2 + 1</text>\n",
       "</g>\n",
       "<polyline clip-path=\"url(#clip5203)\" style=\"stroke:#009af9; stroke-width:4; stroke-opacity:1; fill:none\" points=\"\n",
       "  183.515,1464.49 252.698,1463.05 321.88,1458.71 391.063,1451.49 460.246,1441.39 529.428,1428.39 598.611,1412.51 667.794,1393.74 736.976,1372.08 806.159,1347.53 \n",
       "  875.342,1320.1 944.524,1289.78 1013.71,1256.57 1082.89,1220.47 1152.07,1181.48 1221.26,1139.61 1290.44,1094.85 1359.62,1047.2 1428.8,996.662 1497.99,943.238 \n",
       "  1567.17,886.925 1636.35,827.725 1705.53,765.637 1774.72,700.661 1843.9,632.797 1913.08,562.045 1982.26,488.406 2051.45,411.879 2120.63,332.463 2189.81,250.161 \n",
       "  2259,164.97 \n",
       "  \"/>\n",
       "<circle clip-path=\"url(#clip5203)\" style=\"fill:#000000; stroke:none; fill-opacity:1\" cx=\"1567.17\" cy=\"886.925\" r=\"18\"/>\n",
       "<circle clip-path=\"url(#clip5203)\" style=\"fill:#e26f46; stroke:none; fill-opacity:1\" cx=\"1567.17\" cy=\"886.925\" r=\"14\"/>\n",
       "</svg>\n"
      ]
     },
     "execution_count": 4,
     "metadata": {},
     "output_type": "execute_result"
    }
   ],
   "source": [
    "# pick a point on the line:\n",
    "\n",
    "x1 = 2\n",
    "y1 = f(x1)\n",
    "\n",
    "plot(xs, f.(xs), title=\"f(x) = x^2 + 1\", yticks=1:2:9)\n",
    "scatter!((x1, y1), leg=false)"
   ]
  },
  {
   "cell_type": "code",
   "execution_count": 5,
   "metadata": {},
   "outputs": [
    {
     "data": {
      "image/svg+xml": [
       "<?xml version=\"1.0\" encoding=\"utf-8\"?>\n",
       "<svg xmlns=\"http://www.w3.org/2000/svg\" xmlns:xlink=\"http://www.w3.org/1999/xlink\" width=\"600\" height=\"400\" viewBox=\"0 0 2400 1600\">\n",
       "<defs>\n",
       "  <clipPath id=\"clip5400\">\n",
       "    <rect x=\"0\" y=\"0\" width=\"2000\" height=\"2000\"/>\n",
       "  </clipPath>\n",
       "</defs>\n",
       "<defs>\n",
       "  <clipPath id=\"clip5401\">\n",
       "    <rect x=\"0\" y=\"0\" width=\"2400\" height=\"1600\"/>\n",
       "  </clipPath>\n",
       "</defs>\n",
       "<polygon clip-path=\"url(#clip5401)\" points=\"\n",
       "0,1600 2400,1600 2400,0 0,0 \n",
       "  \" fill=\"#ffffff\" fill-rule=\"evenodd\" fill-opacity=\"1\"/>\n",
       "<defs>\n",
       "  <clipPath id=\"clip5402\">\n",
       "    <rect x=\"480\" y=\"0\" width=\"1681\" height=\"1600\"/>\n",
       "  </clipPath>\n",
       "</defs>\n",
       "<polygon clip-path=\"url(#clip5401)\" points=\"\n",
       "121.251,1503.47 2321.26,1503.47 2321.26,125.984 121.251,125.984 \n",
       "  \" fill=\"#ffffff\" fill-rule=\"evenodd\" fill-opacity=\"1\"/>\n",
       "<defs>\n",
       "  <clipPath id=\"clip5403\">\n",
       "    <rect x=\"121\" y=\"125\" width=\"2201\" height=\"1378\"/>\n",
       "  </clipPath>\n",
       "</defs>\n",
       "<polyline clip-path=\"url(#clip5403)\" style=\"stroke:#000000; stroke-width:2; stroke-opacity:0.1; fill:none\" points=\"\n",
       "  183.515,1503.47 183.515,125.984 \n",
       "  \"/>\n",
       "<polyline clip-path=\"url(#clip5403)\" style=\"stroke:#000000; stroke-width:2; stroke-opacity:0.1; fill:none\" points=\"\n",
       "  875.342,1503.47 875.342,125.984 \n",
       "  \"/>\n",
       "<polyline clip-path=\"url(#clip5403)\" style=\"stroke:#000000; stroke-width:2; stroke-opacity:0.1; fill:none\" points=\"\n",
       "  1567.17,1503.47 1567.17,125.984 \n",
       "  \"/>\n",
       "<polyline clip-path=\"url(#clip5403)\" style=\"stroke:#000000; stroke-width:2; stroke-opacity:0.1; fill:none\" points=\"\n",
       "  2259,1503.47 2259,125.984 \n",
       "  \"/>\n",
       "<polyline clip-path=\"url(#clip5403)\" style=\"stroke:#000000; stroke-width:2; stroke-opacity:0.1; fill:none\" points=\"\n",
       "  121.251,1365.73 2321.26,1365.73 \n",
       "  \"/>\n",
       "<polyline clip-path=\"url(#clip5403)\" style=\"stroke:#000000; stroke-width:2; stroke-opacity:0.1; fill:none\" points=\"\n",
       "  121.251,1090.23 2321.26,1090.23 \n",
       "  \"/>\n",
       "<polyline clip-path=\"url(#clip5403)\" style=\"stroke:#000000; stroke-width:2; stroke-opacity:0.1; fill:none\" points=\"\n",
       "  121.251,814.729 2321.26,814.729 \n",
       "  \"/>\n",
       "<polyline clip-path=\"url(#clip5403)\" style=\"stroke:#000000; stroke-width:2; stroke-opacity:0.1; fill:none\" points=\"\n",
       "  121.251,539.231 2321.26,539.231 \n",
       "  \"/>\n",
       "<polyline clip-path=\"url(#clip5403)\" style=\"stroke:#000000; stroke-width:2; stroke-opacity:0.1; fill:none\" points=\"\n",
       "  121.251,263.733 2321.26,263.733 \n",
       "  \"/>\n",
       "<polyline clip-path=\"url(#clip5401)\" style=\"stroke:#000000; stroke-width:4; stroke-opacity:1; fill:none\" points=\"\n",
       "  121.251,1503.47 2321.26,1503.47 \n",
       "  \"/>\n",
       "<polyline clip-path=\"url(#clip5401)\" style=\"stroke:#000000; stroke-width:4; stroke-opacity:1; fill:none\" points=\"\n",
       "  121.251,1503.47 121.251,125.984 \n",
       "  \"/>\n",
       "<polyline clip-path=\"url(#clip5401)\" style=\"stroke:#000000; stroke-width:4; stroke-opacity:1; fill:none\" points=\"\n",
       "  183.515,1503.47 183.515,1482.81 \n",
       "  \"/>\n",
       "<polyline clip-path=\"url(#clip5401)\" style=\"stroke:#000000; stroke-width:4; stroke-opacity:1; fill:none\" points=\"\n",
       "  875.342,1503.47 875.342,1482.81 \n",
       "  \"/>\n",
       "<polyline clip-path=\"url(#clip5401)\" style=\"stroke:#000000; stroke-width:4; stroke-opacity:1; fill:none\" points=\"\n",
       "  1567.17,1503.47 1567.17,1482.81 \n",
       "  \"/>\n",
       "<polyline clip-path=\"url(#clip5401)\" style=\"stroke:#000000; stroke-width:4; stroke-opacity:1; fill:none\" points=\"\n",
       "  2259,1503.47 2259,1482.81 \n",
       "  \"/>\n",
       "<polyline clip-path=\"url(#clip5401)\" style=\"stroke:#000000; stroke-width:4; stroke-opacity:1; fill:none\" points=\"\n",
       "  121.251,1365.73 154.251,1365.73 \n",
       "  \"/>\n",
       "<polyline clip-path=\"url(#clip5401)\" style=\"stroke:#000000; stroke-width:4; stroke-opacity:1; fill:none\" points=\"\n",
       "  121.251,1090.23 154.251,1090.23 \n",
       "  \"/>\n",
       "<polyline clip-path=\"url(#clip5401)\" style=\"stroke:#000000; stroke-width:4; stroke-opacity:1; fill:none\" points=\"\n",
       "  121.251,814.729 154.251,814.729 \n",
       "  \"/>\n",
       "<polyline clip-path=\"url(#clip5401)\" style=\"stroke:#000000; stroke-width:4; stroke-opacity:1; fill:none\" points=\"\n",
       "  121.251,539.231 154.251,539.231 \n",
       "  \"/>\n",
       "<polyline clip-path=\"url(#clip5401)\" style=\"stroke:#000000; stroke-width:4; stroke-opacity:1; fill:none\" points=\"\n",
       "  121.251,263.733 154.251,263.733 \n",
       "  \"/>\n",
       "<g clip-path=\"url(#clip5401)\">\n",
       "<text style=\"fill:#000000; fill-opacity:1; font-family:Arial,Helvetica Neue,Helvetica,sans-serif; font-size:48px; text-anchor:middle;\" transform=\"rotate(0, 183.515, 1557.47)\" x=\"183.515\" y=\"1557.47\">0</text>\n",
       "</g>\n",
       "<g clip-path=\"url(#clip5401)\">\n",
       "<text style=\"fill:#000000; fill-opacity:1; font-family:Arial,Helvetica Neue,Helvetica,sans-serif; font-size:48px; text-anchor:middle;\" transform=\"rotate(0, 875.342, 1557.47)\" x=\"875.342\" y=\"1557.47\">1</text>\n",
       "</g>\n",
       "<g clip-path=\"url(#clip5401)\">\n",
       "<text style=\"fill:#000000; fill-opacity:1; font-family:Arial,Helvetica Neue,Helvetica,sans-serif; font-size:48px; text-anchor:middle;\" transform=\"rotate(0, 1567.17, 1557.47)\" x=\"1567.17\" y=\"1557.47\">2</text>\n",
       "</g>\n",
       "<g clip-path=\"url(#clip5401)\">\n",
       "<text style=\"fill:#000000; fill-opacity:1; font-family:Arial,Helvetica Neue,Helvetica,sans-serif; font-size:48px; text-anchor:middle;\" transform=\"rotate(0, 2259, 1557.47)\" x=\"2259\" y=\"1557.47\">3</text>\n",
       "</g>\n",
       "<g clip-path=\"url(#clip5401)\">\n",
       "<text style=\"fill:#000000; fill-opacity:1; font-family:Arial,Helvetica Neue,Helvetica,sans-serif; font-size:48px; text-anchor:end;\" transform=\"rotate(0, 97.2505, 1383.23)\" x=\"97.2505\" y=\"1383.23\">1</text>\n",
       "</g>\n",
       "<g clip-path=\"url(#clip5401)\">\n",
       "<text style=\"fill:#000000; fill-opacity:1; font-family:Arial,Helvetica Neue,Helvetica,sans-serif; font-size:48px; text-anchor:end;\" transform=\"rotate(0, 97.2505, 1107.73)\" x=\"97.2505\" y=\"1107.73\">3</text>\n",
       "</g>\n",
       "<g clip-path=\"url(#clip5401)\">\n",
       "<text style=\"fill:#000000; fill-opacity:1; font-family:Arial,Helvetica Neue,Helvetica,sans-serif; font-size:48px; text-anchor:end;\" transform=\"rotate(0, 97.2505, 832.229)\" x=\"97.2505\" y=\"832.229\">5</text>\n",
       "</g>\n",
       "<g clip-path=\"url(#clip5401)\">\n",
       "<text style=\"fill:#000000; fill-opacity:1; font-family:Arial,Helvetica Neue,Helvetica,sans-serif; font-size:48px; text-anchor:end;\" transform=\"rotate(0, 97.2505, 556.731)\" x=\"97.2505\" y=\"556.731\">7</text>\n",
       "</g>\n",
       "<g clip-path=\"url(#clip5401)\">\n",
       "<text style=\"fill:#000000; fill-opacity:1; font-family:Arial,Helvetica Neue,Helvetica,sans-serif; font-size:48px; text-anchor:end;\" transform=\"rotate(0, 97.2505, 281.233)\" x=\"97.2505\" y=\"281.233\">9</text>\n",
       "</g>\n",
       "<g clip-path=\"url(#clip5401)\">\n",
       "<text style=\"fill:#000000; fill-opacity:1; font-family:Arial,Helvetica Neue,Helvetica,sans-serif; font-size:84px; text-anchor:middle;\" transform=\"rotate(0, 1221.26, 73.2)\" x=\"1221.26\" y=\"73.2\">Slope of tangent line is 4.0</text>\n",
       "</g>\n",
       "<polyline clip-path=\"url(#clip5403)\" style=\"stroke:#009af9; stroke-width:4; stroke-opacity:1; fill:none\" points=\"\n",
       "  183.515,1365.73 252.698,1364.35 321.88,1360.22 391.063,1353.33 460.246,1343.69 529.428,1331.29 598.611,1316.14 667.794,1298.23 736.976,1277.57 806.159,1254.15 \n",
       "  875.342,1227.98 944.524,1199.05 1013.71,1167.37 1082.89,1132.93 1152.07,1095.74 1221.26,1055.79 1290.44,1013.09 1359.62,967.631 1428.8,919.419 1497.99,868.452 \n",
       "  1567.17,814.729 1636.35,758.252 1705.53,699.02 1774.72,637.033 1843.9,572.291 1913.08,504.794 1982.26,434.542 2051.45,361.535 2120.63,285.773 2189.81,207.256 \n",
       "  2259,125.984 \n",
       "  \"/>\n",
       "<circle clip-path=\"url(#clip5403)\" style=\"fill:#000000; stroke:none; fill-opacity:1\" cx=\"1567.17\" cy=\"814.729\" r=\"18\"/>\n",
       "<circle clip-path=\"url(#clip5403)\" style=\"fill:#e26f46; stroke:none; fill-opacity:1\" cx=\"1567.17\" cy=\"814.729\" r=\"14\"/>\n",
       "<polyline clip-path=\"url(#clip5403)\" style=\"stroke:#ff0000; stroke-width:4; stroke-opacity:1; fill:none\" points=\"\n",
       "  183.515,1916.72 252.698,1861.62 321.88,1806.52 391.063,1751.42 460.246,1696.32 529.428,1641.22 598.611,1586.12 667.794,1531.02 736.976,1475.92 806.159,1420.83 \n",
       "  875.342,1365.73 944.524,1310.63 1013.71,1255.53 1082.89,1200.43 1152.07,1145.33 1221.26,1090.23 1290.44,1035.13 1359.62,980.028 1428.8,924.929 1497.99,869.829 \n",
       "  1567.17,814.729 1636.35,759.63 1705.53,704.53 1774.72,649.431 1843.9,594.331 1913.08,539.231 1982.26,484.132 2051.45,429.032 2120.63,373.933 2189.81,318.833 \n",
       "  2259,263.733 \n",
       "  \"/>\n",
       "<polygon clip-path=\"url(#clip5401)\" points=\"\n",
       "1625.3,451.424 2249.26,451.424 2249.26,209.504 1625.3,209.504 \n",
       "  \" fill=\"#ffffff\" fill-rule=\"evenodd\" fill-opacity=\"1\"/>\n",
       "<polyline clip-path=\"url(#clip5401)\" style=\"stroke:#000000; stroke-width:4; stroke-opacity:1; fill:none\" points=\"\n",
       "  1625.3,451.424 2249.26,451.424 2249.26,209.504 1625.3,209.504 1625.3,451.424 \n",
       "  \"/>\n",
       "<polyline clip-path=\"url(#clip5401)\" style=\"stroke:#009af9; stroke-width:4; stroke-opacity:1; fill:none\" points=\"\n",
       "  1649.3,269.984 1793.3,269.984 \n",
       "  \"/>\n",
       "<g clip-path=\"url(#clip5401)\">\n",
       "<text style=\"fill:#000000; fill-opacity:1; font-family:Arial,Helvetica Neue,Helvetica,sans-serif; font-size:48px; text-anchor:start;\" transform=\"rotate(0, 1817.3, 287.484)\" x=\"1817.3\" y=\"287.484\">y = x^2 + 1</text>\n",
       "</g>\n",
       "<circle clip-path=\"url(#clip5401)\" style=\"fill:#000000; stroke:none; fill-opacity:1\" cx=\"1733.3\" cy=\"330.464\" r=\"25\"/>\n",
       "<circle clip-path=\"url(#clip5401)\" style=\"fill:#e26f46; stroke:none; fill-opacity:1\" cx=\"1733.3\" cy=\"330.464\" r=\"21\"/>\n",
       "<g clip-path=\"url(#clip5401)\">\n",
       "<text style=\"fill:#000000; fill-opacity:1; font-family:Arial,Helvetica Neue,Helvetica,sans-serif; font-size:48px; text-anchor:start;\" transform=\"rotate(0, 1817.3, 347.964)\" x=\"1817.3\" y=\"347.964\">(2, 5)</text>\n",
       "</g>\n",
       "<polyline clip-path=\"url(#clip5401)\" style=\"stroke:#ff0000; stroke-width:4; stroke-opacity:1; fill:none\" points=\"\n",
       "  1649.3,390.944 1793.3,390.944 \n",
       "  \"/>\n",
       "<g clip-path=\"url(#clip5401)\">\n",
       "<text style=\"fill:#000000; fill-opacity:1; font-family:Arial,Helvetica Neue,Helvetica,sans-serif; font-size:48px; text-anchor:start;\" transform=\"rotate(0, 1817.3, 408.444)\" x=\"1817.3\" y=\"408.444\">y = 4.0*(x - 2) + 5</text>\n",
       "</g>\n",
       "</svg>\n"
      ]
     },
     "execution_count": 5,
     "metadata": {},
     "output_type": "execute_result"
    }
   ],
   "source": [
    "# Now, we can use Flux to get the derivative (slope) at that point.\n",
    "using Flux.Tracker: gradient, data\n",
    "\n",
    "# \"The gradient function takes another Julia function f and a set of arguments, \n",
    "# and returns the gradient with respect to each argument.\" \n",
    "# - https://fluxml.ai/Flux.jl/stable/models/basics/\n",
    "\n",
    "# The 'data' function extracts just the numeric value from the object.\n",
    "\n",
    "\n",
    "m = data(gradient(f, 2)[1])\n",
    "\n",
    "# using point-slope formula.\n",
    "# y - y1 = m*(x - x1)\n",
    "g(x) = m*(x - x1) + y1\n",
    "\n",
    "\n",
    "\n",
    "plot(xs, f.(xs), label=\"y = x^2 + 1\")\n",
    "scatter!((x1, y1), label=\"($x1, $y1)\")\n",
    "plot!(xs, g.(xs), color=:red, ylim=(0, 10), label=\"y = $m*(x - $x1) + $y1\", title=\"Slope of tangent line is $m\", yticks=1:2:9)"
   ]
  },
  {
   "cell_type": "code",
   "execution_count": 6,
   "metadata": {},
   "outputs": [],
   "source": [
    "# Flux can work out "
   ]
  },
  {
   "cell_type": "code",
   "execution_count": 7,
   "metadata": {},
   "outputs": [
    {
     "data": {
      "text/plain": [
       "(1.2246467991473532e-16 (tracked),)"
      ]
     },
     "execution_count": 7,
     "metadata": {},
     "output_type": "execute_result"
    }
   ],
   "source": [
    "# Flux's AD can handle any Julia code you throw at it, including loops,\n",
    "# recursion and custom layers, so long as the mathematical functions you call\n",
    "# are differentiable.\n",
    "\n",
    "# Therefore, we can find the derivatives of more complicated functions, e.g. \n",
    "# functions that are the composition of functions, e.g. the chain rule.\n",
    "\n",
    "f(x) = sin(x)\n",
    "g(x) = 2x\n",
    "\n",
    "#       sin(2x)\n",
    "h(x) = (f ∘ g)(x)\n",
    "\n",
    "gradient(h, π/4)"
   ]
  },
  {
   "cell_type": "code",
   "execution_count": 8,
   "metadata": {},
   "outputs": [
    {
     "ename": "UndefVarError",
     "evalue": "UndefVarError: softmax not defined",
     "output_type": "error",
     "traceback": [
      "UndefVarError: softmax not defined",
      "",
      "Stacktrace:",
      " [1] top-level scope at In[8]:1"
     ]
    }
   ],
   "source": [
    "\n",
    "\n",
    "softmax([3])\n",
    "\n",
    "#relu(5)\n",
    "\n",
    "#relu([1 2]*[3, 4])"
   ]
  },
  {
   "cell_type": "code",
   "execution_count": 9,
   "metadata": {},
   "outputs": [
    {
     "ename": "UndefVarError",
     "evalue": "UndefVarError: relu not defined",
     "output_type": "error",
     "traceback": [
      "UndefVarError: relu not defined",
      "",
      "Stacktrace:",
      " [1] g(::TrackedArray{…,Array{Float64,1}}) at ./In[9]:6",
      " [2] node(::TrackedArray{…,Array{Float64,1}}) at ./operators.jl:832",
      " [3] #8 at /home/jw/.julia/packages/Flux/jsf3Y/src/tracker/back.jl:139 [inlined]",
      " [4] forward at /home/jw/.julia/packages/Flux/jsf3Y/src/tracker/back.jl:126 [inlined]",
      " [5] forward(::Function, ::Array{Int64,1}) at /home/jw/.julia/packages/Flux/jsf3Y/src/tracker/back.jl:139",
      " [6] gradient(::Function, ::Array{Int64,1}) at /home/jw/.julia/packages/Flux/jsf3Y/src/tracker/back.jl:150",
      " [7] top-level scope at In[9]:11"
     ]
    }
   ],
   "source": [
    "# which is basically what is used for deep learning.\n",
    "# suppose the training set has 2 features.\n",
    "f(x) = [1 2]*x\n",
    "\n",
    "# use activation function of relu\n",
    "g(x) = relu(x)\n",
    "\n",
    "node(x) = (g ∘ f)(x)\n",
    "\n",
    "[3, 4]\n",
    "\n",
    "gradient(node, [3, 4])"
   ]
  },
  {
   "cell_type": "code",
   "execution_count": null,
   "metadata": {},
   "outputs": [],
   "source": []
  },
  {
   "cell_type": "code",
   "execution_count": null,
   "metadata": {},
   "outputs": [],
   "source": []
  },
  {
   "cell_type": "code",
   "execution_count": 10,
   "metadata": {},
   "outputs": [
    {
     "ename": "ErrorException",
     "evalue": "Function output is not scalar",
     "output_type": "error",
     "traceback": [
      "Function output is not scalar",
      "",
      "Stacktrace:",
      " [1] error(::String) at ./error.jl:33",
      " [2] losscheck(::TrackedArray{…,Array{Float64,2}}) at /home/jw/.julia/packages/Flux/jsf3Y/src/tracker/back.jl:144",
      " [3] gradient(::Function, ::Int64) at /home/jw/.julia/packages/Flux/jsf3Y/src/tracker/back.jl:151",
      " [4] derivative(::Function, ::Int64) at /home/jw/.julia/packages/Flux/jsf3Y/src/tracker/back.jl:155",
      " [5] df(::Int64) at ./In[10]:6",
      " [6] top-level scope at In[10]:7"
     ]
    }
   ],
   "source": [
    "# In simple cases it's pretty easy to work out the gradient by hand – here it's\n",
    "# `2x`. But it's much easier to make Flux do the work for us!\n",
    "\n",
    "using Flux.Tracker: derivative, gradient\n",
    "\n",
    "df(x) = derivative(f, x)\n",
    "\n",
    "df(5)"
   ]
  },
  {
   "cell_type": "code",
   "execution_count": 11,
   "metadata": {},
   "outputs": [
    {
     "data": {
      "text/plain": [
       "(0.4794255386041834, (0.8775825618898637 (tracked),))"
      ]
     },
     "execution_count": 11,
     "metadata": {},
     "output_type": "execute_result"
    }
   ],
   "source": [
    "# Flux's AD can handle any Julia code you throw at it, including loops,\n",
    "# recursion and custom layers, so long as the mathematical functions you call\n",
    "# are differentiable. For example, we can differentiate a Taylor approximation\n",
    "# to the `sin` function.\n",
    "\n",
    "mysin(x) = sum((-1)^k*x^(1+2k)/factorial(1+2k) for k in 0:5)\n",
    "\n",
    "x = 0.5\n",
    "\n",
    "mysin(x), gradient(mysin, x)"
   ]
  },
  {
   "cell_type": "code",
   "execution_count": 12,
   "metadata": {},
   "outputs": [
    {
     "data": {
      "text/plain": [
       "(0.479425538604203, 0.8775825618903728)"
      ]
     },
     "execution_count": 12,
     "metadata": {},
     "output_type": "execute_result"
    }
   ],
   "source": [
    "# You can see that the derivative we calculated is very close to `cos(x)`, as we\n",
    "# expect.\n",
    "\n",
    "sin(x), cos(x)"
   ]
  },
  {
   "cell_type": "code",
   "execution_count": 13,
   "metadata": {},
   "outputs": [
    {
     "data": {
      "text/plain": [
       "Tracked 5-element Array{Float64,1}:\n",
       "  0.9122201097395651  \n",
       "  0.6674138001689589  \n",
       "  0.3731235902586107  \n",
       "  1.3348637890353152  \n",
       " -0.036872296256577286"
      ]
     },
     "execution_count": 13,
     "metadata": {},
     "output_type": "execute_result"
    }
   ],
   "source": [
    "# This gets more interesting when we consider functions that take *arrays* as\n",
    "# inputs, rather than just a single number. For example, here's a function that\n",
    "# takes a matrix and two vectors (the definition itself is arbitrary)\n",
    "\n",
    "myloss(W, b, x) = sum(W * x .+ b)\n",
    "\n",
    "W = randn(3, 5)\n",
    "b = zeros(3)\n",
    "x = rand(5)\n",
    "\n",
    "gs = gradient(myloss, W, b, x)\n",
    "\n",
    "# Shows gradients with respect to third argument to function, the vector x.\n",
    "# can see the others with gs[1], gs[2]\n",
    "gs[3]"
   ]
  },
  {
   "cell_type": "code",
   "execution_count": 14,
   "metadata": {},
   "outputs": [],
   "source": [
    "# Now we get gradients for each of the inputs `W`, `b` and `x`, which will come\n",
    "# in handy when we want to train models."
   ]
  },
  {
   "cell_type": "code",
   "execution_count": 15,
   "metadata": {},
   "outputs": [
    {
     "data": {
      "text/plain": [
       "0.46318414023142995 (tracked)"
      ]
     },
     "execution_count": 15,
     "metadata": {},
     "output_type": "execute_result"
    }
   ],
   "source": [
    "# Because ML models can contain hundreds of parameters, Flux provides a slightly\n",
    "# different way of writing `gradient`. We instead mark arrays with `param` to\n",
    "# indicate that we want their derivatives. `W` and `b` represent the weight and\n",
    "# bias respectively.\n",
    "\n",
    "using Flux.Tracker: param, back!, grad\n",
    "\n",
    "W = param(randn(3, 5))\n",
    "b = param(zeros(3))\n",
    "x = rand(5)\n",
    "\n",
    "y = sum(W * x .+ b)"
   ]
  },
  {
   "cell_type": "code",
   "execution_count": 16,
   "metadata": {},
   "outputs": [
    {
     "data": {
      "text/plain": [
       "([0.305837 0.430308 … 0.0444368 0.172228; 0.305837 0.430308 … 0.0444368 0.172228; 0.305837 0.430308 … 0.0444368 0.172228], [1.0, 1.0, 1.0])"
      ]
     },
     "execution_count": 16,
     "metadata": {},
     "output_type": "execute_result"
    }
   ],
   "source": [
    "# Anything marked `param` becomes *tracked*, indicating that Flux keeping an eye\n",
    "# on its gradient. We can now call\n",
    "\n",
    "back!(y) # Run backpropagation\n",
    "\n",
    "grad(W), grad(b)"
   ]
  },
  {
   "cell_type": "code",
   "execution_count": 17,
   "metadata": {},
   "outputs": [],
   "source": [
    "# We can now grab the gradients of `W` and `b` directly from those parameters."
   ]
  },
  {
   "cell_type": "code",
   "execution_count": 18,
   "metadata": {},
   "outputs": [
    {
     "data": {
      "text/plain": [
       "Tracked 5-element Array{Float64,1}:\n",
       " -1.3888587692539272\n",
       "  0.5025825540999755\n",
       "  0.9534743290625038\n",
       "  1.0160409891793574\n",
       "  0.7445883909515696"
      ]
     },
     "execution_count": 18,
     "metadata": {},
     "output_type": "execute_result"
    }
   ],
   "source": [
    "# This comes in handy when working with *layers*. A layer is just a handy\n",
    "# container for some parameters. For example, `Dense` does a linear transform\n",
    "# for you.\n",
    "\n",
    "using Flux\n",
    "\n",
    "model = Dense(10, 5)\n",
    "\n",
    "x = rand(10)\n",
    "\n",
    "model(x)"
   ]
  },
  {
   "cell_type": "code",
   "execution_count": 19,
   "metadata": {},
   "outputs": [
    {
     "data": {
      "text/plain": [
       "0-element Array{Any,1}"
      ]
     },
     "execution_count": 19,
     "metadata": {},
     "output_type": "execute_result"
    }
   ],
   "source": [
    "# We can easily get the parameters of any layer or model with params with\n",
    "# `params`.\n",
    "\n",
    "params(m)"
   ]
  },
  {
   "cell_type": "code",
   "execution_count": 20,
   "metadata": {},
   "outputs": [
    {
     "data": {
      "text/plain": [
       "4-element Array{Array{Float64,N} where N,1}:\n",
       " [-0.000748418 -0.000874047 … -0.000588098 -0.000520747; 0.0 0.0 … 0.0 0.0; … ; 0.00155549 0.00181659 … 0.00122228 0.0010823; -0.000501382 -0.000585544 … -0.00039398 -0.00034886]\n",
       " [-0.000961181, 0.0, 0.000908655, 0.00199769, -0.000643917]                                                                                                                       \n",
       " [0.000606236 0.0 … 0.000247061 0.000913894; -0.000606236 0.0 … -0.000247061 -0.000913894]                                                                                        \n",
       " [0.00338433, -0.00338433]                                                                                                                                                        "
      ]
     },
     "execution_count": 20,
     "metadata": {},
     "output_type": "execute_result"
    }
   ],
   "source": [
    "# This makes it very easy to do backpropagation and get the gradient for all\n",
    "# parameters in a network, even if it has many parameters.\n",
    "\n",
    "m = Chain(Dense(10, 5, relu), Dense(5, 2), softmax)\n",
    "\n",
    "l = sum(Flux.crossentropy(m(x), [0.5, 0.5]))\n",
    "back!(l)\n",
    "\n",
    "grad.(params(m))"
   ]
  },
  {
   "cell_type": "code",
   "execution_count": 21,
   "metadata": {},
   "outputs": [],
   "source": [
    "# You don't have to use layers, but they can be convient for many simple kinds\n",
    "# of models and fast iteration."
   ]
  },
  {
   "cell_type": "code",
   "execution_count": 22,
   "metadata": {},
   "outputs": [],
   "source": [
    "# The next step is to update our weights and perform optimisation. As you might be\n",
    "# familiar, *Gradient Descent* is a simple algorithm that takes the weights and steps\n",
    "# using a learning rate and the gradients. `weights = weights - learning_rate * gradient`.\n",
    "\n",
    "using Flux.Tracker: update!\n",
    "\n",
    "η = 0.1\n",
    "for p in params(m)\n",
    "  update!(p, -η * grad(p))\n",
    "end\n"
   ]
  },
  {
   "cell_type": "code",
   "execution_count": 23,
   "metadata": {},
   "outputs": [],
   "source": [
    "# While this is a valid way of updating our weights, it can get more complicated as the\n",
    "# algorithms we use get more involved. \n"
   ]
  },
  {
   "cell_type": "code",
   "execution_count": 24,
   "metadata": {},
   "outputs": [],
   "source": [
    "# Flux comes with a bunch of pre-defined optimisers and makes writing our own really simple.\n",
    "# We just give it the model parameters and any other parameters of the optimisers themselves.\n",
    "\n",
    "opt = SGD(params(m), 0.01)\n",
    "opt() # updates the weights\n"
   ]
  },
  {
   "cell_type": "code",
   "execution_count": 25,
   "metadata": {},
   "outputs": [
    {
     "ename": "ErrorException",
     "evalue": "cannot assign variable Tracker.data from module Main",
     "output_type": "error",
     "traceback": [
      "cannot assign variable Tracker.data from module Main",
      "",
      "Stacktrace:",
      " [1] top-level scope at In[25]:1"
     ]
    }
   ],
   "source": [
    "# `Training` a network reduces down to iterating on a dataset mulitple times, performing these\n",
    "# steps in order. Just for a quick implementation, let’s train a network that learns to predict\n",
    "# `0.5` for every input of 10 floats. `Flux` defines the `train!` function to do it for us.\n",
    "\n",
    "data, labels = rand(10, 100), fill(0.5, 2, 100)\n",
    "\n",
    "loss(x, y) = sum(Flux.crossentropy(m(x), y))\n",
    "\n",
    "Flux.train!(loss, [(data,labels)], opt)"
   ]
  },
  {
   "cell_type": "markdown",
   "metadata": {},
   "source": [
    "You don't have to use `train!`. In cases where aribtrary logic might be better suited,\n",
    "you could open up this training loop like so:\n",
    "\n",
    "```julia\n",
    "  for d in training_set # assuming d looks like (data, labels)\n",
    "    # our super logic\n",
    "    l = loss(d...)\n",
    "    Tracker.back!(l)\n",
    "    opt()\n",
    "  end\n",
    "```\n"
   ]
  }
 ],
 "metadata": {
  "kernelspec": {
   "display_name": "Julia 1.0.3",
   "language": "julia",
   "name": "julia-1.0"
  },
  "language_info": {
   "file_extension": ".jl",
   "mimetype": "application/julia",
   "name": "julia",
   "version": "1.0.3"
  }
 },
 "nbformat": 4,
 "nbformat_minor": 2
}
