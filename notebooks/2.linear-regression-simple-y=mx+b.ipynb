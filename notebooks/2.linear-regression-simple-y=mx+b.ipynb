{
 "cells": [
  {
   "cell_type": "markdown",
   "metadata": {},
   "source": [
    "# Simple Linear Regression\n",
    "\n",
    "* We can use gradient descent to train a model to find known parameters."
   ]
  },
  {
   "cell_type": "code",
   "execution_count": 3,
   "metadata": {},
   "outputs": [
    {
     "name": "stderr",
     "output_type": "stream",
     "text": [
      "┌ Info: Recompiling stale cache file /home/jw/.julia/compiled/v1.0/Flux/QdkVy.ji for Flux [587475ba-b771-5e3f-ad9e-33799f191a9c]\n",
      "└ @ Base loading.jl:1190\n"
     ]
    }
   ],
   "source": [
    "using Plots\n",
    "\n",
    "using Flux\n",
    "using Flux: data\n",
    "\n",
    "# \"Backpropagation, or reverse-mode automatic differentiation, is handled by the Flux.Tracker module.\"\n",
    "# https://github.com/FluxML/Flux.jl/blob/master/docs/src/internals/tracker.md\n",
    "\n",
    "using Flux.Tracker\n",
    "using Flux.Tracker: gradient, update!"
   ]
  },
  {
   "cell_type": "code",
   "execution_count": 7,
   "metadata": {},
   "outputs": [
    {
     "data": {
      "image/svg+xml": [
       "<?xml version=\"1.0\" encoding=\"utf-8\"?>\n",
       "<svg xmlns=\"http://www.w3.org/2000/svg\" xmlns:xlink=\"http://www.w3.org/1999/xlink\" width=\"600\" height=\"400\" viewBox=\"0 0 2400 1600\">\n",
       "<defs>\n",
       "  <clipPath id=\"clip4400\">\n",
       "    <rect x=\"0\" y=\"0\" width=\"2000\" height=\"2000\"/>\n",
       "  </clipPath>\n",
       "</defs>\n",
       "<defs>\n",
       "  <clipPath id=\"clip4401\">\n",
       "    <rect x=\"0\" y=\"0\" width=\"2400\" height=\"1600\"/>\n",
       "  </clipPath>\n",
       "</defs>\n",
       "<polygon clip-path=\"url(#clip4401)\" points=\"\n",
       "0,1600 2400,1600 2400,0 0,0 \n",
       "  \" fill=\"#ffffff\" fill-rule=\"evenodd\" fill-opacity=\"1\"/>\n",
       "<defs>\n",
       "  <clipPath id=\"clip4402\">\n",
       "    <rect x=\"480\" y=\"0\" width=\"1681\" height=\"1600\"/>\n",
       "  </clipPath>\n",
       "</defs>\n",
       "<polygon clip-path=\"url(#clip4401)\" points=\"\n",
       "212.353,1440.48 2321.26,1440.48 2321.26,47.2441 212.353,47.2441 \n",
       "  \" fill=\"#ffffff\" fill-rule=\"evenodd\" fill-opacity=\"1\"/>\n",
       "<defs>\n",
       "  <clipPath id=\"clip4403\">\n",
       "    <rect x=\"212\" y=\"47\" width=\"2110\" height=\"1394\"/>\n",
       "  </clipPath>\n",
       "</defs>\n",
       "<polyline clip-path=\"url(#clip4403)\" style=\"stroke:#000000; stroke-width:2; stroke-opacity:0.1; fill:none\" points=\"\n",
       "  470.992,1440.48 470.992,47.2441 \n",
       "  \"/>\n",
       "<polyline clip-path=\"url(#clip4403)\" style=\"stroke:#000000; stroke-width:2; stroke-opacity:0.1; fill:none\" points=\"\n",
       "  868.899,1440.48 868.899,47.2441 \n",
       "  \"/>\n",
       "<polyline clip-path=\"url(#clip4403)\" style=\"stroke:#000000; stroke-width:2; stroke-opacity:0.1; fill:none\" points=\"\n",
       "  1266.81,1440.48 1266.81,47.2441 \n",
       "  \"/>\n",
       "<polyline clip-path=\"url(#clip4403)\" style=\"stroke:#000000; stroke-width:2; stroke-opacity:0.1; fill:none\" points=\"\n",
       "  1664.71,1440.48 1664.71,47.2441 \n",
       "  \"/>\n",
       "<polyline clip-path=\"url(#clip4403)\" style=\"stroke:#000000; stroke-width:2; stroke-opacity:0.1; fill:none\" points=\"\n",
       "  2062.62,1440.48 2062.62,47.2441 \n",
       "  \"/>\n",
       "<polyline clip-path=\"url(#clip4403)\" style=\"stroke:#000000; stroke-width:2; stroke-opacity:0.1; fill:none\" points=\"\n",
       "  212.353,1269.61 2321.26,1269.61 \n",
       "  \"/>\n",
       "<polyline clip-path=\"url(#clip4403)\" style=\"stroke:#000000; stroke-width:2; stroke-opacity:0.1; fill:none\" points=\"\n",
       "  212.353,1006.74 2321.26,1006.74 \n",
       "  \"/>\n",
       "<polyline clip-path=\"url(#clip4403)\" style=\"stroke:#000000; stroke-width:2; stroke-opacity:0.1; fill:none\" points=\"\n",
       "  212.353,743.863 2321.26,743.863 \n",
       "  \"/>\n",
       "<polyline clip-path=\"url(#clip4403)\" style=\"stroke:#000000; stroke-width:2; stroke-opacity:0.1; fill:none\" points=\"\n",
       "  212.353,480.988 2321.26,480.988 \n",
       "  \"/>\n",
       "<polyline clip-path=\"url(#clip4403)\" style=\"stroke:#000000; stroke-width:2; stroke-opacity:0.1; fill:none\" points=\"\n",
       "  212.353,218.113 2321.26,218.113 \n",
       "  \"/>\n",
       "<polyline clip-path=\"url(#clip4401)\" style=\"stroke:#000000; stroke-width:4; stroke-opacity:1; fill:none\" points=\"\n",
       "  212.353,1440.48 2321.26,1440.48 \n",
       "  \"/>\n",
       "<polyline clip-path=\"url(#clip4401)\" style=\"stroke:#000000; stroke-width:4; stroke-opacity:1; fill:none\" points=\"\n",
       "  212.353,1440.48 212.353,47.2441 \n",
       "  \"/>\n",
       "<polyline clip-path=\"url(#clip4401)\" style=\"stroke:#000000; stroke-width:4; stroke-opacity:1; fill:none\" points=\"\n",
       "  470.992,1440.48 470.992,1419.58 \n",
       "  \"/>\n",
       "<polyline clip-path=\"url(#clip4401)\" style=\"stroke:#000000; stroke-width:4; stroke-opacity:1; fill:none\" points=\"\n",
       "  868.899,1440.48 868.899,1419.58 \n",
       "  \"/>\n",
       "<polyline clip-path=\"url(#clip4401)\" style=\"stroke:#000000; stroke-width:4; stroke-opacity:1; fill:none\" points=\"\n",
       "  1266.81,1440.48 1266.81,1419.58 \n",
       "  \"/>\n",
       "<polyline clip-path=\"url(#clip4401)\" style=\"stroke:#000000; stroke-width:4; stroke-opacity:1; fill:none\" points=\"\n",
       "  1664.71,1440.48 1664.71,1419.58 \n",
       "  \"/>\n",
       "<polyline clip-path=\"url(#clip4401)\" style=\"stroke:#000000; stroke-width:4; stroke-opacity:1; fill:none\" points=\"\n",
       "  2062.62,1440.48 2062.62,1419.58 \n",
       "  \"/>\n",
       "<polyline clip-path=\"url(#clip4401)\" style=\"stroke:#000000; stroke-width:4; stroke-opacity:1; fill:none\" points=\"\n",
       "  212.353,1269.61 243.986,1269.61 \n",
       "  \"/>\n",
       "<polyline clip-path=\"url(#clip4401)\" style=\"stroke:#000000; stroke-width:4; stroke-opacity:1; fill:none\" points=\"\n",
       "  212.353,1006.74 243.986,1006.74 \n",
       "  \"/>\n",
       "<polyline clip-path=\"url(#clip4401)\" style=\"stroke:#000000; stroke-width:4; stroke-opacity:1; fill:none\" points=\"\n",
       "  212.353,743.863 243.986,743.863 \n",
       "  \"/>\n",
       "<polyline clip-path=\"url(#clip4401)\" style=\"stroke:#000000; stroke-width:4; stroke-opacity:1; fill:none\" points=\"\n",
       "  212.353,480.988 243.986,480.988 \n",
       "  \"/>\n",
       "<polyline clip-path=\"url(#clip4401)\" style=\"stroke:#000000; stroke-width:4; stroke-opacity:1; fill:none\" points=\"\n",
       "  212.353,218.113 243.986,218.113 \n",
       "  \"/>\n",
       "<g clip-path=\"url(#clip4401)\">\n",
       "<text style=\"fill:#000000; fill-opacity:1; font-family:Arial,Helvetica Neue,Helvetica,sans-serif; font-size:48px; text-anchor:middle;\" transform=\"rotate(0, 470.992, 1494.48)\" x=\"470.992\" y=\"1494.48\">-4</text>\n",
       "</g>\n",
       "<g clip-path=\"url(#clip4401)\">\n",
       "<text style=\"fill:#000000; fill-opacity:1; font-family:Arial,Helvetica Neue,Helvetica,sans-serif; font-size:48px; text-anchor:middle;\" transform=\"rotate(0, 868.899, 1494.48)\" x=\"868.899\" y=\"1494.48\">-2</text>\n",
       "</g>\n",
       "<g clip-path=\"url(#clip4401)\">\n",
       "<text style=\"fill:#000000; fill-opacity:1; font-family:Arial,Helvetica Neue,Helvetica,sans-serif; font-size:48px; text-anchor:middle;\" transform=\"rotate(0, 1266.81, 1494.48)\" x=\"1266.81\" y=\"1494.48\">0</text>\n",
       "</g>\n",
       "<g clip-path=\"url(#clip4401)\">\n",
       "<text style=\"fill:#000000; fill-opacity:1; font-family:Arial,Helvetica Neue,Helvetica,sans-serif; font-size:48px; text-anchor:middle;\" transform=\"rotate(0, 1664.71, 1494.48)\" x=\"1664.71\" y=\"1494.48\">2</text>\n",
       "</g>\n",
       "<g clip-path=\"url(#clip4401)\">\n",
       "<text style=\"fill:#000000; fill-opacity:1; font-family:Arial,Helvetica Neue,Helvetica,sans-serif; font-size:48px; text-anchor:middle;\" transform=\"rotate(0, 2062.62, 1494.48)\" x=\"2062.62\" y=\"1494.48\">4</text>\n",
       "</g>\n",
       "<g clip-path=\"url(#clip4401)\">\n",
       "<text style=\"fill:#000000; fill-opacity:1; font-family:Arial,Helvetica Neue,Helvetica,sans-serif; font-size:48px; text-anchor:end;\" transform=\"rotate(0, 188.353, 1287.11)\" x=\"188.353\" y=\"1287.11\">-1</text>\n",
       "</g>\n",
       "<g clip-path=\"url(#clip4401)\">\n",
       "<text style=\"fill:#000000; fill-opacity:1; font-family:Arial,Helvetica Neue,Helvetica,sans-serif; font-size:48px; text-anchor:end;\" transform=\"rotate(0, 188.353, 1024.24)\" x=\"188.353\" y=\"1024.24\">0</text>\n",
       "</g>\n",
       "<g clip-path=\"url(#clip4401)\">\n",
       "<text style=\"fill:#000000; fill-opacity:1; font-family:Arial,Helvetica Neue,Helvetica,sans-serif; font-size:48px; text-anchor:end;\" transform=\"rotate(0, 188.353, 761.363)\" x=\"188.353\" y=\"761.363\">1</text>\n",
       "</g>\n",
       "<g clip-path=\"url(#clip4401)\">\n",
       "<text style=\"fill:#000000; fill-opacity:1; font-family:Arial,Helvetica Neue,Helvetica,sans-serif; font-size:48px; text-anchor:end;\" transform=\"rotate(0, 188.353, 498.488)\" x=\"188.353\" y=\"498.488\">2</text>\n",
       "</g>\n",
       "<g clip-path=\"url(#clip4401)\">\n",
       "<text style=\"fill:#000000; fill-opacity:1; font-family:Arial,Helvetica Neue,Helvetica,sans-serif; font-size:48px; text-anchor:end;\" transform=\"rotate(0, 188.353, 235.613)\" x=\"188.353\" y=\"235.613\">3</text>\n",
       "</g>\n",
       "<g clip-path=\"url(#clip4401)\">\n",
       "<text style=\"fill:#000000; fill-opacity:1; font-family:Arial,Helvetica Neue,Helvetica,sans-serif; font-size:66px; text-anchor:middle;\" transform=\"rotate(0, 1266.81, 1590.4)\" x=\"1266.81\" y=\"1590.4\">x</text>\n",
       "</g>\n",
       "<g clip-path=\"url(#clip4401)\">\n",
       "<text style=\"fill:#000000; fill-opacity:1; font-family:Arial,Helvetica Neue,Helvetica,sans-serif; font-size:66px; text-anchor:middle;\" transform=\"rotate(-90, 57.6, 743.863)\" x=\"57.6\" y=\"743.863\">y = 0.5x + 1</text>\n",
       "</g>\n",
       "<circle clip-path=\"url(#clip4403)\" style=\"fill:#000000; stroke:none; fill-opacity:1\" cx=\"272.039\" cy=\"1401.05\" r=\"18\"/>\n",
       "<circle clip-path=\"url(#clip4403)\" style=\"fill:#009af9; stroke:none; fill-opacity:1\" cx=\"272.039\" cy=\"1401.05\" r=\"14\"/>\n",
       "<circle clip-path=\"url(#clip4403)\" style=\"fill:#000000; stroke:none; fill-opacity:1\" cx=\"470.992\" cy=\"1269.61\" r=\"18\"/>\n",
       "<circle clip-path=\"url(#clip4403)\" style=\"fill:#009af9; stroke:none; fill-opacity:1\" cx=\"470.992\" cy=\"1269.61\" r=\"14\"/>\n",
       "<circle clip-path=\"url(#clip4403)\" style=\"fill:#000000; stroke:none; fill-opacity:1\" cx=\"669.946\" cy=\"1138.18\" r=\"18\"/>\n",
       "<circle clip-path=\"url(#clip4403)\" style=\"fill:#009af9; stroke:none; fill-opacity:1\" cx=\"669.946\" cy=\"1138.18\" r=\"14\"/>\n",
       "<circle clip-path=\"url(#clip4403)\" style=\"fill:#000000; stroke:none; fill-opacity:1\" cx=\"868.899\" cy=\"1006.74\" r=\"18\"/>\n",
       "<circle clip-path=\"url(#clip4403)\" style=\"fill:#009af9; stroke:none; fill-opacity:1\" cx=\"868.899\" cy=\"1006.74\" r=\"14\"/>\n",
       "<circle clip-path=\"url(#clip4403)\" style=\"fill:#000000; stroke:none; fill-opacity:1\" cx=\"1067.85\" cy=\"875.301\" r=\"18\"/>\n",
       "<circle clip-path=\"url(#clip4403)\" style=\"fill:#009af9; stroke:none; fill-opacity:1\" cx=\"1067.85\" cy=\"875.301\" r=\"14\"/>\n",
       "<circle clip-path=\"url(#clip4403)\" style=\"fill:#000000; stroke:none; fill-opacity:1\" cx=\"1266.81\" cy=\"743.863\" r=\"18\"/>\n",
       "<circle clip-path=\"url(#clip4403)\" style=\"fill:#009af9; stroke:none; fill-opacity:1\" cx=\"1266.81\" cy=\"743.863\" r=\"14\"/>\n",
       "<circle clip-path=\"url(#clip4403)\" style=\"fill:#000000; stroke:none; fill-opacity:1\" cx=\"1465.76\" cy=\"612.426\" r=\"18\"/>\n",
       "<circle clip-path=\"url(#clip4403)\" style=\"fill:#009af9; stroke:none; fill-opacity:1\" cx=\"1465.76\" cy=\"612.426\" r=\"14\"/>\n",
       "<circle clip-path=\"url(#clip4403)\" style=\"fill:#000000; stroke:none; fill-opacity:1\" cx=\"1664.71\" cy=\"480.988\" r=\"18\"/>\n",
       "<circle clip-path=\"url(#clip4403)\" style=\"fill:#009af9; stroke:none; fill-opacity:1\" cx=\"1664.71\" cy=\"480.988\" r=\"14\"/>\n",
       "<circle clip-path=\"url(#clip4403)\" style=\"fill:#000000; stroke:none; fill-opacity:1\" cx=\"1863.67\" cy=\"349.551\" r=\"18\"/>\n",
       "<circle clip-path=\"url(#clip4403)\" style=\"fill:#009af9; stroke:none; fill-opacity:1\" cx=\"1863.67\" cy=\"349.551\" r=\"14\"/>\n",
       "<circle clip-path=\"url(#clip4403)\" style=\"fill:#000000; stroke:none; fill-opacity:1\" cx=\"2062.62\" cy=\"218.113\" r=\"18\"/>\n",
       "<circle clip-path=\"url(#clip4403)\" style=\"fill:#009af9; stroke:none; fill-opacity:1\" cx=\"2062.62\" cy=\"218.113\" r=\"14\"/>\n",
       "<circle clip-path=\"url(#clip4403)\" style=\"fill:#000000; stroke:none; fill-opacity:1\" cx=\"2261.57\" cy=\"86.6754\" r=\"18\"/>\n",
       "<circle clip-path=\"url(#clip4403)\" style=\"fill:#009af9; stroke:none; fill-opacity:1\" cx=\"2261.57\" cy=\"86.6754\" r=\"14\"/>\n",
       "</svg>\n"
      ]
     },
     "execution_count": 7,
     "metadata": {},
     "output_type": "execute_result"
    }
   ],
   "source": [
    "losses = []\n",
    "\n",
    "xs = collect(-5.:5.)\n",
    "\n",
    "# Create some data.  We already know the parameters we're going to \n",
    "# try to find; the slope m is 0.5 and the y-intercept is 1.\n",
    "# y = mx + b\n",
    "y = .5x .+ 1\n",
    "\n",
    "scatter(xs, y, xlabel=\"x\", ylabel=\"y = 0.5x + 1\", leg=false)"
   ]
  },
  {
   "cell_type": "code",
   "execution_count": 2,
   "metadata": {},
   "outputs": [
    {
     "data": {
      "text/plain": [
       "Tracked 1-element Array{Float64,1}:\n",
       " 2.0"
      ]
     },
     "execution_count": 2,
     "metadata": {},
     "output_type": "execute_result"
    }
   ],
   "source": [
    "# Goal, to predict sepal width from sepal length, \n",
    "# i.e. a simple linear regression.\n",
    "\n",
    "# Want slope 'w' and y-intercept 'b', such that:\n",
    "# sepal_width ≈ w*sepal_length + b\n",
    "\n",
    "\n",
    "# Start with some deliberately bad guesses for W and b:\n",
    "# does not converge, not sure why.\n",
    "# W = param(Float64[-2.])\n",
    "# b = param(Float64[14.])\n",
    "\n",
    "\n",
    "# THIS FUCKING WORKS; IT GETS THE Y-INTERCEPT CORRECT!\n",
    "# m = param(Float64[.5])\n",
    "# b = param(Float64[-3])\n",
    "\n",
    "\n",
    "# THIS FUCKING WORKS; IT GETS THE SLOPE CORRECT, WHEN LR IS 0.001\n",
    "# m = param(Float64[.4])\n",
    "# b = param(Float64[1])\n",
    "\n",
    "# \"We can tell Flux to treat something as a parameter via param.\"\n",
    "m = param(Float64[.4])\n",
    "b = param(Float64[2])\n"
   ]
  },
  {
   "cell_type": "code",
   "execution_count": null,
   "metadata": {},
   "outputs": [],
   "source": [
    "y"
   ]
  },
  {
   "cell_type": "code",
   "execution_count": 6,
   "metadata": {},
   "outputs": [
    {
     "data": {
      "text/plain": [
       "model (generic function with 1 method)"
      ]
     },
     "execution_count": 6,
     "metadata": {},
     "output_type": "execute_result"
    }
   ],
   "source": [
    "# Define a model.\n",
    "model(x, m, b) = m .* x .+ b\n"
   ]
  },
  {
   "cell_type": "code",
   "execution_count": null,
   "metadata": {},
   "outputs": [],
   "source": [
    "\n",
    "model(x)"
   ]
  },
  {
   "cell_type": "code",
   "execution_count": null,
   "metadata": {},
   "outputs": [],
   "source": []
  },
  {
   "cell_type": "code",
   "execution_count": 4,
   "metadata": {},
   "outputs": [
    {
     "data": {
      "image/svg+xml": [
       "<?xml version=\"1.0\" encoding=\"utf-8\"?>\n",
       "<svg xmlns=\"http://www.w3.org/2000/svg\" xmlns:xlink=\"http://www.w3.org/1999/xlink\" width=\"600\" height=\"400\" viewBox=\"0 0 2400 1600\">\n",
       "<defs>\n",
       "  <clipPath id=\"clip6400\">\n",
       "    <rect x=\"0\" y=\"0\" width=\"2000\" height=\"2000\"/>\n",
       "  </clipPath>\n",
       "</defs>\n",
       "<defs>\n",
       "  <clipPath id=\"clip6401\">\n",
       "    <rect x=\"0\" y=\"0\" width=\"2400\" height=\"1600\"/>\n",
       "  </clipPath>\n",
       "</defs>\n",
       "<polygon clip-path=\"url(#clip6401)\" points=\"\n",
       "0,1600 2400,1600 2400,0 0,0 \n",
       "  \" fill=\"#ffffff\" fill-rule=\"evenodd\" fill-opacity=\"1\"/>\n",
       "<defs>\n",
       "  <clipPath id=\"clip6402\">\n",
       "    <rect x=\"480\" y=\"0\" width=\"1681\" height=\"1600\"/>\n",
       "  </clipPath>\n",
       "</defs>\n",
       "<polygon clip-path=\"url(#clip6401)\" points=\"\n",
       "212.353,1440.48 2321.26,1440.48 2321.26,47.2441 212.353,47.2441 \n",
       "  \" fill=\"#ffffff\" fill-rule=\"evenodd\" fill-opacity=\"1\"/>\n",
       "<defs>\n",
       "  <clipPath id=\"clip6403\">\n",
       "    <rect x=\"212\" y=\"47\" width=\"2110\" height=\"1394\"/>\n",
       "  </clipPath>\n",
       "</defs>\n",
       "<polyline clip-path=\"url(#clip6403)\" style=\"stroke:#000000; stroke-width:2; stroke-opacity:0.1; fill:none\" points=\"\n",
       "  470.992,1440.48 470.992,47.2441 \n",
       "  \"/>\n",
       "<polyline clip-path=\"url(#clip6403)\" style=\"stroke:#000000; stroke-width:2; stroke-opacity:0.1; fill:none\" points=\"\n",
       "  868.899,1440.48 868.899,47.2441 \n",
       "  \"/>\n",
       "<polyline clip-path=\"url(#clip6403)\" style=\"stroke:#000000; stroke-width:2; stroke-opacity:0.1; fill:none\" points=\"\n",
       "  1266.81,1440.48 1266.81,47.2441 \n",
       "  \"/>\n",
       "<polyline clip-path=\"url(#clip6403)\" style=\"stroke:#000000; stroke-width:2; stroke-opacity:0.1; fill:none\" points=\"\n",
       "  1664.71,1440.48 1664.71,47.2441 \n",
       "  \"/>\n",
       "<polyline clip-path=\"url(#clip6403)\" style=\"stroke:#000000; stroke-width:2; stroke-opacity:0.1; fill:none\" points=\"\n",
       "  2062.62,1440.48 2062.62,47.2441 \n",
       "  \"/>\n",
       "<polyline clip-path=\"url(#clip6403)\" style=\"stroke:#000000; stroke-width:2; stroke-opacity:0.1; fill:none\" points=\"\n",
       "  212.353,1281.56 2321.26,1281.56 \n",
       "  \"/>\n",
       "<polyline clip-path=\"url(#clip6403)\" style=\"stroke:#000000; stroke-width:2; stroke-opacity:0.1; fill:none\" points=\"\n",
       "  212.353,1042.59 2321.26,1042.59 \n",
       "  \"/>\n",
       "<polyline clip-path=\"url(#clip6403)\" style=\"stroke:#000000; stroke-width:2; stroke-opacity:0.1; fill:none\" points=\"\n",
       "  212.353,803.608 2321.26,803.608 \n",
       "  \"/>\n",
       "<polyline clip-path=\"url(#clip6403)\" style=\"stroke:#000000; stroke-width:2; stroke-opacity:0.1; fill:none\" points=\"\n",
       "  212.353,564.63 2321.26,564.63 \n",
       "  \"/>\n",
       "<polyline clip-path=\"url(#clip6403)\" style=\"stroke:#000000; stroke-width:2; stroke-opacity:0.1; fill:none\" points=\"\n",
       "  212.353,325.653 2321.26,325.653 \n",
       "  \"/>\n",
       "<polyline clip-path=\"url(#clip6403)\" style=\"stroke:#000000; stroke-width:2; stroke-opacity:0.1; fill:none\" points=\"\n",
       "  212.353,86.6754 2321.26,86.6754 \n",
       "  \"/>\n",
       "<polyline clip-path=\"url(#clip6401)\" style=\"stroke:#000000; stroke-width:4; stroke-opacity:1; fill:none\" points=\"\n",
       "  212.353,1440.48 2321.26,1440.48 \n",
       "  \"/>\n",
       "<polyline clip-path=\"url(#clip6401)\" style=\"stroke:#000000; stroke-width:4; stroke-opacity:1; fill:none\" points=\"\n",
       "  212.353,1440.48 212.353,47.2441 \n",
       "  \"/>\n",
       "<polyline clip-path=\"url(#clip6401)\" style=\"stroke:#000000; stroke-width:4; stroke-opacity:1; fill:none\" points=\"\n",
       "  470.992,1440.48 470.992,1419.58 \n",
       "  \"/>\n",
       "<polyline clip-path=\"url(#clip6401)\" style=\"stroke:#000000; stroke-width:4; stroke-opacity:1; fill:none\" points=\"\n",
       "  868.899,1440.48 868.899,1419.58 \n",
       "  \"/>\n",
       "<polyline clip-path=\"url(#clip6401)\" style=\"stroke:#000000; stroke-width:4; stroke-opacity:1; fill:none\" points=\"\n",
       "  1266.81,1440.48 1266.81,1419.58 \n",
       "  \"/>\n",
       "<polyline clip-path=\"url(#clip6401)\" style=\"stroke:#000000; stroke-width:4; stroke-opacity:1; fill:none\" points=\"\n",
       "  1664.71,1440.48 1664.71,1419.58 \n",
       "  \"/>\n",
       "<polyline clip-path=\"url(#clip6401)\" style=\"stroke:#000000; stroke-width:4; stroke-opacity:1; fill:none\" points=\"\n",
       "  2062.62,1440.48 2062.62,1419.58 \n",
       "  \"/>\n",
       "<polyline clip-path=\"url(#clip6401)\" style=\"stroke:#000000; stroke-width:4; stroke-opacity:1; fill:none\" points=\"\n",
       "  212.353,1281.56 243.986,1281.56 \n",
       "  \"/>\n",
       "<polyline clip-path=\"url(#clip6401)\" style=\"stroke:#000000; stroke-width:4; stroke-opacity:1; fill:none\" points=\"\n",
       "  212.353,1042.59 243.986,1042.59 \n",
       "  \"/>\n",
       "<polyline clip-path=\"url(#clip6401)\" style=\"stroke:#000000; stroke-width:4; stroke-opacity:1; fill:none\" points=\"\n",
       "  212.353,803.608 243.986,803.608 \n",
       "  \"/>\n",
       "<polyline clip-path=\"url(#clip6401)\" style=\"stroke:#000000; stroke-width:4; stroke-opacity:1; fill:none\" points=\"\n",
       "  212.353,564.63 243.986,564.63 \n",
       "  \"/>\n",
       "<polyline clip-path=\"url(#clip6401)\" style=\"stroke:#000000; stroke-width:4; stroke-opacity:1; fill:none\" points=\"\n",
       "  212.353,325.653 243.986,325.653 \n",
       "  \"/>\n",
       "<polyline clip-path=\"url(#clip6401)\" style=\"stroke:#000000; stroke-width:4; stroke-opacity:1; fill:none\" points=\"\n",
       "  212.353,86.6754 243.986,86.6754 \n",
       "  \"/>\n",
       "<g clip-path=\"url(#clip6401)\">\n",
       "<text style=\"fill:#000000; fill-opacity:1; font-family:Arial,Helvetica Neue,Helvetica,sans-serif; font-size:48px; text-anchor:middle;\" transform=\"rotate(0, 470.992, 1494.48)\" x=\"470.992\" y=\"1494.48\">-4</text>\n",
       "</g>\n",
       "<g clip-path=\"url(#clip6401)\">\n",
       "<text style=\"fill:#000000; fill-opacity:1; font-family:Arial,Helvetica Neue,Helvetica,sans-serif; font-size:48px; text-anchor:middle;\" transform=\"rotate(0, 868.899, 1494.48)\" x=\"868.899\" y=\"1494.48\">-2</text>\n",
       "</g>\n",
       "<g clip-path=\"url(#clip6401)\">\n",
       "<text style=\"fill:#000000; fill-opacity:1; font-family:Arial,Helvetica Neue,Helvetica,sans-serif; font-size:48px; text-anchor:middle;\" transform=\"rotate(0, 1266.81, 1494.48)\" x=\"1266.81\" y=\"1494.48\">0</text>\n",
       "</g>\n",
       "<g clip-path=\"url(#clip6401)\">\n",
       "<text style=\"fill:#000000; fill-opacity:1; font-family:Arial,Helvetica Neue,Helvetica,sans-serif; font-size:48px; text-anchor:middle;\" transform=\"rotate(0, 1664.71, 1494.48)\" x=\"1664.71\" y=\"1494.48\">2</text>\n",
       "</g>\n",
       "<g clip-path=\"url(#clip6401)\">\n",
       "<text style=\"fill:#000000; fill-opacity:1; font-family:Arial,Helvetica Neue,Helvetica,sans-serif; font-size:48px; text-anchor:middle;\" transform=\"rotate(0, 2062.62, 1494.48)\" x=\"2062.62\" y=\"1494.48\">4</text>\n",
       "</g>\n",
       "<g clip-path=\"url(#clip6401)\">\n",
       "<text style=\"fill:#000000; fill-opacity:1; font-family:Arial,Helvetica Neue,Helvetica,sans-serif; font-size:48px; text-anchor:end;\" transform=\"rotate(0, 188.353, 1299.06)\" x=\"188.353\" y=\"1299.06\">-1</text>\n",
       "</g>\n",
       "<g clip-path=\"url(#clip6401)\">\n",
       "<text style=\"fill:#000000; fill-opacity:1; font-family:Arial,Helvetica Neue,Helvetica,sans-serif; font-size:48px; text-anchor:end;\" transform=\"rotate(0, 188.353, 1060.09)\" x=\"188.353\" y=\"1060.09\">0</text>\n",
       "</g>\n",
       "<g clip-path=\"url(#clip6401)\">\n",
       "<text style=\"fill:#000000; fill-opacity:1; font-family:Arial,Helvetica Neue,Helvetica,sans-serif; font-size:48px; text-anchor:end;\" transform=\"rotate(0, 188.353, 821.108)\" x=\"188.353\" y=\"821.108\">1</text>\n",
       "</g>\n",
       "<g clip-path=\"url(#clip6401)\">\n",
       "<text style=\"fill:#000000; fill-opacity:1; font-family:Arial,Helvetica Neue,Helvetica,sans-serif; font-size:48px; text-anchor:end;\" transform=\"rotate(0, 188.353, 582.13)\" x=\"188.353\" y=\"582.13\">2</text>\n",
       "</g>\n",
       "<g clip-path=\"url(#clip6401)\">\n",
       "<text style=\"fill:#000000; fill-opacity:1; font-family:Arial,Helvetica Neue,Helvetica,sans-serif; font-size:48px; text-anchor:end;\" transform=\"rotate(0, 188.353, 343.153)\" x=\"188.353\" y=\"343.153\">3</text>\n",
       "</g>\n",
       "<g clip-path=\"url(#clip6401)\">\n",
       "<text style=\"fill:#000000; fill-opacity:1; font-family:Arial,Helvetica Neue,Helvetica,sans-serif; font-size:48px; text-anchor:end;\" transform=\"rotate(0, 188.353, 104.175)\" x=\"188.353\" y=\"104.175\">4</text>\n",
       "</g>\n",
       "<g clip-path=\"url(#clip6401)\">\n",
       "<text style=\"fill:#000000; fill-opacity:1; font-family:Arial,Helvetica Neue,Helvetica,sans-serif; font-size:66px; text-anchor:middle;\" transform=\"rotate(0, 1266.81, 1590.4)\" x=\"1266.81\" y=\"1590.4\">Sepal Length, Setosa (cm)</text>\n",
       "</g>\n",
       "<g clip-path=\"url(#clip6401)\">\n",
       "<text style=\"fill:#000000; fill-opacity:1; font-family:Arial,Helvetica Neue,Helvetica,sans-serif; font-size:66px; text-anchor:middle;\" transform=\"rotate(-90, 57.6, 743.863)\" x=\"57.6\" y=\"743.863\">Sepal Width, Setosa (cm)</text>\n",
       "</g>\n",
       "<circle clip-path=\"url(#clip6403)\" style=\"fill:#000000; stroke:none; fill-opacity:1\" cx=\"272.039\" cy=\"1401.05\" r=\"18\"/>\n",
       "<circle clip-path=\"url(#clip6403)\" style=\"fill:#009af9; stroke:none; fill-opacity:1\" cx=\"272.039\" cy=\"1401.05\" r=\"14\"/>\n",
       "<circle clip-path=\"url(#clip6403)\" style=\"fill:#000000; stroke:none; fill-opacity:1\" cx=\"470.992\" cy=\"1281.56\" r=\"18\"/>\n",
       "<circle clip-path=\"url(#clip6403)\" style=\"fill:#009af9; stroke:none; fill-opacity:1\" cx=\"470.992\" cy=\"1281.56\" r=\"14\"/>\n",
       "<circle clip-path=\"url(#clip6403)\" style=\"fill:#000000; stroke:none; fill-opacity:1\" cx=\"669.946\" cy=\"1162.07\" r=\"18\"/>\n",
       "<circle clip-path=\"url(#clip6403)\" style=\"fill:#009af9; stroke:none; fill-opacity:1\" cx=\"669.946\" cy=\"1162.07\" r=\"14\"/>\n",
       "<circle clip-path=\"url(#clip6403)\" style=\"fill:#000000; stroke:none; fill-opacity:1\" cx=\"868.899\" cy=\"1042.59\" r=\"18\"/>\n",
       "<circle clip-path=\"url(#clip6403)\" style=\"fill:#009af9; stroke:none; fill-opacity:1\" cx=\"868.899\" cy=\"1042.59\" r=\"14\"/>\n",
       "<circle clip-path=\"url(#clip6403)\" style=\"fill:#000000; stroke:none; fill-opacity:1\" cx=\"1067.85\" cy=\"923.096\" r=\"18\"/>\n",
       "<circle clip-path=\"url(#clip6403)\" style=\"fill:#009af9; stroke:none; fill-opacity:1\" cx=\"1067.85\" cy=\"923.096\" r=\"14\"/>\n",
       "<circle clip-path=\"url(#clip6403)\" style=\"fill:#000000; stroke:none; fill-opacity:1\" cx=\"1266.81\" cy=\"803.608\" r=\"18\"/>\n",
       "<circle clip-path=\"url(#clip6403)\" style=\"fill:#009af9; stroke:none; fill-opacity:1\" cx=\"1266.81\" cy=\"803.608\" r=\"14\"/>\n",
       "<circle clip-path=\"url(#clip6403)\" style=\"fill:#000000; stroke:none; fill-opacity:1\" cx=\"1465.76\" cy=\"684.119\" r=\"18\"/>\n",
       "<circle clip-path=\"url(#clip6403)\" style=\"fill:#009af9; stroke:none; fill-opacity:1\" cx=\"1465.76\" cy=\"684.119\" r=\"14\"/>\n",
       "<circle clip-path=\"url(#clip6403)\" style=\"fill:#000000; stroke:none; fill-opacity:1\" cx=\"1664.71\" cy=\"564.63\" r=\"18\"/>\n",
       "<circle clip-path=\"url(#clip6403)\" style=\"fill:#009af9; stroke:none; fill-opacity:1\" cx=\"1664.71\" cy=\"564.63\" r=\"14\"/>\n",
       "<circle clip-path=\"url(#clip6403)\" style=\"fill:#000000; stroke:none; fill-opacity:1\" cx=\"1863.67\" cy=\"445.142\" r=\"18\"/>\n",
       "<circle clip-path=\"url(#clip6403)\" style=\"fill:#009af9; stroke:none; fill-opacity:1\" cx=\"1863.67\" cy=\"445.142\" r=\"14\"/>\n",
       "<circle clip-path=\"url(#clip6403)\" style=\"fill:#000000; stroke:none; fill-opacity:1\" cx=\"2062.62\" cy=\"325.653\" r=\"18\"/>\n",
       "<circle clip-path=\"url(#clip6403)\" style=\"fill:#009af9; stroke:none; fill-opacity:1\" cx=\"2062.62\" cy=\"325.653\" r=\"14\"/>\n",
       "<circle clip-path=\"url(#clip6403)\" style=\"fill:#000000; stroke:none; fill-opacity:1\" cx=\"2261.57\" cy=\"206.164\" r=\"18\"/>\n",
       "<circle clip-path=\"url(#clip6403)\" style=\"fill:#009af9; stroke:none; fill-opacity:1\" cx=\"2261.57\" cy=\"206.164\" r=\"14\"/>\n",
       "<polyline clip-path=\"url(#clip6403)\" style=\"stroke:#e26f46; stroke-width:4; stroke-opacity:1; fill:none\" points=\"\n",
       "  272.039,1042.59 470.992,946.994 669.946,851.403 868.899,755.812 1067.85,660.221 1266.81,564.63 1465.76,469.039 1664.71,373.448 1863.67,277.857 2062.62,182.266 \n",
       "  2261.57,86.6754 \n",
       "  \"/>\n",
       "</svg>\n"
      ]
     },
     "execution_count": 4,
     "metadata": {},
     "output_type": "execute_result"
    }
   ],
   "source": [
    "scatter(x, y, xlabel=\"Sepal Length, Setosa (cm)\", ylabel=\"Sepal Width, Setosa (cm)\", leg=false)\n",
    "plot!(x, data(model(x)), leg=false)"
   ]
  },
  {
   "cell_type": "code",
   "execution_count": null,
   "metadata": {},
   "outputs": [],
   "source": []
  },
  {
   "cell_type": "code",
   "execution_count": null,
   "metadata": {},
   "outputs": [],
   "source": [
    "#loss(x, y) = Flux.mse(model(x), y)"
   ]
  },
  {
   "cell_type": "code",
   "execution_count": 6,
   "metadata": {},
   "outputs": [
    {
     "data": {
      "text/plain": [
       "loss (generic function with 1 method)"
      ]
     },
     "execution_count": 6,
     "metadata": {},
     "output_type": "execute_result"
    }
   ],
   "source": [
    "function loss(x_, y_)\n",
    "  ŷ = model(x_)\n",
    "  sum((y_ .- ŷ).^2)\n",
    "end\n"
   ]
  },
  {
   "cell_type": "markdown",
   "metadata": {},
   "source": [
    "# Start the training loop\n"
   ]
  },
  {
   "cell_type": "code",
   "execution_count": null,
   "metadata": {},
   "outputs": [],
   "source": [
    "push!(losses, data(loss(sepal_length, sepal_width)))"
   ]
  },
  {
   "cell_type": "code",
   "execution_count": null,
   "metadata": {},
   "outputs": [],
   "source": [
    "# for current values of W and b, find the gradients with respect to the loss function.\n",
    "\n",
    "grads = gradient(\n",
    "    () -> loss(sepal_length, sepal_width), # anonymous function that takes no arguments.\n",
    "    Params([W, b])\n",
    ")"
   ]
  },
  {
   "cell_type": "code",
   "execution_count": null,
   "metadata": {},
   "outputs": [],
   "source": [
    "@show grads[W]\n",
    "@show grads[b]"
   ]
  },
  {
   "cell_type": "code",
   "execution_count": null,
   "metadata": {},
   "outputs": [],
   "source": [
    "update!(W, -0.0001.*grads[W])"
   ]
  },
  {
   "cell_type": "code",
   "execution_count": null,
   "metadata": {},
   "outputs": [],
   "source": [
    "update!(b, -0.0001.*grads[b])"
   ]
  },
  {
   "cell_type": "code",
   "execution_count": null,
   "metadata": {},
   "outputs": [],
   "source": []
  },
  {
   "cell_type": "code",
   "execution_count": 17,
   "metadata": {},
   "outputs": [
    {
     "data": {
      "image/svg+xml": [
       "<?xml version=\"1.0\" encoding=\"utf-8\"?>\n",
       "<svg xmlns=\"http://www.w3.org/2000/svg\" xmlns:xlink=\"http://www.w3.org/1999/xlink\" width=\"600\" height=\"400\" viewBox=\"0 0 2400 1600\">\n",
       "<defs>\n",
       "  <clipPath id=\"clip8600\">\n",
       "    <rect x=\"0\" y=\"0\" width=\"2000\" height=\"2000\"/>\n",
       "  </clipPath>\n",
       "</defs>\n",
       "<defs>\n",
       "  <clipPath id=\"clip8601\">\n",
       "    <rect x=\"0\" y=\"0\" width=\"2400\" height=\"1600\"/>\n",
       "  </clipPath>\n",
       "</defs>\n",
       "<polygon clip-path=\"url(#clip8601)\" points=\"\n",
       "0,1600 2400,1600 2400,0 0,0 \n",
       "  \" fill=\"#ffffff\" fill-rule=\"evenodd\" fill-opacity=\"1\"/>\n",
       "<defs>\n",
       "  <clipPath id=\"clip8602\">\n",
       "    <rect x=\"480\" y=\"0\" width=\"1681\" height=\"1600\"/>\n",
       "  </clipPath>\n",
       "</defs>\n",
       "<polygon clip-path=\"url(#clip8601)\" points=\"\n",
       "212.353,1440.48 2321.26,1440.48 2321.26,47.2441 212.353,47.2441 \n",
       "  \" fill=\"#ffffff\" fill-rule=\"evenodd\" fill-opacity=\"1\"/>\n",
       "<defs>\n",
       "  <clipPath id=\"clip8603\">\n",
       "    <rect x=\"212\" y=\"47\" width=\"2110\" height=\"1394\"/>\n",
       "  </clipPath>\n",
       "</defs>\n",
       "<polyline clip-path=\"url(#clip8603)\" style=\"stroke:#000000; stroke-width:2; stroke-opacity:0.1; fill:none\" points=\"\n",
       "  470.992,1440.48 470.992,47.2441 \n",
       "  \"/>\n",
       "<polyline clip-path=\"url(#clip8603)\" style=\"stroke:#000000; stroke-width:2; stroke-opacity:0.1; fill:none\" points=\"\n",
       "  868.899,1440.48 868.899,47.2441 \n",
       "  \"/>\n",
       "<polyline clip-path=\"url(#clip8603)\" style=\"stroke:#000000; stroke-width:2; stroke-opacity:0.1; fill:none\" points=\"\n",
       "  1266.81,1440.48 1266.81,47.2441 \n",
       "  \"/>\n",
       "<polyline clip-path=\"url(#clip8603)\" style=\"stroke:#000000; stroke-width:2; stroke-opacity:0.1; fill:none\" points=\"\n",
       "  1664.71,1440.48 1664.71,47.2441 \n",
       "  \"/>\n",
       "<polyline clip-path=\"url(#clip8603)\" style=\"stroke:#000000; stroke-width:2; stroke-opacity:0.1; fill:none\" points=\"\n",
       "  2062.62,1440.48 2062.62,47.2441 \n",
       "  \"/>\n",
       "<polyline clip-path=\"url(#clip8603)\" style=\"stroke:#000000; stroke-width:2; stroke-opacity:0.1; fill:none\" points=\"\n",
       "  212.353,1269.86 2321.26,1269.86 \n",
       "  \"/>\n",
       "<polyline clip-path=\"url(#clip8603)\" style=\"stroke:#000000; stroke-width:2; stroke-opacity:0.1; fill:none\" points=\"\n",
       "  212.353,1007.49 2321.26,1007.49 \n",
       "  \"/>\n",
       "<polyline clip-path=\"url(#clip8603)\" style=\"stroke:#000000; stroke-width:2; stroke-opacity:0.1; fill:none\" points=\"\n",
       "  212.353,745.119 2321.26,745.119 \n",
       "  \"/>\n",
       "<polyline clip-path=\"url(#clip8603)\" style=\"stroke:#000000; stroke-width:2; stroke-opacity:0.1; fill:none\" points=\"\n",
       "  212.353,482.745 2321.26,482.745 \n",
       "  \"/>\n",
       "<polyline clip-path=\"url(#clip8603)\" style=\"stroke:#000000; stroke-width:2; stroke-opacity:0.1; fill:none\" points=\"\n",
       "  212.353,220.372 2321.26,220.372 \n",
       "  \"/>\n",
       "<polyline clip-path=\"url(#clip8601)\" style=\"stroke:#000000; stroke-width:4; stroke-opacity:1; fill:none\" points=\"\n",
       "  212.353,1440.48 2321.26,1440.48 \n",
       "  \"/>\n",
       "<polyline clip-path=\"url(#clip8601)\" style=\"stroke:#000000; stroke-width:4; stroke-opacity:1; fill:none\" points=\"\n",
       "  212.353,1440.48 212.353,47.2441 \n",
       "  \"/>\n",
       "<polyline clip-path=\"url(#clip8601)\" style=\"stroke:#000000; stroke-width:4; stroke-opacity:1; fill:none\" points=\"\n",
       "  470.992,1440.48 470.992,1419.58 \n",
       "  \"/>\n",
       "<polyline clip-path=\"url(#clip8601)\" style=\"stroke:#000000; stroke-width:4; stroke-opacity:1; fill:none\" points=\"\n",
       "  868.899,1440.48 868.899,1419.58 \n",
       "  \"/>\n",
       "<polyline clip-path=\"url(#clip8601)\" style=\"stroke:#000000; stroke-width:4; stroke-opacity:1; fill:none\" points=\"\n",
       "  1266.81,1440.48 1266.81,1419.58 \n",
       "  \"/>\n",
       "<polyline clip-path=\"url(#clip8601)\" style=\"stroke:#000000; stroke-width:4; stroke-opacity:1; fill:none\" points=\"\n",
       "  1664.71,1440.48 1664.71,1419.58 \n",
       "  \"/>\n",
       "<polyline clip-path=\"url(#clip8601)\" style=\"stroke:#000000; stroke-width:4; stroke-opacity:1; fill:none\" points=\"\n",
       "  2062.62,1440.48 2062.62,1419.58 \n",
       "  \"/>\n",
       "<polyline clip-path=\"url(#clip8601)\" style=\"stroke:#000000; stroke-width:4; stroke-opacity:1; fill:none\" points=\"\n",
       "  212.353,1269.86 243.986,1269.86 \n",
       "  \"/>\n",
       "<polyline clip-path=\"url(#clip8601)\" style=\"stroke:#000000; stroke-width:4; stroke-opacity:1; fill:none\" points=\"\n",
       "  212.353,1007.49 243.986,1007.49 \n",
       "  \"/>\n",
       "<polyline clip-path=\"url(#clip8601)\" style=\"stroke:#000000; stroke-width:4; stroke-opacity:1; fill:none\" points=\"\n",
       "  212.353,745.119 243.986,745.119 \n",
       "  \"/>\n",
       "<polyline clip-path=\"url(#clip8601)\" style=\"stroke:#000000; stroke-width:4; stroke-opacity:1; fill:none\" points=\"\n",
       "  212.353,482.745 243.986,482.745 \n",
       "  \"/>\n",
       "<polyline clip-path=\"url(#clip8601)\" style=\"stroke:#000000; stroke-width:4; stroke-opacity:1; fill:none\" points=\"\n",
       "  212.353,220.372 243.986,220.372 \n",
       "  \"/>\n",
       "<g clip-path=\"url(#clip8601)\">\n",
       "<text style=\"fill:#000000; fill-opacity:1; font-family:Arial,Helvetica Neue,Helvetica,sans-serif; font-size:48px; text-anchor:middle;\" transform=\"rotate(0, 470.992, 1494.48)\" x=\"470.992\" y=\"1494.48\">-4</text>\n",
       "</g>\n",
       "<g clip-path=\"url(#clip8601)\">\n",
       "<text style=\"fill:#000000; fill-opacity:1; font-family:Arial,Helvetica Neue,Helvetica,sans-serif; font-size:48px; text-anchor:middle;\" transform=\"rotate(0, 868.899, 1494.48)\" x=\"868.899\" y=\"1494.48\">-2</text>\n",
       "</g>\n",
       "<g clip-path=\"url(#clip8601)\">\n",
       "<text style=\"fill:#000000; fill-opacity:1; font-family:Arial,Helvetica Neue,Helvetica,sans-serif; font-size:48px; text-anchor:middle;\" transform=\"rotate(0, 1266.81, 1494.48)\" x=\"1266.81\" y=\"1494.48\">0</text>\n",
       "</g>\n",
       "<g clip-path=\"url(#clip8601)\">\n",
       "<text style=\"fill:#000000; fill-opacity:1; font-family:Arial,Helvetica Neue,Helvetica,sans-serif; font-size:48px; text-anchor:middle;\" transform=\"rotate(0, 1664.71, 1494.48)\" x=\"1664.71\" y=\"1494.48\">2</text>\n",
       "</g>\n",
       "<g clip-path=\"url(#clip8601)\">\n",
       "<text style=\"fill:#000000; fill-opacity:1; font-family:Arial,Helvetica Neue,Helvetica,sans-serif; font-size:48px; text-anchor:middle;\" transform=\"rotate(0, 2062.62, 1494.48)\" x=\"2062.62\" y=\"1494.48\">4</text>\n",
       "</g>\n",
       "<g clip-path=\"url(#clip8601)\">\n",
       "<text style=\"fill:#000000; fill-opacity:1; font-family:Arial,Helvetica Neue,Helvetica,sans-serif; font-size:48px; text-anchor:end;\" transform=\"rotate(0, 188.353, 1287.36)\" x=\"188.353\" y=\"1287.36\">-1</text>\n",
       "</g>\n",
       "<g clip-path=\"url(#clip8601)\">\n",
       "<text style=\"fill:#000000; fill-opacity:1; font-family:Arial,Helvetica Neue,Helvetica,sans-serif; font-size:48px; text-anchor:end;\" transform=\"rotate(0, 188.353, 1024.99)\" x=\"188.353\" y=\"1024.99\">0</text>\n",
       "</g>\n",
       "<g clip-path=\"url(#clip8601)\">\n",
       "<text style=\"fill:#000000; fill-opacity:1; font-family:Arial,Helvetica Neue,Helvetica,sans-serif; font-size:48px; text-anchor:end;\" transform=\"rotate(0, 188.353, 762.619)\" x=\"188.353\" y=\"762.619\">1</text>\n",
       "</g>\n",
       "<g clip-path=\"url(#clip8601)\">\n",
       "<text style=\"fill:#000000; fill-opacity:1; font-family:Arial,Helvetica Neue,Helvetica,sans-serif; font-size:48px; text-anchor:end;\" transform=\"rotate(0, 188.353, 500.245)\" x=\"188.353\" y=\"500.245\">2</text>\n",
       "</g>\n",
       "<g clip-path=\"url(#clip8601)\">\n",
       "<text style=\"fill:#000000; fill-opacity:1; font-family:Arial,Helvetica Neue,Helvetica,sans-serif; font-size:48px; text-anchor:end;\" transform=\"rotate(0, 188.353, 237.872)\" x=\"188.353\" y=\"237.872\">3</text>\n",
       "</g>\n",
       "<g clip-path=\"url(#clip8601)\">\n",
       "<text style=\"fill:#000000; fill-opacity:1; font-family:Arial,Helvetica Neue,Helvetica,sans-serif; font-size:66px; text-anchor:middle;\" transform=\"rotate(0, 1266.81, 1590.4)\" x=\"1266.81\" y=\"1590.4\">Sepal Length, Setosa (cm)</text>\n",
       "</g>\n",
       "<g clip-path=\"url(#clip8601)\">\n",
       "<text style=\"fill:#000000; fill-opacity:1; font-family:Arial,Helvetica Neue,Helvetica,sans-serif; font-size:66px; text-anchor:middle;\" transform=\"rotate(-90, 57.6, 743.863)\" x=\"57.6\" y=\"743.863\">Sepal Width, Setosa (cm)</text>\n",
       "</g>\n",
       "<circle clip-path=\"url(#clip8603)\" style=\"fill:#000000; stroke:none; fill-opacity:1\" cx=\"272.039\" cy=\"1401.05\" r=\"18\"/>\n",
       "<circle clip-path=\"url(#clip8603)\" style=\"fill:#009af9; stroke:none; fill-opacity:1\" cx=\"272.039\" cy=\"1401.05\" r=\"14\"/>\n",
       "<circle clip-path=\"url(#clip8603)\" style=\"fill:#000000; stroke:none; fill-opacity:1\" cx=\"470.992\" cy=\"1269.86\" r=\"18\"/>\n",
       "<circle clip-path=\"url(#clip8603)\" style=\"fill:#009af9; stroke:none; fill-opacity:1\" cx=\"470.992\" cy=\"1269.86\" r=\"14\"/>\n",
       "<circle clip-path=\"url(#clip8603)\" style=\"fill:#000000; stroke:none; fill-opacity:1\" cx=\"669.946\" cy=\"1138.68\" r=\"18\"/>\n",
       "<circle clip-path=\"url(#clip8603)\" style=\"fill:#009af9; stroke:none; fill-opacity:1\" cx=\"669.946\" cy=\"1138.68\" r=\"14\"/>\n",
       "<circle clip-path=\"url(#clip8603)\" style=\"fill:#000000; stroke:none; fill-opacity:1\" cx=\"868.899\" cy=\"1007.49\" r=\"18\"/>\n",
       "<circle clip-path=\"url(#clip8603)\" style=\"fill:#009af9; stroke:none; fill-opacity:1\" cx=\"868.899\" cy=\"1007.49\" r=\"14\"/>\n",
       "<circle clip-path=\"url(#clip8603)\" style=\"fill:#000000; stroke:none; fill-opacity:1\" cx=\"1067.85\" cy=\"876.305\" r=\"18\"/>\n",
       "<circle clip-path=\"url(#clip8603)\" style=\"fill:#009af9; stroke:none; fill-opacity:1\" cx=\"1067.85\" cy=\"876.305\" r=\"14\"/>\n",
       "<circle clip-path=\"url(#clip8603)\" style=\"fill:#000000; stroke:none; fill-opacity:1\" cx=\"1266.81\" cy=\"745.119\" r=\"18\"/>\n",
       "<circle clip-path=\"url(#clip8603)\" style=\"fill:#009af9; stroke:none; fill-opacity:1\" cx=\"1266.81\" cy=\"745.119\" r=\"14\"/>\n",
       "<circle clip-path=\"url(#clip8603)\" style=\"fill:#000000; stroke:none; fill-opacity:1\" cx=\"1465.76\" cy=\"613.932\" r=\"18\"/>\n",
       "<circle clip-path=\"url(#clip8603)\" style=\"fill:#009af9; stroke:none; fill-opacity:1\" cx=\"1465.76\" cy=\"613.932\" r=\"14\"/>\n",
       "<circle clip-path=\"url(#clip8603)\" style=\"fill:#000000; stroke:none; fill-opacity:1\" cx=\"1664.71\" cy=\"482.745\" r=\"18\"/>\n",
       "<circle clip-path=\"url(#clip8603)\" style=\"fill:#009af9; stroke:none; fill-opacity:1\" cx=\"1664.71\" cy=\"482.745\" r=\"14\"/>\n",
       "<circle clip-path=\"url(#clip8603)\" style=\"fill:#000000; stroke:none; fill-opacity:1\" cx=\"1863.67\" cy=\"351.559\" r=\"18\"/>\n",
       "<circle clip-path=\"url(#clip8603)\" style=\"fill:#009af9; stroke:none; fill-opacity:1\" cx=\"1863.67\" cy=\"351.559\" r=\"14\"/>\n",
       "<circle clip-path=\"url(#clip8603)\" style=\"fill:#000000; stroke:none; fill-opacity:1\" cx=\"2062.62\" cy=\"220.372\" r=\"18\"/>\n",
       "<circle clip-path=\"url(#clip8603)\" style=\"fill:#009af9; stroke:none; fill-opacity:1\" cx=\"2062.62\" cy=\"220.372\" r=\"14\"/>\n",
       "<circle clip-path=\"url(#clip8603)\" style=\"fill:#000000; stroke:none; fill-opacity:1\" cx=\"2261.57\" cy=\"89.1858\" r=\"18\"/>\n",
       "<circle clip-path=\"url(#clip8603)\" style=\"fill:#009af9; stroke:none; fill-opacity:1\" cx=\"2261.57\" cy=\"89.1858\" r=\"14\"/>\n",
       "<polyline clip-path=\"url(#clip8603)\" style=\"stroke:#e26f46; stroke-width:4; stroke-opacity:1; fill:none\" points=\"\n",
       "  272.039,1398.54 470.992,1267.35 669.946,1136.17 868.899,1004.98 1067.85,873.795 1266.81,742.608 1465.76,611.422 1664.71,480.235 1863.67,349.048 2062.62,217.862 \n",
       "  2261.57,86.6754 \n",
       "  \"/>\n",
       "</svg>\n"
      ]
     },
     "execution_count": 17,
     "metadata": {},
     "output_type": "execute_result"
    }
   ],
   "source": [
    "for i in 1:100\n",
    "    push!(losses, data(loss(x, y)))\n",
    "\n",
    "    grads = gradient(\n",
    "        () -> loss(x, y), # anonymous function that takes no arguments.\n",
    "        Params([m, b])\n",
    "    )\n",
    "\n",
    "    # This LR works if you are just tuning the y-intercept.\n",
    "#    update!(m, -0.001.*grads[m])\n",
    "#    update!(b, -0.001.*grads[b])\n",
    "\n",
    "    # THIS LR WORKS FOR JUST TUNING THE SLOPE.\n",
    "    update!(m, -0.001.*grads[m])\n",
    "    update!(b, -0.001.*grads[b])\n",
    "end\n",
    "\n",
    "scatter(x, y, xlabel=\"Sepal Length, Setosa (cm)\", ylabel=\"Sepal Width, Setosa (cm)\", leg=false)\n",
    "plot!(x, data(model(x)), leg=false)"
   ]
  },
  {
   "cell_type": "code",
   "execution_count": null,
   "metadata": {},
   "outputs": [],
   "source": [
    "plot(losses)"
   ]
  },
  {
   "cell_type": "code",
   "execution_count": null,
   "metadata": {},
   "outputs": [],
   "source": [
    "losses"
   ]
  },
  {
   "cell_type": "code",
   "execution_count": null,
   "metadata": {},
   "outputs": [],
   "source": [
    "b"
   ]
  },
  {
   "cell_type": "code",
   "execution_count": null,
   "metadata": {},
   "outputs": [],
   "source": [
    "3*1.3 - 1.75"
   ]
  },
  {
   "cell_type": "code",
   "execution_count": null,
   "metadata": {},
   "outputs": [],
   "source": [
    "W.data"
   ]
  },
  {
   "cell_type": "code",
   "execution_count": null,
   "metadata": {},
   "outputs": [],
   "source": [
    "sepal_length[1:5]"
   ]
  },
  {
   "cell_type": "code",
   "execution_count": null,
   "metadata": {},
   "outputs": [],
   "source": [
    "W.data .* sepal_length[1:5]"
   ]
  },
  {
   "cell_type": "code",
   "execution_count": null,
   "metadata": {},
   "outputs": [],
   "source": [
    "W.data .* sepal_length"
   ]
  },
  {
   "cell_type": "code",
   "execution_count": null,
   "metadata": {},
   "outputs": [],
   "source": [
    "data(model(sepal_length))\n"
   ]
  },
  {
   "cell_type": "code",
   "execution_count": null,
   "metadata": {},
   "outputs": [],
   "source": []
  },
  {
   "cell_type": "code",
   "execution_count": null,
   "metadata": {},
   "outputs": [],
   "source": []
  },
  {
   "cell_type": "code",
   "execution_count": null,
   "metadata": {},
   "outputs": [],
   "source": []
  },
  {
   "cell_type": "code",
   "execution_count": null,
   "metadata": {},
   "outputs": [],
   "source": []
  },
  {
   "cell_type": "code",
   "execution_count": null,
   "metadata": {},
   "outputs": [],
   "source": []
  },
  {
   "cell_type": "code",
   "execution_count": null,
   "metadata": {},
   "outputs": [],
   "source": [
    "@show W.data\n",
    "@show grads[W]\n",
    "\n",
    "\n",
    "\n",
    "@show Δ\n",
    "@show Δ.data\n",
    "@show -0.001.*grads[W]"
   ]
  },
  {
   "cell_type": "code",
   "execution_count": null,
   "metadata": {},
   "outputs": [],
   "source": [
    "W.data .+= data(-0.001.*grads[W])"
   ]
  },
  {
   "cell_type": "code",
   "execution_count": null,
   "metadata": {},
   "outputs": [],
   "source": [
    "W"
   ]
  },
  {
   "cell_type": "code",
   "execution_count": null,
   "metadata": {},
   "outputs": [],
   "source": [
    "using Flux.Tracker: tracker\n",
    "\n",
    "tracker(W).grad .= 0"
   ]
  },
  {
   "cell_type": "code",
   "execution_count": null,
   "metadata": {},
   "outputs": [],
   "source": [
    "grads[W]"
   ]
  },
  {
   "cell_type": "code",
   "execution_count": null,
   "metadata": {},
   "outputs": [],
   "source": [
    "# Update the parameter and reset the gradient\n",
    "@which update!(W, -0.001.*grads[W])\n",
    "#update!(b, -0.001.*grads[b])\n",
    "\n",
    "\n"
   ]
  },
  {
   "cell_type": "code",
   "execution_count": null,
   "metadata": {},
   "outputs": [],
   "source": [
    "loss(sepal_length, sepal_width)"
   ]
  },
  {
   "cell_type": "code",
   "execution_count": null,
   "metadata": {},
   "outputs": [],
   "source": []
  },
  {
   "cell_type": "code",
   "execution_count": null,
   "metadata": {},
   "outputs": [],
   "source": [
    "# ok, the model is w and b.\n",
    "\n",
    "# want to adjust those.\n",
    "\n",
    "# need a loss function, to then calculate the mse\n",
    "model(W, b, x) = W * x + b\n",
    "\n",
    "Tracker.gradient(f, 2, 3, 4)\n",
    "\n",
    "loss(x, y) = Flux.mse(model(x), y)"
   ]
  },
  {
   "cell_type": "code",
   "execution_count": null,
   "metadata": {},
   "outputs": [],
   "source": []
  }
 ],
 "metadata": {
  "kernelspec": {
   "display_name": "Julia 1.0.3",
   "language": "julia",
   "name": "julia-1.0"
  },
  "language_info": {
   "file_extension": ".jl",
   "mimetype": "application/julia",
   "name": "julia",
   "version": "1.0.3"
  }
 },
 "nbformat": 4,
 "nbformat_minor": 2
}
